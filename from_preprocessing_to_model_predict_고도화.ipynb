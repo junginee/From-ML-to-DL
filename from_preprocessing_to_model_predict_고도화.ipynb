{
  "cells": [
    {
      "cell_type": "markdown",
      "metadata": {
        "id": "view-in-github",
        "colab_type": "text"
      },
      "source": [
        "<a href=\"https://colab.research.google.com/github/junginee/From-ML-to-DL/blob/main/from_preprocessing_to_model_predict_%EA%B3%A0%EB%8F%84%ED%99%94.ipynb\" target=\"_parent\"><img src=\"https://colab.research.google.com/assets/colab-badge.svg\" alt=\"Open In Colab\"/></a>"
      ]
    },
    {
      "cell_type": "markdown",
      "metadata": {
        "id": "0Hs4uDg1rxUR"
      },
      "source": [
        "https://www.analyticsvidhya.com/blog/2022/01/sentiment-analysis-with-lstm/\n",
        "\n"
      ]
    },
    {
      "cell_type": "markdown",
      "metadata": {
        "id": "_u9KaIdF52YL"
      },
      "source": [
        "데이터 전처리 5단계\n",
        "\n",
        "1. 정규화로 한국어만 남기기\n",
        "\n",
        "2. 형태소 분석기로 어간 추출하기\n",
        "\n",
        "3. 불용어 제거하기\n",
        "\n",
        "4. 문자를 인덱스벡터로 전환하기\n",
        "\n",
        "5. 패딩처리하기"
      ]
    },
    {
      "cell_type": "code",
      "execution_count": null,
      "metadata": {
        "id": "smChMLVCH4P8"
      },
      "outputs": [],
      "source": [
        "from tensorflow.python.keras.layers import Embedding, Dense, LSTM\n",
        "from tensorflow.keras.layers import Bidirectional\n",
        "from tensorflow.python.keras.models import Sequential, load_model\n",
        "from tensorflow.python.keras.callbacks  import EarlyStopping,ModelCheckpoint\n",
        "import matplotlib.pyplot as plt\n",
        "import numpy as np\n",
        "import pandas as pd\n",
        "import re\n",
        "import urllib.request"
      ]
    },
    {
      "cell_type": "markdown",
      "metadata": {
        "id": "NOLb73OcHuEU"
      },
      "source": [
        "**1. 데이터 불러오기**"
      ]
    },
    {
      "cell_type": "code",
      "execution_count": null,
      "metadata": {
        "colab": {
          "base_uri": "https://localhost:8080/"
        },
        "id": "d7Ff6wXpHmNu",
        "outputId": "37c4222f-b4fe-4950-8820-30b11bd4e943"
      },
      "outputs": [
        {
          "output_type": "stream",
          "name": "stdout",
          "text": [
            "Mounted at /content/drive\n"
          ]
        }
      ],
      "source": [
        "from google.colab import drive\n",
        "drive.mount('/content/drive')\n",
        "\n",
        "train_data = pd.read_csv( '/content/train_data.csv',sep='\\t') \n",
        "test_data = pd.read_csv( '/content/test_data.csv',sep='\\t') "
      ]
    },
    {
      "cell_type": "markdown",
      "metadata": {
        "id": "FGrXfwlrIrrI"
      },
      "source": [
        "**2. train 데이터 긍정 / 부정 값의 분포 확인**"
      ]
    },
    {
      "cell_type": "code",
      "execution_count": null,
      "metadata": {
        "colab": {
          "base_uri": "https://localhost:8080/",
          "height": 262
        },
        "id": "JLq5KzSQIdUH",
        "outputId": "d7ae90eb-60df-42f0-821b-23c3cde91362"
      },
      "outputs": [
        {
          "output_type": "display_data",
          "data": {
            "text/plain": [
              "<Figure size 432x288 with 1 Axes>"
            ],
            "image/png": "[encoded data removed]"
          },
          "metadata": {
            "needs_background": "light"
          }
        }
      ],
      "source": [
        "train_data['label'].value_counts().plot(kind = 'bar', color='darkorange')\n",
        "plt.show()"
      ]
    },
    {
      "cell_type": "markdown",
      "metadata": {
        "id": "GXM8nzBUI0KL"
      },
      "source": [
        "**3. train 데이터 한글과 공백 제외하고 모두 제거**"
      ]
    },
    {
      "cell_type": "code",
      "execution_count": null,
      "metadata": {
        "colab": {
          "base_uri": "https://localhost:8080/"
        },
        "id": "4cIcEkE6Ium2",
        "outputId": "c06a10c9-3a55-4b7c-8c01-0c6dde87f6f6"
      },
      "outputs": [
        {
          "output_type": "stream",
          "name": "stderr",
          "text": [
            "/usr/local/lib/python3.7/dist-packages/ipykernel_launcher.py:1: FutureWarning: The default value of regex will change from True to False in a future version.\n",
            "  \"\"\"Entry point for launching an IPython kernel.\n"
          ]
        }
      ],
      "source": [
        "train_data['content'] = train_data['content'].str.replace(\"[^ㄱ-ㅎㅏ-ㅣ가-힣 ]\",\"\")\n"
      ]
    },
    {
      "cell_type": "markdown",
      "metadata": {
        "id": "_FzVIcjxJCCs"
      },
      "source": [
        "**4. train 데이터 빈 값을 가진 행 => Null 값으로 변경 및 제거**"
      ]
    },
    {
      "cell_type": "code",
      "execution_count": null,
      "metadata": {
        "colab": {
          "base_uri": "https://localhost:8080/"
        },
        "id": "jG1yr0ZSI5wH",
        "outputId": "dc868c28-6dd4-495f-ebfd-9b26dd1616ef"
      },
      "outputs": [
        {
          "output_type": "stream",
          "name": "stdout",
          "text": [
            "순서          0\n",
            "id          0\n",
            "content    17\n",
            "label       0\n",
            "dtype: int64\n",
            "4983\n"
          ]
        }
      ],
      "source": [
        "train_data['content'].replace('', np.nan, inplace = True) \n",
        "print(train_data.isnull().sum()) \n",
        "\n",
        "train_data = train_data.dropna(how = 'any')\n",
        "print(len(train_data)) "
      ]
    },
    {
      "cell_type": "markdown",
      "metadata": {
        "id": "TihTzYgFvtLz"
      },
      "source": [
        "- 공백은 null 값으로 변경\n",
        "- 17개 결측치 존재하지 않음"
      ]
    },
    {
      "cell_type": "markdown",
      "metadata": {
        "id": "GOdqy9daCFoz"
      },
      "source": [
        "**5. test 데이터 train 데이터와 동일 방법으로 전처리**"
      ]
    },
    {
      "cell_type": "code",
      "execution_count": null,
      "metadata": {
        "colab": {
          "base_uri": "https://localhost:8080/",
          "height": 429
        },
        "id": "AHdDUVAACIkq",
        "outputId": "f9db5a3a-0e98-4b5c-ad8d-78ddc68e1177"
      },
      "outputs": [
        {
          "output_type": "display_data",
          "data": {
            "text/plain": [
              "<Figure size 432x288 with 1 Axes>"
            ],
            "image/png": "[encoded data removed]"
          },
          "metadata": {
            "needs_background": "light"
          }
        },
        {
          "output_type": "stream",
          "name": "stdout",
          "text": [
            "순서         0\n",
            "id         0\n",
            "content    1\n",
            "label      0\n",
            "dtype: int64\n",
            "1999\n"
          ]
        },
        {
          "output_type": "stream",
          "name": "stderr",
          "text": [
            "/usr/local/lib/python3.7/dist-packages/ipykernel_launcher.py:4: FutureWarning: The default value of regex will change from True to False in a future version.\n",
            "  after removing the cwd from sys.path.\n"
          ]
        }
      ],
      "source": [
        "test_data['label'].value_counts().plot(kind = 'bar', color='blue')\n",
        "plt.show()\n",
        "\n",
        "test_data['content'] = test_data['content'].str.replace(\"[^ㄱ-ㅎㅏ-ㅣ가-힣 ]\",\"\")\n",
        "\n",
        "test_data['content'].replace('', np.nan, inplace = True) #공백은 null 값으로 변경\n",
        "print(test_data.isnull().sum()) \n",
        "test_data = test_data.dropna(how = 'any')\n",
        "print(len(test_data)) #1999"
      ]
    },
    {
      "cell_type": "markdown",
      "metadata": {
        "id": "ySQz3CduJRbe"
      },
      "source": [
        "**6. konlpy 설치**"
      ]
    },
    {
      "cell_type": "code",
      "execution_count": null,
      "metadata": {
        "colab": {
          "base_uri": "https://localhost:8080/"
        },
        "id": "K-aB7_ofUUaA",
        "outputId": "136fb25f-87f5-4778-a258-853ec9f60633"
      },
      "outputs": [
        {
          "output_type": "stream",
          "name": "stdout",
          "text": [
            "Looking in indexes: https://pypi.org/simple, https://us-python.pkg.dev/colab-wheels/public/simple/\n",
            "Collecting konlpy\n",
            "  Downloading konlpy-0.6.0-py2.py3-none-any.whl (19.4 MB)\n",
            "\u001b[K     |████████████████████████████████| 19.4 MB 29.0 MB/s \n",
            "\u001b[?25hCollecting JPype1>=0.7.0\n",
            "  Downloading JPype1-1.4.0-cp37-cp37m-manylinux_2_5_x86_64.manylinux1_x86_64.whl (453 kB)\n",
            "\u001b[K     |████████████████████████████████| 453 kB 59.5 MB/s \n",
            "\u001b[?25hRequirement already satisfied: lxml>=4.1.0 in /usr/local/lib/python3.7/dist-packages (from konlpy) (4.9.1)\n",
            "Requirement already satisfied: numpy>=1.6 in /usr/local/lib/python3.7/dist-packages (from konlpy) (1.21.6)\n",
            "Requirement already satisfied: typing-extensions in /usr/local/lib/python3.7/dist-packages (from JPype1>=0.7.0->konlpy) (4.1.1)\n",
            "Installing collected packages: JPype1, konlpy\n",
            "Successfully installed JPype1-1.4.0 konlpy-0.6.0\n"
          ]
        }
      ],
      "source": [
        "!pip install konlpy"
      ]
    },
    {
      "cell_type": "markdown",
      "metadata": {
        "id": "ljqpUCUi2WvM"
      },
      "source": [
        "**7. 토큰화**"
      ]
    },
    {
      "cell_type": "code",
      "execution_count": null,
      "metadata": {
        "colab": {
          "base_uri": "https://localhost:8080/"
        },
        "id": "AMUWYibgJNa6",
        "outputId": "90387901-f9c2-4143-aa67-8fd652066ff3"
      },
      "outputs": [
        {
          "output_type": "stream",
          "name": "stderr",
          "text": [
            "100%|██████████| 4983/4983 [00:22<00:00, 218.58it/s]\n"
          ]
        },
        {
          "output_type": "stream",
          "name": "stdout",
          "text": [
            "[[], [], ['귀엽다', '윤', '화씨', '두', '분다', '귀엽다'], ['소보로빵'], ['여기', '화장실', '어디', '에요', '저희', '화장실', '따로', '없다'], ['년', '월', '평일', '저녁', '방문', '알차다', '보이다', '구성', '별', '결함', '없다', '파스타', '다닥다닥', '붙다', '자리', '별', '특색', '없다', '파스타'], ['우리', '타고나다', '러너', '사장', '님', '말씀', '친절하다', '사장', '님', '매다', '님', '덕분', '많이', '배우다', '구매', '행복하다', '불다', '고맙다'], ['군', '군', '금', '있다', '자다', '모두', '궁금하다', '대한민국', '에서', '곳', '만', '있다', '그', '곳곱', '곱창', '맛', '끝내주다', '창', '참말', '로', '치다', '구만', '요'], ['군침', '주다', '자다', '사람', '벌떡', '일어나다', '그녀', '대세', '히', '밥', '거', '아시', '죠', '없다', '사랑', '애정', '히', '밥', '에게', '쏟다', '주', '세', '염', '곱창', '물론', '군자', '대', '곱창', '이지', '요', '창창하다', '앞날', '번창'], ['별로', '맛', '없다', '밍밍', '국물']]\n"
          ]
        },
        {
          "output_type": "stream",
          "name": "stderr",
          "text": [
            "100%|██████████| 1999/1999 [00:06<00:00, 301.37it/s]"
          ]
        },
        {
          "output_type": "stream",
          "name": "stdout",
          "text": [
            "[['음식', '사진', '보다', '많이', '달라', '요', '요리', '분', '바뀌다', '거', '같다', '다른', '안주', '짜다', '달다', '해도', '술', '자다', '들어가다', '나쁘다', '않다', '다만', '모', '찌리', '후', '실망하다', '싶다', '않다', '절대', '시키다', '말다', '그리고', '밑', '알바생', '분', '말', '공감', '가다', '지점', '장', '보이다', '분만', '광장', '히', '열심히', 'ㅋㅋ'], ['음식', '맛', '별로', '에요', '구반포역', '쪽', '식사', '때', '없다', '한번', '씩', '가다', '집', '이에요', '만두국', '시키다', '간도', '전혀', '안되다', '만두', '속', '재료', '두부', '로', '채우다', '진짜', '맛없다', '더', '황당하다', '이번', '써다', '빙하', '아주머니', '완전', '매너', '없다', '전', '있다', '아주머니', '목소리', '많이', '크다', '손님', '들어오다', '어서', '오다', '라고', '인사', '해주다', '지금', '아주머니', '손님', '들어오다', '알다', '척도', '안', '하고', '건너편', '테이블', '손님', '주문', '사장', '님', '사장', '님', '여러', '번', '부르다', '그때', '서다', '잠시', '만', '요', '라고', '응대', '하고', '갈비탕', '먹다', '김치', '더', '달라', '하니', '대답', '안', '하고', '툭', '던지다', '갖다', '음식', '먹다', '마스크', '쓸다', '준비', '계산', '대', '앞', '에서', '빨다', '쳐다보다', '빨리', '계산', '하고', '가라', '느낌', '포장', '손님', '오', '니까', '기분', '내', '키', '면', '안녕하다', '라고', '인사', '하고', '이집', '음식', '맛', '별', '론데', '써다', '빙', '보다', '아줌마', '까지', '너무', '불친절하다', '진짜', '가기', '싫다', '그냥', '호점', '에서', '먹다', '옆집', '흥미', '북엇국', '집다', '반찬', '더', '달라', '하니', '엄청', '친절하다', '리필', '해주다', '원', '크다', '돈', '아니다', '내', '돈', '내다', '밥', '먹다', '먹다', '내내', '기분', '나쁘다', '죽다', '알다'], ['음식', '맛', '괜찮다', '편이', '에요', '갈비찜', '달달', '맛있다', '그런데', '서빙', '분', '서비스', '너무', '별로', '요', '가다', '때', '혼밥', '테이블', '만', '있다', '전', '에도', '오다', '집', '이라', '테이블', '앉다', '얼른', '주문', '아무렇다', '대답', '없이', '무시', '보', '니까', '한쪽', '귀', '선', '되다', '이어폰', '꼽', '계시다', '반찬', '이나', '음식', '가다', '줄다', '때', '뚱하다', '표정', '이고', '메뉴', '대해', '물어보다', '눈', '안', '마주치다', '건성', '대답', '볼일', '끝나다', '다시', '한쪽', '구석', '테이블', '로', '돌아가다', '등', '돌리다', '폰', '만', '저', '뿐', '만', '아니다', '같이', '있다', '사람', '기분', '상', '사장', '님', '께서', '보다', '이렇다', '부분', '신경', '써주다', '좋다', '것', '같다'], ['음식', '맛', '괜찮다', '직원', '분들', '정말', '기분', '나쁘다', '두', '번', '다시', '가기', '싫다', '냉삼', '주문', '삼', '합', '맛있다', '뭐', '맛있다', '모르다', '냉삼', '주문', '죄송하다', '말씀드리다', '삼', '합', '처럼', '구성', '다시', '어떻다', '물다', '키조개', '만', '추가', '되다', '그렇게', '추가', '부탁드리다', '말씀', '드리다', '그런데', '주방', '에서', '대놓고', '들다', '식', '크다', '소리', '로', '이야기', '아예', '처음', '주문', '때', '그렇게', '주문', '되다', '뭐', '식', '다짜고짜', '메뉴', '바꾸다', '달다', '것', '아니다', '처음', '오다', '모르다', '주문', '삼', '합', '처럼', '어떻다', '물다', '키조개', '만', '추가', '내용', '구성', '똑같다', '돈', '더', '내다', '주', '문', '건데', '저런', '소리', '들다', '또', '가야', '의문', '이네', '요', '먹다', '내내', '기분', '더럽다'], ['음식', '자신', '만의', '철학', '있다'], ['음식', '에서', '머리카락', '나오다'], ['음식', '에서', '벌레', '나오다', '머리카락', '나오다', '난리', '남', '그래도', '몇', '번', '더', '가다', '매번', '음식', '나오다', '오래', '걸리다', '하지만', '가지', '튀김', '초밥', '굿'], ['음식', '가격', '대비', '괜찮다', '직원', '교육', '자다', '안되다', '있다', '불친절', '특히', '갈색', '옷', '입다', '여성', '분', '손님', '귀찮다', '그리고', '음식', '시키다', '이용', '시간', '코로나', '때문', '시간', '제한', '되다', '세상', '이런', '곳', '처음', '보다', '그냥', '테이블', '회전', '빨리', '개선', '되어다'], ['음식', '그냥', '저', '냥', '툴툴거리', '매다', '차다', '욕', '나오다', '어이', '그만', '나오다', '손님', '그리다', '싫다', '나', '같다', '때리다', '안', '나오다', '음식', '평가', '보다', '욕', '천지', '니', 'ㅉㅉㅉ'], ['음식', '그런대로', '먹다', '데', '직원', '정말', '엉망', '이다', '예약', '오다', '분', '넘다', '기다리다', '아마도', '예', '약', '석', '따로', '준비', '안', '하고', '예약', '손님', '오다', '순위', '로', '안내', '이렇다', '마인드', '겠다', '그런데', '저희', '명', '예약', '하고', '명', '자리', '날', '동안', '십분', '넘다', '기다리다', '서서', '기다리다', '대', '기석', '꽉차다', '그래서', '왜', '예약', '자리', '없다', '물어보다', '오다', '반문', '명', '자리', '예약', '조금', '늦다', '사람', '있다', '수도', '있다', '무슨', '그딴', '질문', '있다', '그래서', '명', '정도', '오다', '인석', '안내', '이렇다', '어이없다', '곳', '이다', '요리', '분', '나름', '고생', '것', '같다', '음식', '나쁘다', '않다', '그런데', '시스템', '너무', '엉망', '예요', '좋다', '날', '가다', '기', '분잡', '치기', '딱', '좋다', '랄', '끄다', '일단', '카운터', '보시', '분', '너무', '능력', '딸리다', '저희', '일행', '중', '늦다', '온', '사람', '분', '늦음', '안', '일행', '있다', '계속', '잠깐', '기다리다', '앞', '에서', '한참', '기다리다', '말', '안', '통해', '서', '그냥', '들어오다', '다시다', '안', '가다', '싶다', '점도', '아깝다', '주차', '헬인건', '덤']]\n"
          ]
        },
        {
          "output_type": "stream",
          "name": "stderr",
          "text": [
            "\n"
          ]
        }
      ],
      "source": [
        "\n",
        "\n",
        "from konlpy.tag import Okt\n",
        "from tqdm import tqdm\n",
        "\n",
        "stopwords = ['의','가','이','은','들','는','좀','잘','걍','과','도','를','으로','자','에','와','한','하다','다','하','고','을','인','듯','네','지','임','게']\n",
        "\n",
        "okt = Okt()\n",
        "\n",
        "x_train = []\n",
        "for sentence in tqdm(train_data['content']):\n",
        "    tokenized_sentence = okt.morphs(sentence, stem=True) # 토큰화\n",
        "    stopwords_removed_sentence = [word for word in tokenized_sentence if not word in stopwords] # 불용어 제거\n",
        "    x_train.append(stopwords_removed_sentence)\n",
        "print(x_train[:10])\n",
        "\n",
        "x_test = []\n",
        "for sentence in tqdm(test_data['content']):\n",
        "    tokenized_sentence = okt.morphs(sentence, stem=True) # 토큰화\n",
        "    stopwords_removed_sentence = [word for word in tokenized_sentence if not word in stopwords] # 불용어 제거\n",
        "    x_test.append(stopwords_removed_sentence)\n",
        "print( x_test[:10])"
      ]
    },
    {
      "cell_type": "markdown",
      "metadata": {
        "id": "A8RIGjJkrTOv"
      },
      "source": []
    },
    {
      "cell_type": "markdown",
      "metadata": {
        "id": "MSnqHm4dKFTR"
      },
      "source": [
        " - Okt의 stem = True를 사용하면 일정 수준의 정규화를 수행해, 단어들을 알아서 정규화 해주고, 오타도 수정해주는 기능을 가지고 있다.\n",
        "\n",
        "- 형태소 분석기로 토큰화해준 이유는 같은 단어일지라도 형태소(예:의, 를, 가, 도 등)와 붙어있으면 기계는 전부 다른 단어로 인식하게 된다.\n",
        "\n",
        "- 토큰이란? 문법적으로 더 이상 나눌 수 없는 언어요소\n",
        "\n",
        "- 텍스트 토큰화? 말뭉치로부터 토큰을 분리하는 작업"
      ]
    },
    {
      "cell_type": "markdown",
      "metadata": {
        "id": "BLxLtBo3XYWS"
      },
      "source": [
        "**8. 정수 인코딩**"
      ]
    },
    {
      "cell_type": "code",
      "execution_count": null,
      "metadata": {
        "colab": {
          "base_uri": "https://localhost:8080/"
        },
        "id": "4mATSFukFR0t",
        "outputId": "6cf21472-2001-48af-e838-fd3c9f4b35f4"
      },
      "outputs": [
        {
          "output_type": "stream",
          "name": "stdout",
          "text": [
            "{'먹다': 1, '안': 2, '없다': 3, '너무': 4, '있다': 5, '보다': 6, '맛': 7, '좋다': 8, '가다': 9, '맛있다': 10, '분': 11, '같다': 12, '로': 13, '아니다': 14, '이다': 15, '요': 16, '만': 17, '에서': 18, '않다': 19, '나오다': 20, '되다': 21, '오다': 22, '진짜': 23, '때': 24, '님': 25, '하고': 26, '그냥': 27, '들다': 28, '것': 29, '저': 30, '못': 31, '직원': 32, '사장': 33, '사람': 34, '받다': 35, '그렇다': 36, '곳': 37, '가격': 38, '손님': 39, '음식': 40, '그': 41, '시간': 42, '여기': 43, '더': 44, '불친절하다': 45, '영상': 46, 'ㅠㅠ': 47, '말': 48, '주다': 49, '다른': 50, '알다': 51, '나': 52, '해주다': 53, '넘다': 54, '두': 55, '주문': 56, '적': 57, '많다': 58, '시키다': 59, '친절하다': 60, '언니': 61, '별로': 62, '거': 63, '곱창': 64, '많이': 65, '자다': 66, '서': 67, '서비스': 68, '왜': 69, '나다': 70, '집': 71, '정말': 72, '일': 73, '고기': 74, '인데': 75, '기분': 76, '말다': 77, '싶다': 78, '보고': 79, '제': 80, '모르다': 81, '내': 82, '수': 83, '하나': 84, '안되다': 85, '아': 86, '밥': 87, '정도': 88, '귀엽다': 89, '면': 90, '까지': 91, '양': 92, '쓰다': 93, '랑': 94, '대': 95, '개': 96, '다시다': 97, '점': 98, '다이어트': 99, '처음': 100, 'ㅠ': 101, '생각': 102, 'ㅎㅎ': 103, '부터': 104, 'ㅋㅋ': 105, '다시': 106, '아깝다': 107, '돈': 108, '함': 109, '뭐': 110, '원': 111, '엄청': 112, '갈다': 113, '중': 114, '시': 115, '비싸다': 116, '마르다': 117, '기다리다': 118, '운동': 119, '이랑': 120, '또': 121, '들어가다': 122, '탕': 123, '메뉴': 124, '이렇게': 125, '인지': 126, '전': 127, '가게': 128, '박봄': 129, '대창': 130, '느낌': 131, '방문': 132, '번': 133, '불친절': 134, '괜찮다': 135, '장사': 136, '이라': 137, '별': 138, '근데': 139, '얼굴': 140, '적다': 141, '여': 142, '웅이님': 143, '알바생': 144, '어떻다': 145, '이나': 146, '오늘': 147, '알바': 148, '니': 149, '보이다': 150, '나쁘다': 151, '한번': 152, '테이블': 153, '건지다': 154, '공복': 155, '넣다': 156, '만들다': 157, '이렇다': 158, '최악': 159, '그리고': 160, '가지': 161, '냄새': 162, '분위기': 163, '계속': 164, 'ㅋㅋㅋ': 165, '해보다': 166, '짜다': 167, '봄': 168, '알': 169, '맛없다': 170, '매장': 171, '줄': 172, '한테': 173, '물어보다': 174, '같이': 175, '여자': 176, '라': 177, '차다': 178, '크다': 179, '빼다': 180, '배달': 181, '완전': 182, '살': 183, '남자': 184, '내다': 185, '비': 186, '유': 187, '좋아하다': 188, 'ㅜㅜ': 189, '리뷰': 190, '가보다': 191, '이고': 192, '맛집': 193, '나가다': 194, '국물': 195, '계산': 196, '달라': 197, '앞': 198, '버리다': 199, '돼다': 200, '절대': 201, '남기다': 202, '엔': 203, '기': 204, '몇': 205, '커피': 206, '기본': 207, '노래': 208, '뛰다': 209, '자리': 210, '분들': 211, '조금': 212, '추천': 213, '관리': 214, '최고': 215, '항상': 216, '걸': 217, '자주': 218, '라고': 219, '없이': 220, '포장': 221, '빠지다': 222, '이쁘다': 223, '맞다': 224, '산소': 225, '여기다': 226, '어디': 227, '추가': 228, '위생': 229, '앉다': 230, '마다': 231, '에는': 232, '딱': 233, '명': 234, '지금': 235, '반찬': 236, '식당': 237, '감사하다': 238, '물': 239, '응대': 240, '바로': 241, '김밥': 242, '처럼': 243, '찾다': 244, '서다': 245, '움': 246, '살다': 247, '꼭': 248, '이에요': 249, '때문': 250, '아주': 251, '남다': 252, '아무': 253, 'ㅋㅋㅋㅋ': 254, '빵': 255, '성형': 256, '드리다': 257, '소스': 258, '닭': 259, '아쉽다': 260, '떨어지다': 261, '날': 262, '무슨': 263, '년': 264, '지다': 265, '옆': 266, '후': 267, '제대로': 268, '매우': 269, '샐러드': 270, '예쁘다': 271, '입': 272, '식사': 273, 'ㅎ': 274, '찌다': 275, '늘다': 276, '전화': 277, '영화': 278, '재료': 279, '이상': 280, '눈': 281, '다르다': 282, '씩': 283, '만원': 284, '되어다': 285, '걸리다': 286, '상태': 287, '주방': 288, '천원': 289, '이제': 290, '가성': 291, '에요': 292, '우리': 293, '궁금하다': 294, '치다': 295, '사랑': 296, '대다': 297, '싫다': 298, '니까': 299, '비다': 300, '안좋다': 301, '고객': 302, 'ㅡㅡ': 303, '에게': 304, '건': 305, '얘기': 306, '해': 307, '등': 308, '이네': 309, '문': 310, '예약': 311, '싸다': 312, '손': 313, '깔끔하다': 314, '식': 315, '뭔가': 316, '문제': 317, '이라고': 318, '자기': 319, '달다': 320, '원래': 321, '동네': 322, '사다': 323, '혹시': 324, '튀김': 325, '요즘': 326, '그렇게': 327, '들어오다': 328, '시작': 329, '실망': 330, '야하다': 331, '밖에': 332, '사진': 333, '윤화님': 334, '구': 335, '재': 336, '지점': 337, '보': 338, '저녁': 339, '어': 340, '쓸다': 341, '대단하다': 342, '다음': 343, '후기': 344, '이상하다': 345, '음료': 346, '써다': 347, '이해': 348, '짜증': 349, '떡볶이': 350, '친구': 351, '용': 352, '모습': 353, '라면': 354, 'ㅋ': 355, '아침': 356, '바쁘다': 357, '마스크': 358, '응원': 359, '남': 360, '그래서': 361, '찍다': 362, 'ㅜ': 363, '두다': 364, '카페': 365, '역시': 366, '거기': 367, '치즈': 368, '주인': 369, '댓글': 370, '에도': 371, '힘들다': 372, '뒤': 373, '싸가지': 374, '인분': 375, '데': 376, '그래쓰님': 377, '재밌다': 378, '근처': 379, '약': 380, '생기다': 381, '화이팅': 382, '가요': 383, '건강하다': 384, '글': 385, '스럽다': 386, '계시다': 387, '느끼다': 388, '확인': 389, '먹방': 390, '장': 391, '웅': 392, '자체': 393, '치킨': 394, '반': 395, '예전': 396, '불다': 397, '쯤': 398, '결제': 399, '그릇': 400, '특히': 401, '교육': 402, '난': 403, '인가': 404, 'ㅠㅠㅠ': 405, '김치': 406, '만두': 407, '파스타': 408, '구매': 409, '제일': 410, '설명': 411, '서빙': 412, '바': 413, '사과': 414, '친절': 415, '가능하다': 416, '두부': 417, '영업': 418, '순': 419, '질': 420, '뜨다': 421, '참고': 422, '망하다': 423, '사': 424, '온': 425, '대비': 426, '야': 427, '이유': 428, '거의': 429, '마음': 430, '그래도': 431, '늦다': 432, '나서다': 433, '먼저': 434, '태도': 435, '달': 436, '배': 437, '혼자': 438, '놓다': 439, '기다': 440, '빨리': 441, '제발': 442, 'ㅋㅋㅋㅋㅋ': 443, '영': 444, '이용': 445, '말투': 446, '끄다': 447, '맥주': 448, '갈비': 449, '더럽다': 450, '상': 451, '잇다': 452, '양도': 453, '동안': 454, '정보': 455, '작다': 456, '심': 457, '기름': 458, '행복하다': 459, '다니다': 460, '끝': 461, '새롭다': 462, '오픈': 463, '아주머니': 464, '예요': 465, '뭔': 466, '미치다': 467, '오': 468, '따다': 469, '일단': 470, '모두': 471, '귀': 472, '대박': 473, '올리다': 474, '쉬다': 475, '돈까스': 476, '자극': 477, '전화하다': 478, '심하다': 479, '소리': 480, '아프다': 481, '늘': 482, '술': 483, '안주': 484, '속도': 485, '러닝': 486, '따르다': 487, '저희': 488, '이런': 489, '표정': 490, '죄송하다': 491, '가면': 492, '대답': 493, '잡다': 494, '오래': 495, '맘': 496, '몸': 497, '화': 498, '가슴': 499, '먹기': 500, '건가': 501, '타다': 502, '말씀': 503, '세': 504, '회': 505, '카드': 506, '야채': 507, 'ㅎㅎㅎ': 508, '입다': 509, '층': 510, '불편하다': 511, '종류': 512, '죠': 513, '이르다': 514, '대한': 515, '편': 516, '바꾸다': 517, '떡': 518, '듣다': 519, '참다': 520, '느껴지다': 521, '굉장하다': 522, '간': 523, '당': 524, '언제': 525, '집다': 526, '신경': 527, '보통': 528, '볶음밥': 529, '인사': 530, '굽다': 531, '믿다': 532, '솔직하다': 533, '귀찮다': 534, '키': 535, '위': 536, '어디서': 537, '모든': 538, '하루': 539, '누르다': 540, '갖다': 541, '안나': 542, '전혀': 543, '직접': 544, '오랜': 545, '바뀌다': 546, '의사': 547, '미리': 548, '착하다': 549, '얼마나': 550, '살이': 551, '비추다': 552, '가세': 553, '입맛': 554, '피자': 555, '양념': 556, '수준': 557, '이라도': 558, '밑': 559, '전체': 560, '속': 561, '점심': 562, '그대로': 563, '마감': 564, '쏘다': 565, '매': 566, '머리': 567, '제품': 568, '코로나': 569, '부분': 570, '보기': 571, '저렇게': 572, '방송': 573, '주': 574, '하니': 575, '그리다': 576, '한마디': 577, '어렵다': 578, '본인': 579, '안내': 580, '마지막': 581, '요리': 582, '감': 583, '챙기다': 584, '볼': 585, '치우다': 586, '기억': 587, '정신': 588, '너': 589, '묻다': 590, '카운터': 591, '우동': 592, '지나다': 593, '하지만': 594, '식단': 595, '땐': 596, '무조건': 597, '열심히': 598, '할인': 599, '주변': 600, '어제': 601, '따로': 602, '덥다': 603, '동': 604, '인상': 605, '불쾌하다': 606, '쓰레기': 607, '종업원': 608, '시끄럽다': 609, '지만': 610, '낮다': 611, '그런': 612, '키로': 613, '멋지다': 614, '깨끗하다': 615, '일차': 616, '팅': 617, '눈치': 618, '끊다': 619, '사용': 620, '내일': 621, '아줌마': 622, '끼다': 623, '기대하다': 624, '끼': 625, '화장실': 626, '개인': 627, '향': 628, '여러': 629, '담배': 630, 'ㅋㅋㅋㅋㅋㅋ': 631, '이건': 632, '굳이': 633, '짱': 634, '물건': 635, '몇번': 636, '부르다': 637, '치고': 638, '께서': 639, '라는': 640, '짬뽕': 641, '홀': 642, '기대': 643, '끝나다': 644, '신다': 645, '급': 646, '거리': 647, '퀄리티': 648, '값': 649, '엉망': 650, '닦다': 651, '가깝다': 652, '사먹다': 653, '방': 654, '단골': 655, '둘': 656, '마인드': 657, '해도': 658, '옷': 659, '개도': 660, '상추': 661, '점도': 662, '찾아가다': 663, '저렴하다': 664, '웨이': 665, '신선하다': 666, '헬스장': 667, '도전': 668, '왕': 669, '맞추다': 670, '막': 671, '사랑스럽다': 672, '히': 673, '라서': 674, '그나마': 675, '바라다': 676, '만큼': 677, '마리': 678, '놀라다': 679, '세상': 680, '잘못': 681, '씹다': 682, '줌': 683, '담다': 684, '느끼하다': 685, '자꾸': 686, '쪽': 687, '평범하다': 688, '통': 689, '째': 690, '줄다': 691, '매력': 692, '여서': 693, '담': 694, '중요하다': 695, '존맛': 696, '자르다': 697, '씨': 698, '비슷하다': 699, '목소리': 700, '변하다': 701, '단': 702, '아예': 703, '이름': 704, '말고': 705, '연어': 706, '무엇': 707, '개다': 708, '배고프다': 709, '차': 710, '무': 711, '보내다': 712, '들리다': 713, '생각나다': 714, '계란': 715, '걸다': 716, '던지다': 717, '마시다': 718, '짐': 719, '딱딱하다': 720, '위해': 721, '안감': 722, '상황': 723, '닫다': 724, '주말': 725, '열다': 726, '결국': 727, '첨': 728, '누가': 729, '디저트': 730, '얼마': 731, '세트': 732, '크림': 733, '젤': 734, '티': 735, '밖': 736, '이면': 737, '어이없다': 738, '소': 739, '겁나다': 740, '빠르다': 741, '나중': 742, '물다': 743, '어이': 744, '터지다': 745, '이번': 746, '박해일': 747, '가족': 748, '밤': 749, '안경': 750, '대국': 751, '인가요': 752, '그것': 753, '오래되다': 754, '해달라다': 755, '습': 756, '우와': 757, '붙다': 758, '리': 759, '똑같다': 760, '돼지': 761, '팔다': 762, '뭘': 763, '심지어': 764, '지나가다': 765, '건강': 766, '그때': 767, '음악': 768, '언': 769, '훨씬': 770, '차라리': 771, '평점': 772, '진심': 773, '익다': 774, '필요하다': 775, '한참': 776, '옮기다': 777, '넓다': 778, '탕웨이': 779, '윤화언': 780, '탱': 781, '가야': 782, '힘드다': 783, '오징어': 784, '피': 785, '강아지': 786, '실수': 787, '없어지다': 788, '모': 789, '이라는': 790, '월': 791, '군': 792, '그저': 793, '채우다': 794, '머리카락': 795, '에선': 796, '욕': 797, '아저씨': 798, '급하다': 799, '찾아보다': 800, '라도': 801, '약간': 802, '화가': 803, '이미': 804, '무난': 805, '분만': 806, '가기': 807, '나이': 808, '파다': 809, '부탁드리다': 810, '아몬드': 811, '입장': 812, '조리': 813, '셀프': 814, '인터': 815, '벌': 816, '매일': 817, '편이': 818, '불': 819, '일이': 820, '뿐': 821, '뭐라다': 822, '그닥': 823, '라떼': 824, '공간': 825, '뼈': 826, '지는': 827, '대충': 828, '편의점': 829, '류': 830, '아이스크림': 831, '들이다': 832, '덮다': 833, '한개': 834, '충격': 835, '초밥': 836, '음': 837, '열': 838, '맨날': 839, '겁니다': 840, '아무리': 841, '오지': 842, '아직도': 843, '좁다': 844, '당연하다': 845, '당황': 846, '구독': 847, '가장': 848, '차이': 849, '여름': 850, 'ㅠㅠㅠㅠ': 851, '이신': 852, '든': 853, '아래': 854, '마약': 855, '성': 856, '예': 857, '웃기다': 858, '새우': 859, '콜라': 860, '무시': 861, '굳다': 862, '초': 863, '준비': 864, '조': 865, '버거': 866, '유산': 867, '옴': 868, '양은': 869, '가루': 870, '튀기다': 871, '어느': 872, '땡기다': 873, '지키다': 874, '접시': 875, '중간': 876, '갑자기': 877, '가끔': 878, '틀다': 879, '광고': 880, '생': 881, '시원하다': 882, '비리다': 883, '유명하다': 884, '냉동': 885, '구입': 886, '바닥': 887, '며': 888, '비빔면': 889, '물론': 890, '현금': 891, '께': 892, '그거': 893, '본': 894, '강하다': 895, '주차': 896, '힘': 897, '다양하다': 898, '예의': 899, '젊다': 900, '애': 901, '대체': 902, '청소': 903, '합방': 904, '울': 905, '맵다': 906, '준': 907, '휴': 908, '인생': 909, '옛날': 910, '사리': 911, '반말': 912, '쿠폰': 913, '꺼': 914, '죽다': 915, '팔': 916, '운영': 917, '대로': 918, '뻔하다': 919, '겠다': 920, '걷다': 921, '방법': 922, '고구마': 923, '살짝': 924, '단백질': 925, '다만': 926, '당면': 927, '안녕하다': 928, '웅이': 929, '냐': 930, '만족하다': 931, '웃다': 932, '번창': 933, '장난': 934, '컵': 935, '크게': 936, '인거': 937, '공감': 938, '음식점': 939, '기도': 940, '감자': 941, '멀다': 942, '이야기': 943, '신기하다': 944, '한잔': 945, '한국': 946, '한다는': 947, '보쌈': 948, '너무하다': 949, '부족하다': 950, '먹음': 951, '보이': 952, '냉면': 953, '누나': 954, '양심': 955, '편하다': 956, '해물': 957, '이야': 958, '개판': 959, '대부분': 960, '대기': 961, '효과': 962, '느리다': 963, '옥수수': 964, '쌈': 965, '잔': 966, '젠': 967, '여쭈다': 968, '안타깝다': 969, '고민': 970, '조합': 971, '니당다': 972, '차갑다': 973, '칼국수': 974, '꽃': 975, '연예인': 976, '배송': 977, '덕분': 978, '일어나다': 979, '아시': 980, '에서는': 981, '부드럽다': 982, '서울': 983, '꾸준하다': 984, '이기다': 985, '답': 986, '일부러': 987, '대하': 988, '상해': 989, '일반': 990, '끼리': 991, '공': 992, '빡치다': 993, '갓': 994, '처': 995, '잘생기다': 996, 'ㅋㅋㅋㅋㅋㅋㅋ': 997, '스테이크': 998, '식다': 999, '적당하다': 1000, '취급': 1001, '포함': 1002, '자극받다': 1003, '사이드': 1004, '확': 1005, '벨': 1006, '정리': 1007, '영수증': 1008, '함께': 1009, '쳐다보다': 1010, '최근': 1011, '울다': 1012, '결심': 1013, '자신': 1014, '윤화': 1015, '뿌리다': 1016, '타': 1017, '그걸': 1018, '연': 1019, '덩어리': 1020, '얼음': 1021, '매번': 1022, '퉁': 1023, '소주': 1024, '죽': 1025, '섞다': 1026, '런닝': 1027, '얼': 1028, '브랜드': 1029, '끓이다': 1030, '홍윤': 1031, '젓가락': 1032, '신고': 1033, '암튼': 1034, '카레': 1035, '찜': 1036, '새벽': 1037, '의자': 1038, '곱': 1039, '박찬욱': 1040, '고맙다': 1041, '요청': 1042, '내내': 1043, '어리다': 1044, '꼬치': 1045, '길': 1046, '선택': 1047, '누구': 1048, '아기': 1049, '드럽다': 1050, '올': 1051, '가라': 1052, '내부': 1053, '그런데': 1054, '사이즈': 1055, '줍다': 1056, '이지만': 1057, '상당하다': 1058, '지인': 1059, '강': 1060, '살찌다': 1061, '마치': 1062, '수고': 1063, '삶다': 1064, '주민': 1065, '메인': 1066, '주시': 1067, '인스타': 1068, '본사': 1069, '떠나다': 1070, '삼겹살': 1071, '육수': 1072, '구이': 1073, '알고리즘': 1074, '욥': 1075, '맵': 1076, '가볍다': 1077, 'ㅇ': 1078, '무섭다': 1079, '채소': 1080, '연기': 1081, '둘째': 1082, '딱하다': 1083, '확실하다': 1084, '김치찌개': 1085, '뻔': 1086, '제로': 1087, '아직': 1088, '가져가다': 1089, '걱정': 1090, '개념': 1091, '대해': 1092, '선': 1093, '래': 1094, '그만': 1095, '아름답다': 1096, '미안하다': 1097, '꾸다': 1098, '아들': 1099, 'ㅡ': 1100, '이란': 1101, '운': 1102, '창': 1103, '거짓말': 1104, '엄청나다': 1105, '엄마': 1106, '질문': 1107, '안함': 1108, '문의': 1109, '뚜껑': 1110, '방금': 1111, '소금': 1112, '국밥': 1113, '파리': 1114, '인테리어': 1115, '코스': 1116, '포기': 1117, '채': 1118, '볶음': 1119, '햇': 1120, 'ㅋㅋㅋㅋㅋㅋㅋㅋㅋ': 1121, '넘어가다': 1122, '시청': 1123, '장소': 1124, '비교': 1125, '짜증나다': 1126, '뜯다': 1127, '해드리다': 1128, '평': 1129, '고추': 1130, '밑반찬': 1131, '배우': 1132, '설사': 1133, '보여주다': 1134, '올라오다': 1135, '위치': 1136, '조각': 1137, '낮': 1138, '런가': 1139, '블로그': 1140, '뜨겁다': 1141, '되게': 1142, '만에': 1143, '봉지': 1144, '산': 1145, '게다가': 1146, '경험': 1147, '금방': 1148, '노': 1149, '필요': 1150, '발견': 1151, '마카롱': 1152, '우연히': 1153, '나누다': 1154, '부탁': 1155, '해장국': 1156, '꽤': 1157, '만족': 1158, '몸매': 1159, '체': 1160, '무릎': 1161, '부모님': 1162, '순대': 1163, '평소': 1164, '재고': 1165, '청결': 1166, '헤드셋': 1167, '근': 1168, '당신': 1169, '비포': 1170, '멋있다': 1171, '매니저': 1172, '윤': 1173, '구성': 1174, '이지': 1175, '반갑다': 1176, '정식': 1177, '둘이서': 1178, '부위': 1179, '강남': 1180, '주소': 1181, '브라': 1182, '밉다': 1183, '냥': 1184, '상한': 1185, '안다': 1186, '말씀드리다': 1187, '외': 1188, '높다': 1189, '이하': 1190, '따뜻하다': 1191, '거나': 1192, '부럽다': 1193, '일만': 1194, '케미': 1195, '짧다': 1196, '당하다': 1197, '연락': 1198, '분도': 1199, '전부': 1200, '올라가다': 1201, '보지': 1202, '씻다': 1203, '따지다': 1204, '메뉴판': 1205, '어쩔': 1206, '감독': 1207, '돌리다': 1208, '중독': 1209, '노력': 1210, '회사': 1211, '참치': 1212, '취소': 1213, '푸다': 1214, '장면': 1215, '국': 1216, '후회': 1217, '흑': 1218, '조심하다': 1219, '뒷': 1220, '인정': 1221, '근력': 1222, '대신': 1223, '과일': 1224, '시국': 1225, '안보': 1226, '창문': 1227, '플레이': 1228, '배부르다': 1229, '경우': 1230, '살빼다': 1231, '오후': 1232, '추다': 1233, '다가': 1234, '보다는': 1235, '소바': 1236, '보시': 1237, '바삭': 1238, '성공': 1239, '전반': 1240, '볼때': 1241, '스타일': 1242, '환불': 1243, '스럽게': 1244, '평범': 1245, '펴다': 1246, '지방': 1247, '척': 1248, '배민': 1249, '성격': 1250, '별하나': 1251, '재미있다': 1252, '사르다': 1253, 'ㅠㅠㅠㅠㅠ': 1254, '곰팡이': 1255, '우유': 1256, '밍밍': 1257, '무한리필': 1258, '첫': 1259, '사라지다': 1260, '오르다': 1261, '번째': 1262, '터': 1263, '벌레': 1264, '지도': 1265, '팀': 1266, '먼지': 1267, '백': 1268, '검색': 1269, '째다': 1270, '상보': 1271, '여전하다': 1272, '해주시': 1273, '필수': 1274, '말르다': 1275, '수가': 1276, '놀다': 1277, '가득': 1278, '사실': 1279, '곧': 1280, '점점': 1281, '가용': 1282, '도착': 1283, '통화': 1284, '금액': 1285, '병': 1286, '깔다': 1287, '불고기': 1288, '땀': 1289, '천천히': 1290, '분명': 1291, '성의': 1292, '한데': 1293, '난리': 1294, '와도': 1295, '우선': 1296, '아끼다': 1297, '고소하다': 1298, '순간': 1299, '넘치다': 1300, '조용하다': 1301, '이후': 1302, '어쩜': 1303, '맡다': 1304, '어머니': 1305, '여성': 1306, '충분하다': 1307, '원하다': 1308, '쭉': 1309, '으': 1310, '도움': 1311, '현재': 1312, '침': 1313, '는걸': 1314, '체력': 1315, '형편': 1316, '이라니': 1317, '닮다': 1318, '반성': 1319, '들어서다': 1320, '뷰': 1321, '바르다': 1322, '중국': 1323, '와플': 1324, '평일': 1325, '매다': 1326, '화나다': 1327, '어차피': 1328, '돼지고기': 1329, '파이팅': 1330, '낼': 1331, '껀': 1332, '숨다': 1333, '안해': 1334, '밀가루': 1335, '제육': 1336, '일행': 1337, '두번째': 1338, '항의': 1339, '똑바로': 1340, '양배추': 1341, '소고기': 1342, '익히다': 1343, '가시다': 1344, '부실하다': 1345, '땜': 1346, '돌아가다': 1347, '입구': 1348, '짝': 1349, '학생': 1350, '몇개': 1351, '년전': 1352, '표현': 1353, '족발': 1354, '데우다': 1355, '웬만하다': 1356, '켜다': 1357, '탕수육': 1358, '계': 1359, '덜': 1360, '약하다': 1361, '도로': 1362, '스시': 1363, '돌다': 1364, '아메리카노': 1365, '듯이': 1366, '마': 1367, '맨손': 1368, '장갑': 1369, '쓰시': 1370, '된장찌개': 1371, '기고': 1372, '작': 1373, '소식': 1374, '존경': 1375, '보다도': 1376, '저런': 1377, '시설': 1378, '실망하다': 1379, '기전': 1380, '교체': 1381, '썩다': 1382, '의미': 1383, '보단': 1384, '당장': 1385, '즐겁다': 1386, '쌀국수': 1387, '어울리다': 1388, '줄이다': 1389, '중국집': 1390, '장님': 1391, '크기': 1392, '강도': 1393, '예술': 1394, '손대다': 1395, '할머니': 1396, '버스': 1397, '언제나': 1398, '스트레스': 1399, '면서': 1400, '조절': 1401, '날다': 1402, '비위생적': 1403, '공유': 1404, '강추': 1405, '탑': 1406, '절': 1407, '사기': 1408, '놈': 1409, '리스트': 1410, '비비다': 1411, '아보카도': 1412, '잃다': 1413, '팬': 1414, '검사': 1415, '의지': 1416, '지르다': 1417, '잠깐': 1418, '머': 1419, '신발': 1420, '화씨': 1421, '주의': 1422, '까지는': 1423, '투': 1424, '저러다': 1425, '읽다': 1426, '디': 1427, '양파': 1428, '역대': 1429, '뻑뻑': 1430, 'ㅋㅋㅋㅋㅋㅋㅋㅋ': 1431, '수도': 1432, '어휴': 1433, '간이': 1434, '체크': 1435, '이서': 1436, '대응': 1437, '휴지': 1438, '고함': 1439, '사이': 1440, '오전': 1441, '일요일': 1442, 'ㅋㅋㅋㅋㅋㅋㅋㅋㅋㅋㅋㅋ': 1443, '타임': 1444, '판매': 1445, '김': 1446, '포인트': 1447, '특별하다': 1448, '갑': 1449, '넘어서다': 1450, '편안하다': 1451, '료': 1452, '폰': 1453, '거지': 1454, '프랜차이즈': 1455, '개선': 1456, '마트': 1457, '막다': 1458, '집중': 1459, '한두': 1460, '홍보': 1461, '대요': 1462, '여운': 1463, '가르치다': 1464, '제목': 1465, '잠시': 1466, '시간대': 1467, '장점': 1468, '매콤': 1469, '물어': 1470, '제공': 1471, '착용': 1472, '가져오다': 1473, '대꾸': 1474, '센터': 1475, '깜짝': 1476, '세번': 1477, '반복': 1478, '의심': 1479, '기다림': 1480, '이어서': 1481, '모양': 1482, '그러면': 1483, '감량': 1484, 'ㅋㅋㅋㅋㅋㅋㅋㅋㅋㅋㅋ': 1485, '에서도': 1486, '슬프다': 1487, '청결하다': 1488, '쉰': 1489, '촬영': 1490, '괜히': 1491, '계단': 1492, '어쩌': 1493, '피클': 1494, '샌드위치': 1495, '사항': 1496, '그만큼': 1497, '앙': 1498, '아아': 1499, '싫어하다': 1500, '성공하다': 1501, '생크림': 1502, '눅눅하다': 1503, '스콘': 1504, '불편': 1505, '녹다': 1506, '이라서': 1507, '속이다': 1508, '강사': 1509, '만나다': 1510, '몰다': 1511, '일주일': 1512, '힘내다': 1513, '신': 1514, '설마': 1515, '지고': 1516, '적히다': 1517, '와인': 1518, '그게': 1519, '냉장고': 1520, '고생': 1521, '닭강정': 1522, '공부': 1523, '취향': 1524, '이리': 1525, '굿': 1526, '재다': 1527, '막국수': 1528, 'ㅜㅜㅜ': 1529, 'ㅜㅜㅜㅜ': 1530, '테': 1531, '무리': 1532, '수저': 1533, '써주다': 1534, '천국': 1535, '스': 1536, '대표': 1537, '보임': 1538, '단체': 1539, '간다': 1540, '프로': 1541, '정확하다': 1542, '바퀴벌레': 1543, '모자': 1544, '네이버': 1545, '유지': 1546, '세다': 1547, '상품': 1548, '짝짝': 1549, '아이': 1550, '일찍': 1551, '법': 1552, '심각하다': 1553, '애기': 1554, '썸네일': 1555, '비계': 1556, '애프터': 1557, '동완': 1558, '에어컨': 1559, '려고': 1560, '현금영수증': 1561, '총': 1562, '빼': 1563, '적어도': 1564, '이전': 1565, '기준': 1566, '즐기다': 1567, '가능': 1568, '스포츠': 1569, '웃기': 1570, '조차': 1571, '인성': 1572, '업무': 1573, '내주다': 1574, '여유': 1575, '컴': 1576, '하자': 1577, '의문': 1578, '간장': 1579, '라멘': 1580, '배다': 1581, 'ㄹㅇ': 1582, '다리': 1583, '추하다': 1584, '대뜸': 1585, '기만': 1586, 'ㄷㄷ': 1587, 'ㅠㅠㅠㅠㅠㅠㅠ': 1588, '무게': 1589, '각': 1590, '신분': 1591, '독자': 1592, '나니': 1593, '세우다': 1594, '벌써': 1595, '달리다': 1596, '사고': 1597, '런닝머신': 1598, '로는': 1599, '이틀': 1600, '지난': 1601, '탈': 1602, '싸': 1603, '거들다': 1604, '소중하다': 1605, '짜장면': 1606, '으로도': 1607, '고르다': 1608, '불만': 1609, '서서': 1610, '행동': 1611, '찬': 1612, '도대체': 1613, '리필': 1614, '한쪽': 1615, '애초': 1616, '중이': 1617, '대화': 1618, '에만': 1619, '쌀': 1620, '가수': 1621, '찌': 1622, '뱃살': 1623, '순두부': 1624, '날씨': 1625, '왠만하다': 1626, '볶다': 1627, '깊다': 1628, '목걸이': 1629, '숙주': 1630, '욧': 1631, '시반': 1632, '웨이팅': 1633, '등록': 1634, '레시피': 1635, '제외': 1636, '똑같이': 1637, '바가지': 1638, '망가지다': 1639, '상관없다': 1640, '딱이다': 1641, '대접': 1642, '플라스틱': 1643, '저리': 1644, '겪다': 1645, '고치다': 1646, '엉': 1647, '이집': 1648, '겨우': 1649, '조미료': 1650, '번은': 1651, '탓': 1652, '품': 1653, '우': 1654, '워': 1655, '해산물': 1656, '실장': 1657, '토': 1658, '싱싱하다': 1659, '저번': 1660, '얹다': 1661, '막히다': 1662, '감자탕': 1663, '그날': 1664, '도안': 1665, '주행': 1666, '하라': 1667, '나르다': 1668, '누': 1669, '나빠지다': 1670, '불가': 1671, '처리': 1672, '잔뜩': 1673, '민망하다': 1674, '내용': 1675, '깍두기': 1676, '태우다': 1677, '및': 1678, '어디껀': 1679, '곱창전골': 1680, '싸이클': 1681, '케이크': 1682, '진료': 1683, '과자': 1684, '선지': 1685, '달라지다': 1686, '동생': 1687, '귀여웡': 1688, '평균': 1689, '오는': 1690, '유튜브': 1691, '상담': 1692, '삼': 1693, '술집': 1694, '물티슈': 1695, '뱉다': 1696, '재미': 1697, '정': 1698, '해오다': 1699, '굴': 1700, '떨다': 1701, '초심': 1702, '티비': 1703, '컨셉': 1704, '너무나': 1705, '결과': 1706, '땅콩': 1707, '부턴': 1708, '현': 1709, '주네': 1710, '본점': 1711, '라인': 1712, '엇': 1713, '베트남': 1714, '관심': 1715, '반스': 1716, '마늘': 1717, '감사': 1718, '죽이다': 1719, '딸': 1720, '동기부여': 1721, '활동': 1722, '만하': 1723, '가리다': 1724, '요새': 1725, '금': 1726, '대한민국': 1727, '군자': 1728, '상차림': 1729, '다행': 1730, '색': 1731, '수정': 1732, '퍽퍽': 1733, '부담': 1734, '자국': 1735, '프렌치': 1736, '잡': 1737, '불구': 1738, '시스템': 1739, '플레인': 1740, '레드': 1741, '더러': 1742, '식이': 1743, '공기밥': 1744, '천': 1745, '욬': 1746, '여러분': 1747, '여직원': 1748, '권': 1749, '셧': 1750, '길이': 1751, '내용물': 1752, '와우': 1753, '토마토': 1754, '시도': 1755, '화면': 1756, '햄버거': 1757, '가도': 1758, '거부': 1759, '박봄이': 1760, '모임': 1761, '생맥주': 1762, '병원': 1763, '평가': 1764, '꺼내다': 1765, '뽑다': 1766, '정성': 1767, '어플': 1768, '최소': 1769, '인하다': 1770, '칭찬': 1771, '맛보다': 1772, '극': 1773, '가득하다': 1774, '턱': 1775, '빙수': 1776, '역': 1777, '변경': 1778, '장이': 1779, '붙이다': 1780, '으로는': 1781, '사이클': 1782, '부리다': 1783, '툭툭': 1784, '유일하다': 1785, '어떤': 1786, '피티': 1787, '비도': 1788, '한숨': 1789, 'ㅏ': 1790, '대가': 1791, '이냐': 1792, '망치다': 1793, '레깅스': 1794, '위주': 1795, '오히려': 1796, '평생': 1797, '개월': 1798, '악': 1799, '완료': 1800, '된거': 1801, '다녀오다': 1802, '셋': 1803, '찝찝하다': 1804, 'ㄷㄷㄷ': 1805, '건물': 1806, '샷': 1807, '감동': 1808, '쿠팡': 1809, '두껍다': 1810, '황당하다': 1811, '피해자': 1812, '소문': 1813, '만해': 1814, '낫다': 1815, '감안': 1816, '야외': 1817, '시장': 1818, '정량': 1819, '노맛': 1820, '소개': 1821, '끝판': 1822, '아쉬움': 1823, '반지': 1824, '식감': 1825, '남자친구': 1826, '선물': 1827, '산책': 1828, '생기': 1829, '누리다': 1830, '국수': 1831, '팁': 1832, '이벤트': 1833, '말리다': 1834, '간만': 1835, '채다': 1836, 'ㅎㅎㅎㅎ': 1837, '피해': 1838, '얌전하다': 1839, '평타': 1840, '니깐': 1841, '모시': 1842, '공사': 1843, '나름': 1844, '하든': 1845, '점장님': 1846, '센스': 1847, '나머지': 1848, '파': 1849, '관련': 1850, '와중': 1851, '약속': 1852, '과거': 1853, '자세하다': 1854, '치료': 1855, '교촌': 1856, '통신사': 1857, '갈수록': 1858, '헐다': 1859, '화사': 1860, '본적': 1861, '대놓고': 1862, '육': 1863, '피다': 1864, '핑계': 1865, '크로와상': 1866, '마저': 1867, '필요없다': 1868, '사오다': 1869, '점심시간': 1870, '꼬리': 1871, '얇다': 1872, '로우': 1873, '모델': 1874, '허다': 1875, '팩': 1876, '새': 1877, '아지': 1878, '아자': 1879, '여기저기': 1880, '지저분하다': 1881, '쿠키': 1882, '룸': 1883, '봉': 1884, '겉': 1885, '엿': 1886, '만지다': 1887, '단무지': 1888, '길다': 1889, '지하': 1890, '사서': 1891, '쟁이': 1892, '옹': 1893, '접객': 1894, '음식물': 1895, '출연': 1896, '타고': 1897, '삶': 1898, '칼': 1899, '축하': 1900, '섞이다': 1901, '싱겁다': 1902, '나라': 1903, '사건': 1904, '매너': 1905, '한지': 1906, '피부': 1907, '바람': 1908, '비쥬': 1909, '유도': 1910, '고깃집': 1911, '만족스럽다': 1912, '좀더': 1913, '이사': 1914, 'ㅇㅇ': 1915, '풀': 1916, '고양이': 1917, '오라': 1918, '에그': 1919, '예정': 1920, '종이': 1921, '누락': 1922, '금요일': 1923, '궁': 1924, '까진': 1925, '쎄다': 1926, '멀리': 1927, '설렁탕': 1928, '투애니원': 1929, '리도': 1930, '올해': 1931, '잊다': 1932, '일정': 1933, '숨': 1934, '해봤다': 1935, '어케': 1936, '싹': 1937, '가방': 1938, '앱': 1939, '평이': 1940, '수리': 1941, '숟가락': 1942, '흘리다': 1943, '점원': 1944, '커녕': 1945, '려': 1946, '단계': 1947, '떨어뜨리다': 1948, '방치': 1949, '띄다': 1950, '호': 1951, '박': 1952, '개봉': 1953, '눈물': 1954, '닭발': 1955, '인터넷': 1956, '속상하다': 1957, '마디': 1958, 'ㄴ': 1959, '상가': 1960, '말함': 1961, '아파트': 1962, '보신': 1963, '정갈하다': 1964, '차돌': 1965, '회식': 1966, '제한': 1967, '마침내': 1968, '방역': 1969, '왤케': 1970, '헬스': 1971, '카카오': 1972, '빼기': 1973, '건대': 1974, '꺼지다': 1975, '당당하다': 1976, '뿌': 1977, '츠': 1978, '뚱뚱하다': 1979, '타이어': 1980, '쓰이다': 1981, '안쪽': 1982, '코': 1983, '고려': 1984, '나무': 1985, '후식': 1986, '까지도': 1987, '도우': 1988, '외국인': 1989, '별루': 1990, '닭고기': 1991, '기프티콘': 1992, '가만히': 1993, '빵집': 1994, '존재': 1995, '품절': 1996, '통해': 1997, '슥': 1998, '말고는': 1999, '담백하다': 2000, '스파게티': 2001, '전달': 2002, '아치': 2003, '해내다': 2004, '행주': 2005, '저렇다': 2006, '의욕': 2007, '연습': 2008, '복': 2009, '핸드폰': 2010, '읍': 2011, '둘러보다': 2012, '버터': 2013, '샵': 2014, '이구': 2015, '장염': 2016, '이모': 2017, '결정': 2018, '벗다': 2019, '고급': 2020, '빨': 2021, '귀하다': 2022, '얻다': 2023, '봉투': 2024, '예상': 2025, '좌석': 2026, '가져다주다': 2027, '에너지': 2028, '묘': 2029, '올려주다': 2030, '가나': 2031, '인기': 2032, '저기': 2033, '달래다': 2034, '든지': 2035, '쩔다': 2036, '일부': 2037, '지역': 2038, '에다': 2039, '체형': 2040, '대리': 2041, '버섯': 2042, '소가': 2043, '소만': 2044, '종아리': 2045, '워낙': 2046, '꽝': 2047, '응': 2048, '사가': 2049, '렌즈': 2050, '국내': 2051, '면은': 2052, '남매': 2053, '생선': 2054, '충실하다': 2055, '댓': 2056, '하트': 2057, '트': 2058, '돈가스': 2059, '젤리': 2060, '영화관': 2061, '작품': 2062, '알러지': 2063, '조림': 2064, '레몬': 2065, '단점': 2066, '고해': 2067, '꼬막': 2068, '닿다': 2069, '틴': 2070, '큐브': 2071, '케익': 2072, '차원': 2073, '간단하다': 2074, '온도': 2075, '예민하다': 2076, '스프': 2077, '젖다': 2078, '어묵': 2079, '노트북': 2080, '와이파이': 2081, '새다': 2082, '단맛': 2083, 'ㄷ': 2084, '무례하다': 2085, '비건': 2086, '픽업': 2087, '때리다': 2088, '부산': 2089, '넘기다': 2090, '고프다': 2091, '꽉차다': 2092, '멀쩡하다': 2093, '악플': 2094, '도시락': 2095, '업': 2096, '물냉면': 2097, '며칠': 2098, '등등': 2099, '좋아지다': 2100, '드': 2101, '기존': 2102, '쓰레기통': 2103, '박스': 2104, '번호': 2105, '포스': 2106, '점수': 2107, '긋다': 2108, '오빠': 2109, '그렇다고': 2110, '구리': 2111, '환기': 2112, '근무': 2113, '껍데기': 2114, '미지근하다': 2115, '수술': 2116, '형': 2117, '습관': 2118, '칵테일': 2119, '게임': 2120, '이든': 2121, '토끼': 2122, '치': 2123, '접다': 2124, '로스': 2125, '무너지다': 2126, '전이': 2127, '분다': 2128, '다닥다닥': 2129, '쏟다': 2130, '염': 2131, '아마': 2132, '업체': 2133, '혹은': 2134, '작년': 2135, '넉넉하다': 2136, '애용': 2137, '종일': 2138, '과정': 2139, '풀리다': 2140, '특유': 2141, '파이': 2142, '피고': 2143, '안남다': 2144, '뎅': 2145, '호구': 2146, '기사': 2147, '기록': 2148, '전문': 2149, '주심': 2150, '외관': 2151, '신선도': 2152, '보이지': 2153, '한우': 2154, '떠들다': 2155, '가격표': 2156, '유행': 2157, '지우다': 2158, '아이고': 2159, '사려': 2160, '뺏다': 2161, '신건': 2162, '얘': 2163, '굶다': 2164, '대고': 2165, '쉬': 2166, '요기': 2167, '패티': 2168, '요거트': 2169, '깻잎': 2170, '쌈밥': 2171, '브레이크': 2172, '주차장': 2173, '세월': 2174, '경': 2175, '실하다': 2176, '질도': 2177, '가까이': 2178, '편집': 2179, '욕구': 2180, '남성': 2181, '자리다': 2182, '박대': 2183, '즈': 2184, '네일': 2185, '알아보다': 2186, '호불호': 2187, '갈리다': 2188, '이며': 2189, '당시': 2190, '도저히': 2191, '신맛': 2192, '설탕': 2193, '진하다': 2194, '싫어지다': 2195, '체적': 2196, '나머진': 2197, '마저도': 2198, '다해': 2199, '바라보다': 2200, '희다': 2201, '차리다': 2202, '올드보이': 2203, '감성': 2204, '얼얼하다': 2205, '비리': 2206, '톤': 2207, '생수': 2208, '잡고': 2209, '혹': 2210, '직': 2211, '졸귀': 2212, '늘어나다': 2213, '고등어': 2214, '최애': 2215, '보구': 2216, '비우다': 2217, '나타나다': 2218, '목이버섯': 2219, '그치다': 2220, 'ㅋㅋㅋㅋㅋㅋㅋㅋㅋㅋ': 2221, '고로케': 2222, '큰일': 2223, '내리다': 2224, '신경질': 2225, '접수': 2226, '변화': 2227, '곳임': 2228, '바보': 2229, '비닐': 2230, '이드': 2231, '무료': 2232, '다가오다': 2233, '마켓': 2234, '실제': 2235, '날리다': 2236, '팍팍': 2237, '커서': 2238, '선곡': 2239, '씹히다': 2240, '으론': 2241, '창렬': 2242, '연탄': 2243, '건너': 2244, '심다': 2245, '끌다': 2246, '물질': 2247, '미소': 2248, '출근': 2249, '사가다': 2250, '플': 2251, '묻히다': 2252, '또한': 2253, '마찬가지': 2254, '채용': 2255, '곱다': 2256, '바게뜨': 2257, '분식집': 2258, '고가': 2259, '아무튼': 2260, '마주치다': 2261, '대가리': 2262, '메다': 2263, '간짜장': 2264, '중앙': 2265, '판': 2266, '날아다니다': 2267, '남아': 2268, '결혼': 2269, '책': 2270, '칼로리': 2271, '질겨': 2272, '여자친구': 2273, '민원': 2274, '베스트': 2275, '도와주다': 2276, '푹': 2277, '출발': 2278, '대안': 2279, '적립': 2280, '끓다': 2281, '껍질': 2282, '그러나': 2283, '김치전': 2284, '부다': 2285, '찌개': 2286, '육회': 2287, '멘트': 2288, '나요': 2289, '쓴맛': 2290, '묶다': 2291, '고추장': 2292, '베이스': 2293, '꿀맛': 2294, '인간': 2295, '근육': 2296, '섭취': 2297, '요요': 2298, '웨이트': 2299, '상이': 2300, '쌩얼': 2301, 'ㅎㅎㅎㅎㅎㅎ': 2302, '공지': 2303, '잼': 2304, '바코드': 2305, '명품': 2306, '라이': 2307, '손가락': 2308, '특이하다': 2309, '기계': 2310, '콩나물': 2311, '컷': 2312, '퇴근': 2313, '그건': 2314, '힐링': 2315, '토핑': 2316, '수분': 2317, '헤어지다': 2318, '집앞': 2319, '휴무': 2320, '색깔': 2321, '몸무게': 2322, '궁금': 2323, '목표': 2324, '기간': 2325, '그릭': 2326, '널': 2327, '멈추다': 2328, '짜장': 2329, '시판': 2330, '아가씨': 2331, '손질': 2332, '낳다': 2333, '밥맛': 2334, '선생님': 2335, '손톱': 2336, '와사비': 2337, '발': 2338, '철수': 2339, '상상': 2340, '달리': 2341, '간호사': 2342, '캬': 2343, '최소한': 2344, '오시': 2345, '딸기': 2346, '이니': 2347, '으로만': 2348, '진동': 2349, '멋': 2350, '롤': 2351, '틱': 2352, '열흘': 2353, '이간': 2354, '키토': 2355, '녹차': 2356, '채널': 2357, '비용': 2358, '실화': 2359, '기여': 2360, '트레이너': 2361, '과연': 2362, '듬': 2363, '걷기': 2364, '휘': 2365, '하고도': 2366, '배탈': 2367, '욤': 2368, '해먹': 2369, '소비자': 2370, '영원하다': 2371, '숨기다': 2372, '껏': 2373, '방식': 2374, '현실': 2375, '봣': 2376, '생활': 2377, '이끌다': 2378, '비빔국수': 2379, '관념': 2380, '데려가다': 2381, '쓱': 2382, '제거': 2383, '해결': 2384, '창가': 2385, '지루하다': 2386, '기침': 2387, '독하다': 2388, '호일': 2389, '제조': 2390, '식품': 2391, '기르다': 2392, '멸치': 2393, '추억': 2394, '하나로': 2395, '어쩌다': 2396, '안쓰럽다': 2397, '마라샹궈': 2398, '으로서': 2399, '운동복': 2400, '속옷': 2401, '벨벳': 2402, '쉐이크': 2403, '회원': 2404, '링': 2405, '오뎅': 2406, '행복': 2407, '대처': 2408, '께서는': 2409, '들르다': 2410, '자연스럽다': 2411, '그럭저럭': 2412, '음료수': 2413, '부대찌개': 2414, '이마트': 2415, '통닭': 2416, '달달': 2417, '먹는모습': 2418, '감다': 2419, '괴롭다': 2420, '둥': 2421, '작고': 2422, '숫자': 2423, '가지다': 2424, '바닐라': 2425, '마카': 2426, '왜케': 2427, '부작용': 2428, '진': 2429, '연출': 2430, '신기': 2431, '반숙': 2432, '기절': 2433, '합': 2434, '스튜디오': 2435, '란': 2436, 'ㅉㅉ': 2437, '뚝': 2438, '보드게임': 2439, '고수': 2440, '신분증': 2441, '부페': 2442, '생일': 2443, '실내': 2444, '수란': 2445, '상암': 2446, '시대': 2447, '주스': 2448, '인심': 2449, '바지': 2450, '시계': 2451, '책임감': 2452, '아르바이트': 2453, '바다': 2454, '졸라': 2455, '돌아오다': 2456, '천사': 2457, '그람': 2458, '보고오다': 2459, '발생': 2460, '우왕': 2461, '햇볕': 2462, '특색': 2463, '끝내주다': 2464, '군침': 2465, '그녀': 2466, '측': 2467, '오해': 2468, '징그럽다': 2469, '하고는': 2470, '수다': 2471, '진상': 2472, '짓': 2473, '강남역': 2474, '특수': 2475, '이여': 2476, '세분': 2477, '전국': 2478, '미역': 2479, '떼다': 2480, 'ㅎㄷㄷ': 2481, '맛남': 2482, '고무': 2483, '쓴다': 2484, '비웃다': 2485, '소진': 2486, '카라': 2487, '내미다': 2488, '짬': 2489, '하나요': 2490, '욕먹다': 2491, '빠': 2492, '눕다': 2493, '할아버지': 2494, '정중하다': 2495, '가하다': 2496, '라니': 2497, '등산': 2498, '뿐이다': 2499, '간신히': 2500, '파마': 2501, '크리스마스': 2502, '쫒다': 2503, '푸르다': 2504, '살때': 2505, '간지': 2506, '훌륭하다': 2507, '소로': 2508, '조선족': 2509, '몹시': 2510, '브리': 2511, '곤약': 2512, '현미': 2513, '컬러': 2514, '실력': 2515, '의향': 2516, '별도': 2517, '비틀어지다': 2518, '화장': 2519, '리조또': 2520, '점주': 2521, '줄어들다': 2522, '조음': 2523, '걸치다': 2524, '복잡하다': 2525, '시킴': 2526, '라며': 2527, '테이크아웃': 2528, '덕지덕지': 2529, '이래': 2530, '갖추다': 2531, '태어나다': 2532, '갈아': 2533, '혼나다': 2534, '곁들이다': 2535, '묵다': 2536, '회도': 2537, '인근': 2538, '횟집': 2539, '휙': 2540, '긁다': 2541, '쾌적하다': 2542, '내려가다': 2543, '골목': 2544, '짓다': 2545, '잡히다': 2546, '에여': 2547, '사이다': 2548, '대서': 2549, '구석': 2550, '사람인': 2551, '어딘가': 2552, '부부': 2553, '말아먹다': 2554, '신가': 2555, '반응': 2556, '영향력': 2557, '담날': 2558, '오래전': 2559, '전통': 2560, '떡집': 2561, '복귀': 2562, '헛걸음': 2563, '하얗다': 2564, '마는': 2565, '오토바이': 2566, '왕창': 2567, '간도': 2568, '인용': 2569, '외식': 2570, '흥': 2571, '비치': 2572, '없애다': 2573, '데이트': 2574, '기쁘다': 2575, '에이': 2576, '찾아오다': 2577, '마음가짐': 2578, '여지': 2579, '바라지': 2580, '벌리다': 2581, '빌다': 2582, '징': 2583, '핫': 2584, '일도': 2585, '높이': 2586, '스틱': 2587, '방해': 2588, '피곤하다': 2589, '지치다': 2590, '치아바타': 2591, '밀': 2592, '베이커리': 2593, '초코': 2594, '직장인': 2595, '김치볶음밥': 2596, '가위': 2597, '드림': 2598, '요구': 2599, '데스크': 2600, '도중': 2601, '동시': 2602, '군데': 2603, '나물': 2604, '밸런스': 2605, '심해': 2606, '부추': 2607, '주위': 2608, '발음': 2609, 'ㅇㅈ': 2610, '정체': 2611, '깨다': 2612, '막걸리': 2613, '말리': 2614, '살리다': 2615, '첫날': 2616, '장내': 2617, '기능': 2618, '보라': 2619, '내지': 2620, '충': 2621, '짖다': 2622, '마싯다': 2623, '효': 2624, '개맛': 2625, '어치': 2626, '답답하다': 2627, '량': 2628, '따위': 2629, '사지': 2630, '절감': 2631, '마음대로': 2632, '로만': 2633, '결혼식': 2634, '내장': 2635, '러시': 2636, '흠': 2637, '골': 2638, '사정': 2639, '리가': 2640, '불판': 2641, '검정': 2642, '서도': 2643, '적절하다': 2644, '싸구려': 2645, '그러다가': 2646, '건데': 2647, '우거지': 2648, '무치다': 2649, '비빔밥': 2650, '고몽': 2651, '엘리베이터': 2652, '골뱅이': 2653, '곰탕': 2654, '역겹다': 2655, '쩝': 2656, '공기': 2657, '옵션': 2658, '엉덩이': 2659, '오렌지': 2660, '다짐': 2661, '어색하다': 2662, '탄탄하다': 2663, '맞이': 2664, '안이': 2665, '거울': 2666, '큐': 2667, '프리미엄': 2668, '관절': 2669, '마무리': 2670, '유쾌하다': 2671, '그딴': 2672, '원금': 2673, '촉촉하다': 2674, '소면': 2675, '일품': 2676, '넌': 2677, '뚝배기': 2678, '그만하다': 2679, '새우다': 2680, '인형': 2681, '충전': 2682, '프로그램': 2683, '래야': 2684, '모으다': 2685, '자전거': 2686, '그러니까': 2687, '튀다': 2688, '핏': 2689, '배짱': 2690, '유명': 2691, '요소': 2692, '주택가': 2693, '불맛': 2694, '스스로': 2695, '기초': 2696, '일일이': 2697, '판다': 2698, '내면': 2699, '초파리': 2700, '실패': 2701, '대체로': 2702, '담당': 2703, '까꿍': 2704, '허락': 2705, '타코': 2706, '풍': 2707, '양념치킨': 2708, '퀄': 2709, '대박나다': 2710, '닷': 2711, 'ㄴㄴ': 2712, '와이프': 2713, '잇몸': 2714, '셰프': 2715, '암': 2716, '비만': 2717, '필': 2718, '폐업': 2719, '쥬비스': 2720, '식기': 2721, 'ㅠㅠㅠㅠㅠㅠ': 2722, '뇨': 2723, '나태하다': 2724, '린지': 2725, '냉': 2726, '커리': 2727, '첨부': 2728, '하나같이': 2729, '남사': 2730, '오스': 2731, '열리다': 2732, '끊음': 2733, '맡기다': 2734, '어보': 2735, '뒷담화': 2736, '에프': 2737, '만으로': 2738, '요약': 2739, '바글바글': 2740, '면전': 2741, '원장': 2742, '선지국': 2743, '수육': 2744, '삭제': 2745, '스토리': 2746, '유익하다': 2747, '전시': 2748, '건더기': 2749, '곳도': 2750, '빵빵': 2751, '비니': 2752, '이래서': 2753, '얼다': 2754, '상술': 2755, '레벨': 2756, '체중': 2757, '누군지': 2758, '외국': 2759, '호텔': 2760, '박하다': 2761, '훑다': 2762, '대도': 2763, '맹물': 2764, '데리': 2765, '꼼꼼하다': 2766, '구비': 2767, '아랫': 2768, '직전': 2769, '그렇지만': 2770, '단기간': 2771, '요금': 2772, '시럽': 2773, '맘대로': 2774, '물리다': 2775, '닭갈비': 2776, '계란찜': 2777, '재사용': 2778, '더니': 2779, '사골': 2780, '어머님': 2781, '서버': 2782, '지나치다': 2783, '감탄': 2784, '밝다': 2785, '막창': 2786, '바디': 2787, '허리': 2788, '켯': 2789, '사유': 2790, '선풍기아줌마': 2791, '사주다': 2792, '전골': 2793, '으로써': 2794, '우리동네': 2795, '존나': 2796, '죄다': 2797, '커지다': 2798, '뻣': 2799, '애매하다': 2800, '비주': 2801, '용기': 2802, '준수': 2803, '외부': 2804, '물기': 2805, '착각': 2806, '표시': 2807, '돈카츠': 2808, '공장': 2809, '동대문': 2810, '어려움': 2811, '레알': 2812, '밥알': 2813, '티라미수': 2814, '꽉': 2815, '수유': 2816, '육아': 2817, '영어': 2818, '로라': 2819, '드디어': 2820, '리터': 2821, '에게는': 2822, '서로': 2823, '디자이너': 2824, '살빠지다': 2825, '타르트': 2826, '숙성': 2827, '전자렌지': 2828, '파워': 2829, '환경': 2830, '기구': 2831, '풍경': 2832, '밀크': 2833, '모델링': 2834, '말랭이': 2835, '이동': 2836, '입술': 2837, '싸우다': 2838, '구라': 2839, '자재': 2840, '샹궈': 2841, '다대기': 2842, '말차': 2843, '비빔': 2844, '욕설': 2845, '이미지': 2846, '어떡하다': 2847, '책임': 2848, '빨대': 2849, '홍대': 2850, '핵': 2851, '칼질': 2852, '소세지': 2853, '융통성': 2854, '성질': 2855, '시가': 2856, '모기': 2857, '체인점': 2858, '솜씨': 2859, '두유': 2860, '피우다': 2861, '스러운': 2862, '진열': 2863, '한편': 2864, '마시기': 2865, '노답': 2866, '썸넬': 2867, '바질': 2868, '옥수': 2869, '수면': 2870, '이분': 2871, '시들다': 2872, '리액션': 2873, '독보': 2874, '소음': 2875, '일어나서': 2876, '다이소': 2877, '유리': 2878, '무척': 2879, '화난': 2880, '앗': 2881, '미장센': 2882, '쌩': 2883, '고춧가루': 2884, '다루다': 2885, '성형전': 2886, '솔로': 2887, '케어': 2888, '한국어': 2889, '흘러내리다': 2890, 'ㅜㅠ': 2891, '큰소리': 2892, '호출': 2893, '반개': 2894, '위장': 2895, '주기': 2896, '로그': 2897, '언젠가': 2898, '팟타이': 2899, '외모': 2900, '일상': 2901, '분량': 2902, '의외로': 2903, '비락식혜': 2904, '진행': 2905, '부족': 2906, '완전하다': 2907, '월급': 2908, '듣기': 2909, '차돌박이': 2910, '최': 2911, '상실': 2912, '성괴': 2913, '힌트': 2914, '토뽕': 2915, '사전': 2916, '배터리': 2917, '끈': 2918, '덕': 2919, '과식': 2920, '대충대충': 2921, '간식': 2922, '밭': 2923, '가라지': 2924, '기생충': 2925, '치약': 2926, '설익다': 2927, '알차다': 2928, '타고나다': 2929, '배우다': 2930, '애정': 2931, '꼼수': 2932, '검다': 2933, '별개': 2934, '작성': 2935, '종': 2936, '종사': 2937, '감정': 2938, '퉤': 2939, '유부': 2940, '콤보': 2941, '랙': 2942, '양고기': 2943, '이의': 2944, '스무디': 2945, '임산부': 2946, '찍': 2947, '레전드': 2948, '똥': 2949, '국밥집': 2950, '내려놓다': 2951, '대리점': 2952, '프라자': 2953, '삔또': 2954, '멋대로': 2955, '퍼석': 2956, '칠': 2957, '세명': 2958, '툭': 2959, '변기': 2960, '빵터지다': 2961, '먹고다': 2962, '급식': 2963, '탄산수': 2964, '시렁': 2965, '거지같다': 2966, '슝': 2967, '앵그리버드': 2968, '요다음': 2969, '보관': 2970, '잔돈': 2971, '거절': 2972, '김밥천국': 2973, '분명하다': 2974, '일간': 2975, '시냐': 2976, '낮추다': 2977, '노원': 2978, '티나': 2979, '식전': 2980, '다운': 2981, '능력': 2982, '영향': 2983, '중요': 2984, '스케': 2985, '쯔유': 2986, '공용': 2987, '정기': 2988, '노량진': 2989, '마침': 2990, '가량': 2991, '협소': 2992, '혼술': 2993, '문전': 2994, '오리': 2995, '계란후라이': 2996, '패스': 2997, '겁': 2998, '억지로': 2999, '보험': 3000, '만이라도': 3001, '구조': 3002, '양으로': 3003, '이딴': 3004, '정상': 3005, '서비스업': 3006, '롯데': 3007, '가짓수': 3008, '난국': 3009, '떡하니': 3010, 'ㅅㅂ': 3011, '노가리': 3012, '노동자': 3013, '내놓다': 3014, '올려놓다': 3015, '내쫓다': 3016, '오기': 3017, '고경표': 3018, '팝송': 3019, '핑': 3020, '바리스타': 3021, '직업': 3022, '밀리다': 3023, '가버리다': 3024, '노래방': 3025, '주머니': 3026, '꼽': 3027, '편리하다': 3028, '즉석': 3029, '야식': 3030, '하얀색': 3031, '중국산': 3032, '내외': 3033, '토요일': 3034, '불만족': 3035, 'ㅈ': 3036, '경비': 3037, '어디가': 3038, '사무소': 3039, '관': 3040, '차로': 3041, '양하다': 3042, '나왓어': 3043, '출구': 3044, '전복': 3045, '캐': 3046, '롭고': 3047, '드라마': 3048, '확장': 3049, '끼치다': 3050, '상처': 3051, '몰입': 3052, '닼': 3053, 'ㅋㅋㅋㅋㅋㅋㅋㅋㅋㅋㅋㅋㅋㅋ': 3054, '아메': 3055, '어유': 3056, '빡': 3057, '가다가': 3058, '발길': 3059, '스윗': 3060, '도망치다': 3061, '따라가다': 3062, '두봉': 3063, '핳': 3064, '껄': 3065, '맴': 3066, '그런대로': 3067, '늘어놓다': 3068, '여럿': 3069, '재수없다': 3070, '적당': 3071, '루틴': 3072, '초보자': 3073, '머신': 3074, '시오': 3075, '부러': 3076, '빨갛다': 3077, '불쌍': 3078, '교환': 3079, '링클': 3080, '에두': 3081, '침대': 3082, '차량': 3083, '년도': 3084, '연남동': 3085, '페이': 3086, '모이다': 3087, '한국말': 3088, '들어주다': 3089, '뉘앙스': 3090, '주눅': 3091, '구경': 3092, '유모차': 3093, '수제': 3094, '이정': 3095, '썰다': 3096, '배기': 3097, '론': 3098, '거슬리다': 3099, '놀람': 3100, '시기': 3101, '안녕': 3102, '버티다': 3103, '치면': 3104, '인지도': 3105, '저렴': 3106, '막상': 3107, '만천원': 3108, '이적': 3109, '찌푸리다': 3110, '차별': 3111, '차이나다': 3112, '자장': 3113, '후반': 3114, '갈릭': 3115, '인건비': 3116, '십분': 3117, '절대로': 3118, '수많다': 3119, '썩': 3120, '맘껏': 3121, '지원': 3122, '케잌': 3123, '몰리다': 3124, '오븐': 3125, '승': 3126, 'ㅠㅡㅠ': 3127, '각자': 3128, '신촌': 3129, '황당': 3130, '가닥': 3131, '이예': 3132, '마을': 3133, '늘리다': 3134, '감자전': 3135, '다소': 3136, '크리스': 3137, '육즙': 3138, '적지': 3139, '묵': 3140, '카메라': 3141, '엔지니어': 3142, '액정': 3143, '특선': 3144, '은근': 3145, '수업': 3146, '만점': 3147, '일전': 3148, '표': 3149, '주더': 3150, '압니': 3151, '살인': 3152, '벌다': 3153, '단발머리': 3154, '주무시다': 3155, '유투브': 3156, '고문': 3157, '쫌': 3158, '환': 3159, '맞은편': 3160, '쥐다': 3161, '핫도그': 3162, '본가': 3163, '구로': 3164, '개별': 3165, '개불': 3166, '개업': 3167, '그다지': 3168, '성인': 3169, '라다': 3170, '거르세': 3171, '두루': 3172, '칸': 3173, '밥집': 3174, '낚': 3175, '게스트': 3176, '텐션': 3177, '홧팅': 3178, '메': 3179, '결론': 3180, '기름기': 3181, '이천원': 3182, '마땅하다': 3183, '알림': 3184, '기질': 3185, '액체': 3186, '세팅': 3187, '반도': 3188, '가르다': 3189, '도둑': 3190, '삼겹': 3191, '부엌': 3192, '위로': 3193, '논': 3194, '가라앉다': 3195, '재탕하다': 3196, '더하다': 3197, '일반인': 3198, '띠': 3199, '곤드레': 3200, '턱스': 3201, '러버': 3202, '야무지다': 3203, '빨다': 3204, '강조': 3205, '상대': 3206, '결과물': 3207, '축': 3208, '풀다': 3209, '두통': 3210, '찌르다': 3211, '공주': 3212, '래서': 3213, '액': 3214, '부자': 3215, '부족함': 3216, '로고': 3217, '구두': 3218, '믿음': 3219, '광어': 3220, '이뿌다': 3221, '시전': 3222, '거짓': 3223, '사기꾼': 3224, '도넛': 3225, '미원': 3226, '질리': 3227, '카': 3228, '교자': 3229, '퇴근길': 3230, '덩이': 3231, '필요성': 3232, '명성': 3233, '지오': 3234, '굿굿': 3235, '귀걸이': 3236, '초반': 3237, '기점': 3238, '성신여대': 3239, '도수': 3240, '리얼': 3241, '대우': 3242, '정신건강': 3243, '씨방': 3244, '로서': 3245, '그래님': 3246, '으악': 3247, '빡세': 3248, '나이키': 3249, '진리': 3250, '종종': 3251, '근방': 3252, '전화번호': 3253, '배려': 3254, '승질': 3255, '쭈꾸미': 3256, '깨': 3257, '멤버십': 3258, '역사': 3259, '앉히다': 3260, '오랫동안': 3261, '의료': 3262, '닥': 3263, '한강': 3264, '불어': 3265, '김신영': 3266, '반절': 3267, '뒤지다': 3268, '순서': 3269, '쌈장': 3270, '가보': 3271, '던데': 3272, '놀러와': 3273, '가라아게': 3274, '명란': 3275, '실패하다': 3276, '사케': 3277, '생맥': 3278, '부라리다': 3279, '겨울': 3280, '마자': 3281, '삼키다': 3282, '대만': 3283, '환상': 3284, '꺄': 3285, '웃음': 3286, '꺅': 3287, '바나나': 3288, '요미': 3289, '드네': 3290, '꽃다발': 3291, '가시': 3292, '드릴': 3293, '비율': 3294, '꼬': 3295, '날림': 3296, '여우': 3297, '트리': 3298, '낙지': 3299, '미역국': 3300, '안뇽': 3301, '옥': 3302, '죄': 3303, '맨': 3304, '치기': 3305, '아르바이트생': 3306, '멀뚱멀뚱': 3307, '안대': 3308, '흡연': 3309, '잠': 3310, '용하다': 3311, '물회': 3312, '해삼': 3313, '엇어': 3314, '칩': 3315, '박다': 3316, 'ㅠㅜ': 3317, '시골': 3318, '각종': 3319, '케': 3320, '뛰어나다': 3321, '둥둥': 3322, '냄비': 3323, '긍정': 3324, '작아지다': 3325, '빼놓다': 3326, '경찰': 3327, '섬세하다': 3328, '들깨': 3329, '오랫': 3330, '돌아다니다': 3331, '기안': 3332, '집밥': 3333, '견과류': 3334, '철저하다': 3335, '인원': 3336, '참여': 3337, '모집': 3338, '혀': 3339, '노랗다': 3340, '캡': 3341, '불쌍하다': 3342, '레': 3343, '이구만': 3344, '족': 3345, '작업': 3346, '놀': 3347, '수제비': 3348, '부끄럽다': 3349, '쩝쩝': 3350, '눈뜨다': 3351, '스타': 3352, '쇼': 3353, '랄': 3354, '브런치': 3355, '위아래': 3356, '만큼은': 3357, '녜': 3358, '환하다': 3359, '재활용': 3360, '빠져들다': 3361, '심각': 3362, '마지못하다': 3363, '아이돌': 3364, '자세': 3365, '물품': 3366, '뿜뿜': 3367, '학교': 3368, '깔리다': 3369, '뜻': 3370, '정신차리다': 3371, '다음주': 3372, '홈트': 3373, '홀린': 3374, '여행': 3375, '인대': 3376, '빡시다': 3377, '이신가': 3378, '순서대로': 3379, '여러가지': 3380, '짱짱': 3381, '목적': 3382, '상관': 3383, '초등학교': 3384, '수없이': 3385, '패션': 3386, '적합하다': 3387, '서브': 3388, '지내다': 3389, '한정식': 3390, '초보': 3391, '최저': 3392, '츄릅': 3393, '어서': 3394, '기와': 3395, '기회': 3396, '빗': 3397, '이구나': 3398, '만세': 3399, '퍼지다': 3400, '만의': 3401, '노랑': 3402, '인게': 3403, '상식': 3404, '압': 3405, '걸레': 3406, '만들기': 3407, '더불다': 3408, '토마토소스': 3409, '재촉': 3410, '시행': 3411, '코너': 3412, '포크': 3413, '놓치다': 3414, '포': 3415, '점포': 3416, '사업': 3417, '서너': 3418, '돼지갈비': 3419, '부터는': 3420, '가짜': 3421, '찾기': 3422, '미가': 3423, '오물오물': 3424, '킹': 3425, '어울림': 3426, '따라서': 3427, '직장': 3428, '연하다': 3429, '시술': 3430, '영혼': 3431, '추강': 3432, '마들렌': 3433, '반드시': 3434, '참기름': 3435, '변': 3436, '압구정': 3437, '거품': 3438, '로스팅': 3439, '내시': 3440, '루프': 3441, '부도': 3442, '꽂다': 3443, '물이': 3444, '심장': 3445, '런': 3446, '스쿼트': 3447, '혈액': 3448, '곡': 3449, '소맥': 3450, '불량': 3451, '누룽지': 3452, '투자': 3453, '낭비': 3454, '흡': 3455, '감수': 3456, '어마어마하다': 3457, '간판': 3458, '안남': 3459, '뉴스': 3460, '팽이버섯': 3461, '동물': 3462, '향신료': 3463, '실': 3464, '미국': 3465, '떠오르다': 3466, '구분': 3467, '장인': 3468, '매주': 3469, '단발': 3470, '라코타': 3471, '고개': 3472, '만약': 3473, '인들': 3474, '해외': 3475, '특징': 3476, '년대': 3477, '지시': 3478, '다치다': 3479, '살아나다': 3480, '애견': 3481, '진자': 3482, '절반': 3483, '노골': 3484, '노포': 3485, '의견': 3486, '기울이다': 3487, '식사량': 3488, '흡연실': 3489, '휴식': 3490, '주어': 3491, '명태': 3492, '겨': 3493, '동일': 3494, '많아지다': 3495, '촌스럽다': 3496, '태': 3497, '화이': 3498, '욕심': 3499, '계획': 3500, '수급': 3501, '강요': 3502, '글라스': 3503, '정이': 3504, '신뢰': 3505, '날씬하다': 3506, '생리': 3507, '모야': 3508, '사라': 3509, '목': 3510, '무대': 3511, '신지': 3512, '오오': 3513, '부어': 3514, '택배': 3515, '용서': 3516, '미니': 3517, '찍기': 3518, '부품': 3519, '바깥': 3520, '카시스': 3521, '스페셜': 3522, '쇼콜라': 3523, '상큼': 3524, '바람나다': 3525, '바짝': 3526, '후추': 3527, '다행하다': 3528, '무뚝뚝하다': 3529, '정신과': 3530, '변호사': 3531, '서요': 3532, '졸': 3533, '기엽': 3534, '예능': 3535, '재능': 3536, '산범': 3537, '걸음': 3538, '유산소운동': 3539, '소화': 3540, '잘맞다': 3541, '귀염': 3542, '춥다': 3543, '똥꼬': 3544, '눈빛': 3545, '노크': 3546, '반계': 3547, '샤워': 3548, '잘나오다': 3549, '번갈아': 3550, '극장': 3551, '답변': 3552, '주로': 3553, '빈약하다': 3554, '지나': 3555, '연결': 3556, '그지같다': 3557, '리지': 3558, '왈': 3559, '기지': 3560, '육전': 3561, '게장': 3562, '시라': 3563, 'ㄱ': 3564, '합리': 3565, '양면': 3566, '매니아': 3567, '무리하다': 3568, '책임지다': 3569, '빛나다': 3570, '오래오래': 3571, '빈': 3572, '술술': 3573, '조화롭다': 3574, '버': 3575, '팍': 3576, '어우': 3577, '시큰둥': 3578, '애쓰다': 3579, '루': 3580, '뽀미언': 3581, '낄낄': 3582, '튤립': 3583, '버럭': 3584, '호통': 3585, '자연': 3586, '트리플': 3587, '사모님': 3588, '사이트': 3589, '어딜': 3590, '감추다': 3591, '믄': 3592, '브이': 3593, '깃': 3594, '어니언': 3595, '창고': 3596, '오래됨': 3597, '시절': 3598, '양상추': 3599, '상쾌하다': 3600, '지리다': 3601, '생태': 3602, '알탕': 3603, '서브웨이': 3604, '지네': 3605, '갈래': 3606, '전문점': 3607, '에다가': 3608, '가차': 3609, '본체': 3610, '솔': 3611, '지경': 3612, '탈출': 3613, '감당': 3614, '스킵': 3615, '시즌': 3616, '식욕': 3617, '모밀': 3618, '운동화': 3619, '실리콘': 3620, '만큼만': 3621, '디지다': 3622, '저걸': 3623, 'ㅠㅠㅠㅠㅠㅠㅠㅠㅠ': 3624, '경악': 3625, '안전': 3626, '숙지': 3627, '앜': 3628, '양제': 3629, '만으로도': 3630, '샘플': 3631, '마가리타': 3632, '친하다': 3633, '해장': 3634, '파프리카': 3635, '인자': 3636, '진주': 3637, '더블': 3638, '어머': 3639, '분과': 3640, '엌': 3641, '엥': 3642, '어쨌든': 3643, '그땐': 3644, '이빨': 3645, '해체': 3646, '나사': 3647, '조립': 3648, '관리자': 3649, '채끝': 3650, '미디엄': 3651, '깊이': 3652, '개그우먼': 3653, '여태': 3654, '형사': 3655, '산만하다': 3656, '문자': 3657, '자덕': 3658, '분동': 3659, '이론': 3660, '맞춤': 3661, '질환': 3662, '으아': 3663, '부리또': 3664, '칠리': 3665, '창창하다': 3666, '앞날': 3667, '빼주': 3668, '형식': 3669, '피하': 3670, '팔면': 3671, '일렬': 3672, '점성': 3673, '와는': 3674, '분야': 3675, '강점': 3676, '이던': 3677, '커피숍': 3678, '마냥': 3679, '면접': 3680, '에티켓': 3681, '역할': 3682, '정답': 3683, '하루하루': 3684, '버전': 3685, '망고': 3686, '출산': 3687, '민트': 3688, '브래지어': 3689, '건성건성': 3690, '머무르다': 3691, '소리치다': 3692, '알리오': 3693, '리오': 3694, 'ㅎㅅㅎ': 3695, '표기': 3696, '스끼': 3697, '휴대폰': 3698, '금제': 3699, '던': 3700, '소름': 3701, '장어': 3702, '글자': 3703, '무니': 3704, '시내': 3705, '버거킹': 3706, '만족도': 3707, '그제야': 3708, '칠리소스': 3709, '그랬더니': 3710, '누리': 3711, '월남쌈': 3712, '샤브샤브': 3713, '소품': 3714, '거미줄': 3715, '노란색': 3716, '정통': 3717, '일식': 3718, '성비': 3719, '된장국': 3720, '간정': 3721, '베이컨': 3722, '롱해': 3723, '여자애': 3724, 'ㅛ': 3725, 'ㅋㅋㅋㅋㅋㅋㅋㅋㅋㅋㅋㅋㅋ': 3726, '월일': 3727, '연희': 3728, '헤헤': 3729, '헤': 3730, '초전': 3731, '브금': 3732, 'ㅜㅠㅜ': 3733, '종료': 3734, '뒤통수': 3735, '쥐꼬리': 3736, '손절': 3737, '원내': 3738, '헌신': 3739, '검정색': 3740, '씨리얼': 3741, '텐': 3742, '로간': 3743, '츠유': 3744, '걸어가다': 3745, '혼밥': 3746, '계약': 3747, '임대': 3748, '대학병원': 3749, '영등포': 3750, '광진구': 3751, '차서': 3752, '아가리': 3753, '등장': 3754, '국도': 3755, '알닭': 3756, '아보': 3757, '예여': 3758, '자신감': 3759, '침수': 3760, '이어도': 3761, '전원': 3762, '고치': 3763, '멀더': 3764, '썰리다': 3765, '혐오': 3766, '빼먹다': 3767, '고요': 3768, '돌이': 3769, '무안하다': 3770, '호점': 3771, '분전': 3772, '수플레': 3773, '응답': 3774, '비판': 3775, '해고': 3776, '쟁반': 3777, '쓰레기봉지': 3778, '기해': 3779, '두기': 3780, '그깟': 3781, '직하다': 3782, '바지락': 3783, '기재': 3784, '셀러': 3785, '홈페이지': 3786, '빌딩': 3787, '매료': 3788, '즉시': 3789, '남고': 3790, '자씨': 3791, '티셔츠': 3792, '시로': 3793, '돌아서다': 3794, '잔잔하다': 3795, '하이': 3796, '학창시절': 3797, '일로': 3798, '집도': 3799, '하여간': 3800, '사리다': 3801, '난생': 3802, '내뱉다': 3803, '차빼': 3804, '경비원': 3805, '무인': 3806, '랑은': 3807, '정말로': 3808, '도보': 3809, '소요': 3810, '숯불': 3811, '바베큐': 3812, '제법': 3813, '슬슬': 3814, '화질': 3815, '얼른': 3816, '기하': 3817, '급수': 3818, '떡갈비': 3819, '북': 3820, 'ㅋㅋㅋㅋㅋㅋㅋㅋㅋㅋㅋㅋㅋㅋㅋㅋㅋㅋ': 3821, '잘알다': 3822, '익숙하다': 3823, '아무나': 3824, '어번': 3825, '꼴': 3826, 'ㅋㅋㅋㅋㅋㅋㅋㅋㅋㅋㅋㅋㅋㅋㅋㅋㅋㅋㅋ': 3827, '돋다': 3828, '붉다': 3829, '빵가루': 3830, '전용': 3831, '암만': 3832, '밍숭맹숭': 3833, '빠샤': 3834, '유용하다': 3835, '말고도': 3836, '복합': 3837, '그럭': 3838, '럭': 3839, '통통하다': 3840, '까맣다': 3841, '손민수': 3842, '해명': 3843, '인바디': 3844, '연휴': 3845, '방울토마토': 3846, '변질': 3847, '서지': 3848, '찜닭': 3849, '자사': 3850, '불가능하다': 3851, '당기다': 3852, '확정': 3853, '고스': 3854, '주신': 3855, '신호': 3856, '빠에야': 3857, '졸이다': 3858, '셔': 3859, '즐': 3860, '시구': 3861, '만들어지다': 3862, '해치다': 3863, '멜론': 3864, '견디다': 3865, 'ㄱㅇㅇ': 3866, '명부': 3867, '쿵': 3868, '제도': 3869, '돌': 3870, '끌': 3871, '키즈': 3872, '존': 3873, '슴': 3874, '청': 3875, '북적': 3876, '남학생': 3877, '카페나': 3878, '대중': 3879, '기타': 3880, '천막': 3881, '녹아내리다': 3882, '여름철': 3883, '테라스': 3884, '다닥': 3885, '티슈': 3886, 'ㅈㄴ': 3887, '아담하다': 3888, '낮아지다': 3889, '서민': 3890, '안주시': 3891, '소린': 3892, '사하다': 3893, '까먹다': 3894, '체격': 3895, '편입': 3896, '개중': 3897, '치고는': 3898, '종합': 3899, '자마자': 3900, '보물': 3901, '집임': 3902, '물김치': 3903, '보석': 3904, '각인': 3905, '남지': 3906, '메리트': 3907, '샷짜리': 3908, '본연': 3909, '이군': 3910, '그중': 3911, '원두': 3912, '산미': 3913, '밥때': 3914, '전형': 3915, '베이글': 3916, '단가': 3917, '한정': 3918, '첫째': 3919, '회전': 3920, '가산': 3921, '초당': 3922, '타령': 3923, '반하다': 3924, '사워도': 3925, '통밀': 3926, '다짜고짜': 3927, '마이너스': 3928, '술병': 3929, '오죽하다': 3930, '오진': 3931, '달걀': 3932, '감정이입': 3933, '간장게장': 3934, 'ㄹㅈㄷ': 3935, '스팸': 3936, '밀다': 3937, '호객': 3938, '비슷': 3939, '부정': 3940, '느긋하다': 3941, '무지': 3942, '감칠맛': 3943, '분해': 3944, '잘쓰다': 3945, '쉐': 3946, '가리비': 3947, '팡': 3948, '무심하다': 3949, '뱅이': 3950, '강매': 3951, '년월': 3952, '합격': 3953, '아오': 3954, '주지': 3955, '학원': 3956, '스케줄': 3957, '별거': 3958, '갈라고': 3959, '시험': 3960, '협박': 3961, '햇빛': 3962, '맑은': 3963, '왕왕': 3964, '개털': 3965, 'ㅜㅠㅠㅠ': 3966, 'ㅜㅠㅠ': 3967, '개무시': 3968, '교보': 3969, '지극히': 3970, '데코': 3971, '수돗물': 3972, '소모': 3973, '무적': 3974, '거여': 3975, '만도': 3976, '코고': 3977, '담그다': 3978, '댐': 3979, '삼계': 3980, '얼떨결': 3981, '자가': 3982, '뒷문': 3983, '인척': 3984, '겉모습': 3985, '질리다': 3986, '웰케': 3987, '꿀잼': 3988, '앞치마': 3989, '기념일': 3990, 'ㅠㅜㅠㅠ': 3991, '자랑': 3992, '적용': 3993, '설정': 3994, '의도': 3995, '끼우다': 3996, '소수': 3997, '어쩌자': 3998, '풍구': 3999, '에서야': 4000, '양보': 4001, '회피': 4002, '쓰기': 4003, '심보': 4004, '묵묵': 4005, '수건': 4006, '카트': 4007, '어투': 4008, '훠궈': 4009, '사르르': 4010, '보쌈김치': 4011, '뭣': 4012, '싸움': 4013, '구림': 4014, '장사꾼': 4015, '절임': 4016, '누런색': 4017, '장아찌': 4018, '묽다': 4019, '고르곤졸라': 4020, '보람': 4021, '메뚜기': 4022, '기울다': 4023, '윙': 4024, '사드': 4025, '치사하다': 4026, '솥밥': 4027, 'ㅠㅜㅜ': 4028, '넘흐': 4029, '댜': 4030, '잡수다': 4031, '한심하다': 4032, '나남': 4033, '관계': 4034, '왕십리': 4035, '셈': 4036, '아함': 4037, '동문서답': 4038, '시달리다': 4039, '복근': 4040, '골고루': 4041, '신장': 4042, '망': 4043, '체지방': 4044, '그다음': 4045, '어떻': 4046, '능': 4047, '꼬박꼬박': 4048, '어어': 4049, '폼': 4050, '힝': 4051, '쥬스': 4052, '일주': 4053, '이영': 4054, '대략': 4055, 'ㅜㅜㅜㅜㅜㅜ': 4056, '공항': 4057, '배신': 4058, '마이클잭슨': 4059, '진짴': 4060, '과잉': 4061, '우울하다': 4062, '아내': 4063, '관악': 4064, '구청': 4065, '펜': 4066, '보조': 4067, '붙잡다': 4068, '비타민': 4069, '친근하다': 4070, '무겁다': 4071, '구려': 4072, '헛웃음': 4073, '구찌': 4074, '자식': 4075, '누군가': 4076, '제주도': 4077, '정해': 4078, '뻣뻣하다': 4079, '이상은': 4080, '맹탕입니': 4081, '고로': 4082, '상품권': 4083, '새매': 4084, '탕탕': 4085, '만은': 4086, '여느': 4087, '막내': 4088, 'ㅠㅠㅋㅋㅋ': 4089, '닝': 4090, '귀염둥이': 4091, '철판': 4092, '오래간만': 4093, '명함': 4094, '건네주다': 4095, '규': 4096, '해당': 4097, '즉': 4098, '부담스럽다': 4099, '일식집': 4100, '런치': 4101, '과는': 4102, '장탕': 4103, '괜춘': 4104, '서나': 4105, '호기심': 4106, '고등학생': 4107, '실례': 4108, '숨소리': 4109, '헉헉': 4110, '헉': 4111, '아티스트': 4112, '동영상': 4113, '모음': 4114, '링크': 4115, '공원': 4116, '그룹': 4117, '낙서': 4118, '용지': 4119, '밥상': 4120, '어나더': 4121, '최상': 4122, '근래': 4123, '더욱': 4124, '입가심': 4125, '급찐급빠': 4126, '찬스': 4127, '어우러지다': 4128, '불평': 4129, '접': 4130, '메밀전': 4131, '기부': 4132, '훈계': 4133, '파이다': 4134, '환자': 4135, '잔치국수': 4136, '퉁퉁': 4137, '맹탕': 4138, '새끼': 4139, '나방': 4140, '날개': 4141, '결코': 4142, '너저분하다': 4143, '반문': 4144, '재활': 4145, '분분': 4146, '에나': 4147, '하하': 4148, '막장': 4149, '찌게': 4150, '존맛탱': 4151, '쫀맛': 4152, '다년': 4153, '전설': 4154, '두시': 4155, '꽝임': 4156, '세미': 4157, '소박하다': 4158, '푸근하다': 4159, '쵝오': 4160, '동의': 4161, '꺄악': 4162, '쇼파': 4163, '헬린': 4164, '저만': 4165, '고급스럽다': 4166, '꽈뜨': 4167, '어물': 4168, '안일하다': 4169, '꿀팁': 4170, '선하다': 4171, '때우다': 4172, '진작': 4173, '시르다': 4174, '직관': 4175, '킬로': 4176, '나쵸': 4177, '낚였다': 4178, '소화도': 4179, '스탈': 4180, '터벌': 4181, '높이다': 4182, '남녀': 4183, '가늘다': 4184, '페이도': 4185, '헷갈리다': 4186, '발효종': 4187, '띠껍': 4188, '꽉꽉': 4189, '재량': 4190, '므': 4191, '최고봉': 4192, '분잡': 4193, '증말': 4194, '펄': 4195, 'ㅡㅡㅡ': 4196, '겨자': 4197, '달기': 4198, '유부초밥': 4199, '상치': 4200, '단호박': 4201, '요트': 4202, '의하다': 4203, '근본': 4204, '내과': 4205, '독특하다': 4206, '찰': 4207, '거치다': 4208, '낫': 4209, '다라': 4210, '덜하다': 4211, '왕만': 4212, '이영화': 4213, '색감': 4214, '극단': 4215, '케이스': 4216, '지식': 4217, '물병': 4218, '찌꺼기': 4219, '설거지': 4220, '벽지': 4221, '손잡이': 4222, '녹이다': 4223, '요리사': 4224, '오프라인': 4225, '권하다': 4226, '혼': 4227, '소갈비': 4228, '쫄': 4229, '걸루': 4230, '결말': 4231, '풍기': 4232, '이뽀': 4233, '가벼워지다': 4234, '파도': 4235, '절절': 4236, '실행': 4237, '신곡': 4238, '너무나도': 4239, '읍니': 4240, '숫': 4241, '가마': 4242, '합리화': 4243, '클라우드': 4244, '참석': 4245, '언급': 4246, 'ㄱㄱ': 4247, '잉': 4248, '고왕': 4249, '황금': 4250, '올리브': 4251, '발급': 4252, '선착순': 4253, '명동': 4254, '취': 4255, '땡땡': 4256, '무맛': 4257, '인증': 4258, '심정': 4259, '약정': 4260, '에스': 4261, '공짜': 4262, '쯧쯧': 4263, '심심하다': 4264, '젠데': 4265, '다른사람': 4266, '콘센트': 4267, '탁자': 4268, '상하': 4269, '낭비하다': 4270, '뒷골목': 4271, '뇨끼': 4272, '누구세요': 4273, '맥도날드': 4274, '하하호호': 4275, '왘': 4276, '제각각': 4277, '어둡다': 4278, '모텔': 4279, '텔': 4280, '빌리다': 4281, '포레': 4282, '시트': 4283, '길어지다': 4284, '조명': 4285, '모자라다': 4286, '느릿느릿': 4287, '환타': 4288, '국보': 4289, '불량하다': 4290, '추측': 4291, '곁': 4292, '푸드': 4293, '처지다': 4294, '보드': 4295, '선배': 4296, '후배': 4297, '함량': 4298, '핫소스': 4299, '한솥': 4300, '품질': 4301, '뚝뚝': 4302, '초콜릿': 4303, '우린': 4304, '뚱뚱': 4305, '발목': 4306, '침샘': 4307, '한가득': 4308, '존잼': 4309, '만두국': 4310, '답시고': 4311, '불리다': 4312, '쪼끔': 4313, '업다': 4314, '달고나': 4315, '카페라떼': 4316, '아픔': 4317, '이랑은': 4318, '구경만': 4319, '스며들다': 4320, '닭도리탕': 4321, '얼큰하다': 4322, '복음': 4323, '엽닭': 4324, '꾹꾹': 4325, '이따': 4326, '협소함': 4327, '창덕궁': 4328, '능숙하다': 4329, '당첨': 4330, '염통': 4331, '대대': 4332, '가든': 4333, '하늘': 4334, '조건': 4335, '건빵': 4336, '방어': 4337, '모듬': 4338, '다섯': 4339, '회수': 4340, '환장하다': 4341, '실컷': 4342, '출처': 4343, '짚다': 4344, '투더': 4345, '꿈': 4346, '판이': 4347, '대학로': 4348, '산이': 4349, '국민': 4350, '부리고': 4351, '십대': 4352, '가리키다': 4353, '빈자리': 4354, '어딨다': 4355, '보이시': 4356, '나가야': 4357, '뽐뿌': 4358, '씨름': 4359, '데이': 4360, '흙': 4361, '쩔어요': 4362, '창구': 4363, '쬐다': 4364, '편도': 4365, '소형': 4366, '령': 4367, '알리다': 4368, '규정': 4369, '행위': 4370, '청양고추': 4371, '양식': 4372, '인석': 4373, '벗겨지다': 4374, '거르시': 4375, '떡진': 4376, '추정': 4377, '발주': 4378, '증거': 4379, '쓰래': 4380, '엽기': 4381, '동태': 4382, '된장': 4383, '그랬는데': 4384, '한소리': 4385, '거인': 4386, '그림': 4387, '간간히': 4388, '인천': 4389, '틀': 4390, '두어': 4391, '기여웡': 4392, '실감': 4393, '베다': 4394, '인클라인': 4395, '승리': 4396, '댕댕': 4397, '캐논': 4398, '보정': 4399, '어어어어': 4400, '몽': 4401, '드립커피': 4402, '날아가다': 4403, '다리다': 4404, '책상': 4405, '계심': 4406, '까스': 4407, '맥앤치즈': 4408, '조화로움': 4409, '란마': 4410, '시큼하다': 4411, '고소': 4412, '직종': 4413, '추': 4414, '페인': 4415, '딤섬': 4416, '마파두부': 4417, '듭니': 4418, '성수동': 4419, '딱좋다': 4420, '재질': 4421, '김말이': 4422, '또띠아': 4423, '무려': 4424, '닥터': 4425, '해인': 4426, '감비환': 4427, '봉골레': 4428, '증정': 4429, '담당자': 4430, '바란': 4431, '용량': 4432, '라볶이': 4433, '라이브': 4434, '공연': 4435, '힙': 4436, '성실하다': 4437, '븐': 4438, '스피드': 4439, '러닝머신': 4440, '이루다': 4441, '부': 4442, '캐릭터': 4443, '선명하다': 4444, '완성': 4445, '기왕': 4446, '병행': 4447, '디너': 4448, '흔들다': 4449, '레몬디톡스': 4450, '수익': 4451, '제이': 4452, '쯔양': 4453, 'ㅅ': 4454, 'ㅣ': 4455, '블로거': 4456, '장국': 4457, '후다닥': 4458, '조작': 4459, '파김치': 4460, '엊그제': 4461, 'ㅁ': 4462, '만석': 4463, '텅텅': 4464, '덜덜': 4465, '이남': 4466, '상봉': 4467, '접착제': 4468, '청경채': 4469, '일지': 4470, '기적': 4471, '먹어주다': 4472, '분모': 4473, '배추': 4474, '줄줄': 4475, '헤어': 4476, '납작': 4477, '이기도': 4478, '탕집': 4479, '담기다': 4480, '마사지': 4481, '쫙': 4482, '지적': 4483, '사범': 4484, '단어': 4485, '마요네즈': 4486, '숟갈': 4487, '잘나다': 4488, '깜빡': 4489, '범벅': 4490, '브라우니': 4491, '컬리': 4492, '수시로': 4493, '룰': 4494, '탈세': 4495, '반입': 4496, '약품': 4497, '소속사': 4498, '비난': 4499, '타코야키': 4500, '허니': 4501, '여담': 4502, '모로': 4503, '발걸음': 4504, '뉴': 4505, '깜놀': 4506, '이태원': 4507, '어림': 4508, '드레싱': 4509, '가지가지': 4510, '조명도': 4511, '달랑': 4512, '승부': 4513, '자시다': 4514, '왜인': 4515, '털다': 4516, '겹': 4517, '씌우다': 4518, '가림': 4519, '예술의전당': 4520, '비롯': 4521, '고장': 4522, '도망가다': 4523, '피시': 4524, '액션': 4525, '생기지': 4526, '컨디션': 4527, '전날': 4528, '털': 4529, '스피커': 4530, '별반': 4531, '베': 4532, '실종': 4533, '분하다': 4534, '후라이드': 4535, '말귀': 4536, '알아듣다': 4537, '임시': 4538, '고지': 4539, '일회용': 4540, '디자인': 4541, '북촌': 4542, '깎다': 4543, '불쾌': 4544, '일케': 4545, '협소하': 4546, '망원동': 4547, '마눌': 4548, '피자헛': 4549, '컴퓨터': 4550, '게이': 4551, '어수선하다': 4552, '떼': 4553, '적반하장': 4554, '치즈스틱': 4555, '잘리다': 4556, '필링': 4557, '뒤죽박죽': 4558, '칙칙하다': 4559, '소통': 4560, '유리컵': 4561, '맥주잔': 4562, '후임': 4563, '쉬는시간': 4564, '직영': 4565, '탄수화물': 4566, '보충': 4567, '바퀴': 4568, '한장': 4569, '문구': 4570, '케바케': 4571, '반영': 4572, '미각': 4573, '메론': 4574, '중요성': 4575, '법도': 4576, '하우스': 4577, '픽': 4578, '문래': 4579, '벌이': 4580, '꽃집': 4581, '붓기': 4582, '컨텐츠': 4583, '쌤': 4584, '최하': 4585, '최선': 4586, '제자': 4587, '마제': 4588, '차분하다': 4589, '무상': 4590, '만을': 4591, '협찬': 4592, '열시': 4593, '탁': 4594, '사면': 4595, '성은': 4596, '뽑히다': 4597, '사회': 4598, '인색': 4599, '뭉탱이': 4600, '이언': 4601, '자장면': 4602, '오묘하다': 4603, '공존': 4604, '패턴': 4605, '분노': 4606, '미녀': 4607, '토욜': 4608, '와의': 4609, '미숙': 4610, '면박': 4611, '찬물': 4612, '핵심': 4613, '토스트': 4614, '바게트': 4615, '조아하다': 4616, '초딩': 4617, '어른': 4618, '블럭': 4619, '조화': 4620, '한적하다': 4621, '자살': 4622, '적임': 4623, '명단': 4624, '멍멍': 4625, '강화도': 4626, '불쾌감': 4627, '옴뇸뇸': 4628, '가히': 4629, '가창력': 4630, '미모': 4631, '생얼': 4632, '들려주다': 4633, '정석': 4634, '어깨': 4635, '복부': 4636, '슬림': 4637, '정해진': 4638, '불안하다': 4639, '관찰': 4640, '부자연스럽다': 4641, '마르': 4642, '우주': 4643, '박뽕': 4644, '석': 4645, '박쥐': 4646, '재미없다': 4647, '방이': 4648, '미결': 4649, '분식': 4650, '잠그다': 4651, '손짓': 4652, '양해': 4653, '외면': 4654, '철철': 4655, '라그': 4656, '반미': 4657, '팬케이크': 4658, '에어': 4659, '포도당': 4660, '스캔': 4661, '불닭': 4662, '즈음': 4663, '허허': 4664, '최자': 4665, '로드': 4666, '가봣는데': 4667, '배꼽': 4668, '울리다': 4669, '캔': 4670, '면도': 4671, '안심': 4672, '납득': 4673, '본의': 4674, '윗': 4675, '끝내': 4676, '분후': 4677, '내려오다': 4678, '에가': 4679, '범죄자': 4680, '콩': 4681, '세계': 4682, '에혀': 4683, '개정': 4684, '애꿎': 4685, '이세': 4686, '화초': 4687, '개미': 4688, '삐뚤다': 4689, '심야시간': 4690, '모친': 4691, '틀리다': 4692, '잘나가다': 4693, '미용실': 4694, '변명': 4695, '파리바게트': 4696, '시비': 4697, '번가': 4698, '행사': 4699, '까페': 4700, '아리랑': 4701, '햄': 4702, '단지': 4703, '운집': 4704, '갈매기살': 4705, '잠재': 4706, '보리': 4707, '굴비': 4708, '절하': 4709, '복사': 4710, '건조하다': 4711, '퀄러티': 4712, '뿔': 4713, '볼펜': 4714, '쌓이다': 4715, 'ㅠㅠㅠㅠㅠㅠㅠㅠ': 4716, '복스럽다': 4717, '활기차다': 4718, '살아가다': 4719, '데뷔': 4720, '순수하다': 4721, '죵': 4722, '돌아보다': 4723, '전망': 4724, '제시': 4725, '흔': 4726, '부천역': 4727, '앞쪽': 4728, '사랑방': 4729, '랍스터': 4730, '도살': 4731, '혜자': 4732, '뿐더러': 4733, '자막': 4734, '조아': 4735, '수두': 4736, '룩': 4737, '천장': 4738, '셔터': 4739, '현지': 4740, '분위': 4741, '조치': 4742, '다기': 4743, '탄산': 4744, 'ㅆ': 4745, '무안': 4746, '어찌어찌': 4747, '식히다': 4748, '쿠우': 4749, '흐흐': 4750, '잔소리': 4751, '삽겹살': 4752, '빠릿빠릿': 4753, '개시': 4754, '브로커': 4755, '핑크': 4756, '적극': 4757, '초월': 4758, '살살': 4759, '블핑': 4760, '쵝': 4761, '비냉': 4762, 'ㅂㄹ': 4763, '비려': 4764, '최초': 4765, '알룰': 4766, '아삭아삭': 4767, '열무': 4768, '레이': 4769, '정책': 4770, '소독': 4771, '커버': 4772, '집게': 4773, '졸리다': 4774, '감히': 4775, '웃': 4776, '빵상': 4777, '지하도': 4778, '안달': 4779, '뻥튀기': 4780, '신경안': 4781, '뽀미': 4782, '콜라보': 4783, '프리': 4784, '송이': 4785, '겹꽃': 4786, '쌍대': 4787, '장통': 4788, '친철': 4789, '서울대': 4790, '중년': 4791, '낭': 4792, '존중': 4793, '권유': 4794, '사무실': 4795, '갈아타다': 4796, '사복': 4797, '쫄깃하': 4798, '샐몬롤': 4799, '바싹': 4800, '깍': 4801, '열무김치': 4802, '망설이다': 4803, '습니다': 4804, '은은하다': 4805, '리좀': 4806, '상도': 4807, '차도': 4808, '조만간': 4809, '호갱': 4810, '지켜보다': 4811, '허벅지': 4812, '잡기': 4813, '소인': 4814, '거북하다': 4815, '싯': 4816, '어그': 4817, '팔자': 4818, '가관': 4819, '혼잣말': 4820, '을해': 4821, '나나': 4822, '뷔페': 4823, '가입': 4824, '살찐': 4825, '카레덮밥': 4826, '크런치': 4827, '식탁': 4828, '휴가': 4829, '성산': 4830, '구수하다': 4831, '패드': 4832, '과장': 4833, '푸드코트': 4834, '발라': 4835, '당일': 4836, '통보': 4837, '매운탕': 4838, '페이스': 4839, '우환': 4840, '안통': 4841, '워터파크': 4842, '구우': 4843, '션': 4844, '프라이': 4845, '엄지': 4846, '초기': 4847, '해제': 4848, '완벽': 4849, '성신': 4850, '내야': 4851, '자의': 4852, '개성': 4853, '주저': 4854, '토나오다': 4855, '늙다': 4856, '오른쪽': 4857, '난무': 4858, '라지': 4859, '제지': 4860, '휙휙': 4861, '죄인': 4862, '개뿔': 4863, '토실': 4864, '온면': 4865, '아구찜': 4866, '인터폰': 4867, '유린': 4868, '송': 4869, '팔꿈치': 4870, '유독': 4871, '어뜨케': 4872, '쉰내': 4873, '용도': 4874, '셋팅': 4875, '횡설수설': 4876, '만듬': 4877, '교훈': 4878, '찐득거리다': 4879, '머릿': 4880, '대자': 4881, '북쪽': 4882, '숱': 4883, '까지만': 4884, '최대': 4885, '스키': 4886, '스트레칭': 4887, '음량': 4888, '울면': 4889, '잃어버리다': 4890, '에야': 4891, '차려': 4892, '원픽': 4893, '행운': 4894, '시레기': 4895, '팬케익': 4896, '반죽': 4897, '세척': 4898, '고기랑': 4899, '두리번거리다': 4900, '녀석': 4901, '함박스테이크': 4902, '꼬이다': 4903, '나이프': 4904, '일텐데': 4905, '억제': 4906, '구역질': 4907, '치과': 4908, '더움': 4909, '메뉴얼': 4910, '펌프': 4911, '갠': 4912, '강일': 4913, '달려오다': 4914, '헤드폰': 4915, '식물성': 4916, '입대': 4917, '기네': 4918, '반쪽': 4919, '미제': 4920, '클릭': 4921, '아유': 4922, '더치페이': 4923, '자서': 4924, '역다': 4925, '콧털': 4926, '우기다': 4927, '힘없다': 4928, '야간': 4929, '안정': 4930, '미끼상품': 4931, '퇴장': 4932, '잖다': 4933, '아닠': 4934, '부모': 4935, '아무렇다': 4936, '알밥': 4937, '아우': 4938, '동인': 4939, '아울렛': 4940, '등교': 4941, '와아아': 4942, '알루미늄': 4943, '정성스럽다': 4944, '오로지': 4945, '니트': 4946, '글구': 4947, '장바구니': 4948, '훨': 4949, '해물탕': 4950, '중국인': 4951, '뎈': 4952, '폰겜': 4953, '녹': 4954, '비어': 4955, '무표정': 4956, '네가지': 4957, '라나': 4958, '애플': 4959, '약국': 4960, '약도': 4961, '당근': 4962, 'ㅎㅎㅎㅎㅎ': 4963, '처녀': 4964, '마태복음': 4965, '거두다': 4966, '그러하다': 4967, '풀무': 4968, '의인': 4969, '소유': 4970, '그물': 4971, '가로': 4972, '연구': 4973, '초과': 4974, '손바닥': 4975, '랩': 4976, '양질': 4977, '오늘이': 4978, '엄정화': 4979, '가타': 4980, '용이': 4981, '다그': 4982, '언닝': 4983, '맑다': 4984, '가구': 4985, '디게': 4986, '큐티클': 4987, '붓': 4988, '요식업': 4989, '귀가': 4990, '영림': 4991, '핸드': 4992, '드립': 4993, '타로': 4994, '해석': 4995, '아주아주': 4996, '잔액': 4997, '재교육': 4998, '일인': 4999, '훈제': 5000, '탑재': 5001, '퍼': 5002, '미분': 5003, '유통': 5004, '기한': 5005, '찔끔': 5006, '시래기': 5007, '이중': 5008, '주택': 5009, '중하': 5010, '화상': 5011, '한식': 5012, '빙': 5013, '게살': 5014, '몆번': 5015, '더구나': 5016, '새해': 5017, '여드름': 5018, '처방': 5019, '착': 5020, '이기': 5021, '놀리다': 5022, '패널': 5023, '과의': 5024, '하므다': 5025, '천상': 5026, '어회': 5027, '꼬마': 5028, '장조림': 5029, '열쇠': 5030, '자주자주': 5031, '바트': 5032, '제기': 5033, '남편': 5034, '심오하다': 5035, '메세지': 5036, '감상': 5037, '쫓겨나다': 5038, 'ㅇㅈㄹ': 5039, '파인애플': 5040, '초록': 5041, '습니': 5042, '조회': 5043, '월계': 5044, '육성': 5045, '오메': 5046, '완죤': 5047, '낱개': 5048, '곤란하다': 5049, '리듬': 5050, '오우': 5051, '오이': 5052, '비누': 5053, '샘플러': 5054, '앤': 5055, '오프': 5056, '쫄깃': 5057, '다여트': 5058, '따리': 5059, '와이': 5060, '언능': 5061, '장안': 5062, '다가가다': 5063, '사은': 5064, '옌': 5065, '몬': 5066, '백만': 5067, '왼손잡이': 5068, '웡': 5069, '앞니': 5070, '슬러쉬': 5071, '요전': 5072, '편집자': 5073, '야생동물': 5074, '치석': 5075, '웰빙': 5076, '치아': 5077, '모드': 5078, '이형': 5079, '호환': 5080, '하드': 5081, '윤아': 5082, '엽': 5083, '윤화온': 5084, '선불': 5085, '텍스멕스': 5086, '소보로빵': 5087, '결함': 5088, '러너': 5089, '곳곱': 5090, '참말': 5091, '구만': 5092, '벌떡': 5093, '대세': 5094, '장문': 5095, '매출': 5096, '노출': 5097, '발행': 5098, '필로': 5099, '길쭉하다': 5100, '두운': 5101, '확신': 5102, '테러': 5103, '경쟁': 5104, '인물': 5105, '폭': 5106, '반면': 5107, '후보': 5108, '식겁하다': 5109, '만화카페': 5110, '남정내': 5111, '어찌': 5112, '자빠지다': 5113, '만화책': 5114, '퍽': 5115, '취업': 5116, '내딸': 5117, '보물섬': 5118, '가니쉬': 5119, '퐁듀': 5120, '미만': 5121, '강남구': 5122, '강남대로': 5123, '스푼': 5124, '느므느므먹': 5125, '뱃속': 5126, '에게로': 5127, '스타트': 5128, '동화': 5129, '지역번호': 5130, '에코': 5131, '생협': 5132, '짓거리': 5133, '부추기다': 5134, '척답': 5135, '마주': 5136, '연속': 5137, '델': 5138, '왜감': 5139, '정수': 5140, '기물': 5141, '선정': 5142, '부서지다': 5143, '탁탁': 5144, '비쌈싯': 5145, '빈약': 5146, '편리': 5147, '김찌': 5148, '해지': 5149, '비아': 5150, '일선': 5151, '방문자': 5152, '국민신문고': 5153, '전고지': 5154, '푸딩': 5155, '고무줄': 5156, '떨떠름하다': 5157, '정신연령': 5158, '고제': 5159, '들보': 5160, '준곳': 5161, '줄바': 5162, '동감': 5163, '질기': 5164, '일절': 5165, '웨': 5166, '엄연하다': 5167, '라이스': 5168, '페이퍼': 5169, '채선당': 5170, '포차': 5171, '일본': 5172, '카레돈까스': 5173, '탄탄': 5174, '체험': 5175, '쿰쿰하다': 5176, '거가': 5177, '주관': 5178, '이만원': 5179, '만천이': 5180, '스파': 5181, '시바': 5182, '키달': 5183, '신용카드': 5184, '일분': 5185, '원아': 5186, '유링': 5187, '동작': 5188, '지유': 5189, '됐넼': 5190, 'ㅋㅋㅎㅋㅋㅎㅋㅎㅋㅎㅋㅎㅋㅎㅋㅋㅋ': 5191, 'ㅋㅋㅋㅋㅋㅋㅋㅋㅋㄹㄹㅋㄹㅋㄹㄹㅋㄹㅋㄹㅋㄹㅋ': 5192, '존귀': 5193, '우시': 5194, '알늠들': 5195, '스샷': 5196, '리마': 5197, 'ㅋㅋㅋㅋㅋㅋㅋㅋㅋㅋㅋㅋㅋㅋㅋㅋㅋ': 5198, '수요일': 5199, '나른하다': 5200, '화요일': 5201, '이러니까': 5202, '진정': 5203, '엿먹으': 5204, '과장하다': 5205, '일자': 5206, '김밪': 5207, '쟤': 5208, '졸업사진': 5209, '늼': 5210, '음주': 5211, '여술': 5212, '걸레질': 5213, '정지': 5214, '개인플레이': 5215, '커트': 5216, '염색': 5217, '매미': 5218, '쌍수': 5219, '특별': 5220, '마원': 5221, '즐링': 5222, '리라': 5223, '다이어턴데': 5224, '머머': 5225, '성장기': 5226, '명시': 5227, '완식': 5228, '음원': 5229, '일본제': 5230, '나하': 5231, '친회': 5232, '맥날': 5233, '퇴': 5234, '박멸': 5235, '소송': 5236, '장비': 5237, '검진': 5238, '송도': 5239, '안스베이커리': 5240, '빅맥': 5241, '싨음': 5242, '박아': 5243, '프프칩': 5244, '내용정리': 5245, '이레': 5246, '향수': 5247, '푸리': 5248, '아늑하다': 5249, '닠': 5250, '여섯': 5251, '호박': 5252, '팥차': 5253, '살일': 5254, '직설': 5255, '각색': 5256, '안목': 5257, '생략': 5258, '등재': 5259, '만만': 5260, '견적': 5261, '버젓이': 5262, '뱃지': 5263, '정색': 5264, '야리다': 5265, '엎으려다': 5266, '파시': 5267, '알려지다': 5268, '인스턴트': 5269, '비꼬다': 5270, '붙이': 5271, '메밀국수': 5272, '띡띡거리': 5273, '끈쩍': 5274, '밥말': 5275, 'ㅍ': 5276, '퀸즈': 5277, '잡채': 5278, '모형': 5279, '물냉': 5280, '초가': 5281, '시늉': 5282, 'ㅕㄹ': 5283, '격상': 5284, '옆쪽': 5285, '밤시': 5286, '만주': 5287, '발상': 5288, '날짜': 5289, '자잘하다': 5290, '휘쳥거릴': 5291, '재결': 5292, '제해': 5293, '똥개': 5294, '훈련': 5295, '온통': 5296, '반대편': 5297, '쳐옮': 5298, '서고': 5299, '틈속': 5300, '타액': 5301, '술찜': 5302, '케이준': 5303, '콤비': 5304, '멀어지다': 5305, '거듭': 5306, '단편': 5307, '화일': 5308, '주세영': 5309, '크롭': 5310, '흐잉': 5311, '자질': 5312, '아이스': 5313, '초등학생': 5314, '노통': 5315, '양대': 5316, '떢볶이': 5317, '평양': 5318, '달려가다': 5319, '지라': 5320, '차끌': 5321, '가즈': 5322, '쩌리': 5323, '효자동': 5324, '근육통': 5325, '가업': 5326, '찔리다': 5327, '놐': 5328, '쭈욱': 5329, '기성품': 5330, '풀어지다': 5331, '접힌': 5332, '멤버': 5333, '병마': 5334, '푹쉬다': 5335, '물값': 5336, '꼽주': 5337, '셀픈데': 5338, '바뒤': 5339, '쏠리다': 5340, '을까요': 5341, '볼일': 5342, '전임': 5343, '헛소리': 5344, '되길레': 5345, '백신': 5346, '안구': 5347, '밥얻어먿으러': 5348, '시나': 5349, '기보': 5350, '호선': 5351, '지하철': 5352, '역삼역': 5353, '남쪽': 5354, '낸스': 5355, '뒤쪽': 5356, '도정': 5357, '닭개장': 5358, '주안상': 5359, '나기': 5360, 'ㅁㅇ': 5361, '하품': 5362, 'ㅠㅡㅜㅡㅜㅜ': 5363, '왤다': 5364, 'ㅋㅋㅋㅋㅋㅋㅋㅋㅋㅋㅋㅋㅋㅋㅋㅋㅋㅋㅋㅋㅋㅋ': 5365, '요리조리': 5366, '움직이다': 5367, '미니어쳐': 5368, '읭': 5369, '꼭꼭': 5370, '급격하다': 5371, '창동': 5372, '뿌시러': 5373, '급발진': 5374, '옄': 5375, '개월전': 5376, '비늘': 5377, '전만': 5378, '이랬는데': 5379, '꾹': 5380, '민폐': 5381, '격하': 5382, '금은': 5383, '미처': 5384, '가려지다': 5385, '시선': 5386, '못마땅하다': 5387, '허투루': 5388, '번볼': 5389, '윤화누': 5390, '겤': 5391, 'ㅇㅅ': 5392, '원주고': 5393, '물맛': 5394, '칙': 5395, '보리차': 5396, '찰나': 5397, '어쩌겠': 5398, '미학': 5399, '옴뇸뇸하': 5400, '귀엽댜': 5401, '뒈': 5402, '귀엽냨': 5403, '푸주': 5404, '부류': 5405, '가두다': 5406, '장기간': 5407, '인걸': 5408, '한창': 5409, '도장': 5410, '우왕좌왕': 5411, '번인': 5412, '부근': 5413, '그간': 5414, '다드': 5415, '홀쭉하다': 5416, '엉엉': 5417, '오물': 5418, '조물': 5419, '맜이소': 5420, '스탭들': 5421, '찹쌀떡': 5422, '살집': 5423, '머리털': 5424, '앞머리': 5425, '원상': 5426, '웃곀': 5427, '아하': 5428, '소장': 5429, 'ㅑ': 5430, '측정값': 5431, '원망하다': 5432, '니드': 5433, '닫히다': 5434, '년생': 5435, '단말': 5436, '인양': 5437, '줄줄이': 5438, '삼만원': 5439, '대접받다': 5440, '익': 5441, '자고': 5442, '하다못해': 5443, '마라톤': 5444, '선수': 5445, '허브': 5446, '일금': 5447, '개방': 5448, '후시': 5449, '장땡': 5450, '돕다': 5451, '계시': 5452, '하는둥': 5453, '둥이': 5454, '마크': 5455, '위반': 5456, '스페인': 5457, '동남아': 5458, '한계': 5459, '브로': 5460, '으루': 5461, '빨르다': 5462, '눌': 5463, '같아욤': 5464, '요구사항': 5465, '치즈볼': 5466, '머글': 5467, '쩌': 5468, '공급': 5469, '생산': 5470, '입덧': 5471, '현수막': 5472, '파오': 5473, '말줄임표': 5474, '허용': 5475, '각각': 5476, '요지부동': 5477, '셨습': 5478, '왈가': 5479, '왈부': 5480, '취지': 5481, '선의': 5482, '맥락': 5483, '구절': 5484, '혈안': 5485, '퇴색': 5486, '종이비행기': 5487, '백억': 5488, '난리치다': 5489, '말자하': 5490, '려면': 5491, '수정과': 5492, '최상급': 5493, '이하임': 5494, 'ㅉ': 5495, '여의도': 5496, '후드': 5497, '구의': 5498, '열기': 5499, '보행자': 5500, '에게도': 5501, 'ㄱㅊ': 5502, '드류': 5503, '가족손님': 5504, '페퍼': 5505, '치노': 5506, '인절미': 5507, '병시': 5508, '돗': 5509, 'ㅡㅜ': 5510, '꿋꿋': 5511, '이상만': 5512, '얕다': 5513, '건장하다': 5514, '정성껏': 5515, '웨스트': 5516, '뚝도': 5517, '후지': 5518, '츠키': 5519, '제작': 5520, '올라서다': 5521, '추어탕': 5522, '왜캐': 5523, '그라스': 5524, '댕길랍니닿': 5525, '중랑구': 5526, '규모': 5527, '버터빵': 5528, '구별': 5529, '뭍': 5530, '간자장': 5531, '뽁': 5532, '껌': 5533, '학': 5534, '가로수길': 5535, '택': 5536, '이외': 5537, '치키다': 5538, '단칼': 5539, '할겋': 5540, '고만하다': 5541, '고백': 5542, '노인': 5543, '넘버원': 5544, '세뇌': 5545, '퐁당': 5546, '하여금': 5547, '궁금증': 5548, '률': 5549, '쓰레긴데': 5550, '느긋느긋': 5551, '최종': 5552, '거액': 5553, '추후': 5554, '비실': 5555, '찌부': 5556, '중상': 5557, '갑을병정': 5558, '무기': 5559, '신임': 5560, '비고': 5561, '나발': 5562, '듀': 5563, '가식': 5564, '수년': 5565, '르망': 5566, '오른': 5567, '자루': 5568, '마가': 5569, '농산물': 5570, '차이다': 5571, '맛보기': 5572, '국산': 5573, '모퉁이': 5574, '제과점': 5575, '속지': 5576, '더티': 5577, '초코우유': 5578, '자초지종': 5579, '얼토': 5580, '네버': 5581, '가정식': 5582, '로비': 5583, '오가다': 5584, '떠지다': 5585, '톳': 5586, '깻입': 5587, '충무': 5588, '깁다': 5589, '요사': 5590, '챠슈추': 5591, '고뇌': 5592, '세지': 5593, '분식점': 5594, '속편': 5595, '튀어나오다': 5596, '말문': 5597, 'ㅜㅋㅋㅋ': 5598, '갈비찜': 5599, '메스꺼움': 5600, '볼라': 5601, '음악감독': 5602, '미술감독': 5603, '톰쿠': 5604, '루즈': 5605, '탄수': 5606, '근대': 5607, '습기': 5608, '복구': 5609, '불가라': 5610, '데이터': 5611, '날뻔': 5612, '소라': 5613, '키조개': 5614, '눈탱': 5615, '소변': 5616, '엑셀': 5617, '밟다': 5618, '돌림': 5619, '분쉬': 5620, '채점': 5621, '느': 5622, '보드랍다': 5623, '타인': 5624, '순탄': 5625, '굴러가다': 5626, '안내면': 5627, '돌발행동': 5628, '멘탈': 5629, '화도': 5630, '굴뚝': 5631, '면허': 5632, '강서': 5633, '오복': 5634, '촌': 5635, '막창순대': 5636, '갈릴': 5637, '삐지다': 5638, '돌아이': 5639, '노잼': 5640, '칸영화제': 5641, '떵': 5642, '마이': 5643, '월말': 5644, '설날': 5645, 'ㅜㅜㅠㅠㅠ': 5646, 'ㅠㅠㅠㅜㅠ': 5647, 'ㅠㅍㅍ': 5648, '푸푸': 5649, '억': 5650, '짜르': 5651, '종용': 5652, '우연': 5653, '문고': 5654, '섹션': 5655, '나눠지다': 5656, '핫트랙스': 5657, '찮': 5658, '이랜드': 5659, '라이트': 5660, '쉽다': 5661, '찌린내': 5662, 'ㅏㄱ': 5663, '이겠다': 5664, '개재': 5665, '밋다': 5666, '오십분': 5667, '갠찮': 5668, '갠찮은대': 5669, '조폭': 5670, '자유': 5671, '주짓수': 5672, '이점': 5673, '왜냐하면': 5674, '어쨋': 5675, '에서까지': 5676, '사원': 5677, '극치': 5678, '전자': 5679, '전자제품': 5680, '개비': 5681, '즉석식품': 5682, '웃프당': 5683, '엄지손가락': 5684, '서준': 5685, '농락': 5686, '원가': 5687, '편의': 5688, '이상없다': 5689, '예뽀': 5690, '보호': 5691, '용인': 5692, '압니다': 5693, '대니': 5694, '발광하다': 5695, '잡침': 5696, '볼보': 5697, '벤츠': 5698, '서울시': 5699, '애먼': 5700, '홍대앞': 5701, '차만': 5702, '겉멋': 5703, '저급': 5704, '부림': 5705, '일대': 5706, '대합': 5707, '어버이날': 5708, '한치': 5709, '경복궁': 5710, '경희대': 5711, '계르다': 5712, '게으름': 5713, '거래': 5714, '파바': 5715, '푹푹': 5716, '설치': 5717, '태이블': 5718, '다오': 5719, '고속버스': 5720, '렵': 5721, '어의': 5722, '담소': 5723, '빚': 5724, '목격': 5725, '전후': 5726, '배리': 5727, '바임': 5728, '들여다보다': 5729, '인체': 5730, '툼': 5731, '미끌미끌하다': 5732, '암소': 5733, '선릉역': 5734, '더없이': 5735, 'ㅅㄱ': 5736, '대패': 5737, '어리둥절하다': 5738, '남친': 5739, '한웅': 5740, '쿰': 5741, '퍽퍽해': 5742, '동치미': 5743, '한가지': 5744, '선호': 5745, '왜물': 5746, '싰': 5747, '스티커': 5748, '파묻히다': 5749, '아삭거리다': 5750, '양념장': 5751, '즙': 5752, '떫은맛': 5753, '커튼': 5754, '고서': 5755, '기주': 5756, '화덕': 5757, '금새': 5758, '땅땅': 5759, '별루임': 5760, '지니다': 5761, '수통': 5762, '헹구지': 5763, '옥상': 5764, '닭봉': 5765, '시지': 5766, '굽네치킨': 5767, '프랑스': 5768, '믹스': 5769, '골반': 5770, '똥집': 5771, '말랑말랑': 5772, '마니아': 5773, '쐬다': 5774, '애증': 5775, '마니마니': 5776, '우세': 5777, '형태': 5778, '집옆': 5779, '매물': 5780, '빈정거리다': 5781, '또다른': 5782, '식견': 5783, '어슬렁어슬렁': 5784, '공덕': 5785, '고열': 5786, '식중독': 5787, '위험하다': 5788, '탄지': 5789, '가트': 5790, '빈혈': 5791, '질몸': 5792, '롤러': 5793, '인데욤': 5794, '떠버리': 5795, '쿡쿡': 5796, '월요일': 5797, '손예진': 5798, '한가인': 5799, '잘빠지다': 5800, '어지럽다': 5801, '떡방': 5802, '흑임자': 5803, '곶창': 5804, 'ㅍㅍ': 5805, '얼평': 5806, '묵념': 5807, '큐큐': 5808, '빠이팅': 5809, '이리저리': 5810, '사림': 5811, '뵈다': 5812, '김민기': 5813, '압박': 5814, '바람막이': 5815, '새기다': 5816, '세탁': 5817, '숭어': 5818, '동임': 5819, '방향': 5820, '선술집': 5821, '지난번': 5822, '의치': 5823, '오류로': 5824, '몸뚱': 5825, '아리': 5826, '켤레': 5827, '신어': 5828, '스타카토': 5829, '구의동': 5830, '진품': 5831, '국가': 5832, '뻘': 5833, '정작': 5834, '랜': 5835, '디스': 5836, '구더기': 5837, '부스러기': 5838, '보약': 5839, '파의': 5840, '잡탕': 5841, '국뭉': 5842, '처너': 5843, '식성': 5844, '는가': 5845, '국정원': 5846, '한판': 5847, '이지창': 5848, '전역': 5849, '달동': 5850, '고기만': 5851, '굳굳궂': 5852, '이돈': 5853, '굴짬뽕': 5854, '오디': 5855, '권모술수': 5856, 'ㅠㅜㅠㅠㅠㅠㅠㅠㅠㅠ': 5857, '꽁냥꽁': 5858, '쥬세유': 5859, 'ㅇㅁㅇ': 5860, '귀욤귀욤': 5861, '방지': 5862, '찰지다': 5863, '떡밥': 5864, '개밥': 5865, '책정': 5866, '우롱': 5867, '뫄': 5868, '카츠': 5869, '미미': 5870, '땟': 5871, '왔는뎈': 5872, 'ㄱㅊㄱㅊ': 5873, '두목': 5874, '원데이': 5875, '장함': 5876, '난시': 5877, '탕수': 5878, '보태': 5879, '국집': 5880, '넵킨': 5881, '단순하다': 5882, '쪼가리': 5883, '찬밥': 5884, '흐뭇하다': 5885, '컴터': 5886, '사양': 5887, '분임': 5888, '헐레벌떡': 5889, '증상': 5890, '샷건': 5891, '본업': 5892, '밋밋하다': 5893, '호프': 5894, '고속도로': 5895, '휴게소': 5896, '훠': 5897, '얼씬': 5898, '아씨': 5899, '화양연화': 5900, '투덜대다': 5901, '눈뎅': 5902, '스님': 5903, '세용': 5904, '유림': 5905, '닮음': 5906, 'ㅠㅜㅠㅜㅠㅜ': 5907, '유목민': 5908, '쪼이다': 5909, '너무잘햌': 5910, '저격': 5911, '릿트': 5912, '묜': 5913, '코르': 5914, '활동량': 5915, '팻폰': 5916, '혹쉬': 5917, '가디건': 5918, '오데껀': 5919, '여소': 5920, '근소': 5921, '케챱': 5922, '개얼': 5923, '그레이': 5924, '파괴': 5925, '범': 5926, '먹을땤': 5927, '영홬': 5928, '극한': 5929, '극혐': 5930, '근까': 5931, '프': 5932, '질마': 5933, '요겉': 5934, '손실': 5935, '인간미': 5936, '끼셧어': 5937, '옷차림': 5938, '부끄러움': 5939, '클라스': 5940, '근데런닝할때': 5941, '런닝화': 5942, '나가요': 5943, '커피집': 5944, '훠배': 5945, '부수': 5946, '요구르트': 5947, '아악': 5948, '돈쭐': 5949, '트네': 5950, '메뉴인': 5951, '삼선': 5952, '퍼먹는': 5953, '기합': 5954, '수완': 5955, '헤결': 5956, '타임스퀘어': 5957, '대수': 5958, '계절': 5959, '두릅': 5960, '가시오가피': 5961, '강렬하다': 5962, '디다': 5963, '가을': 5964, '손수': 5965, '오쉬': 5966, '입문': 5967, '흠잡다': 5968, '전현': 5969, '매상': 5970, '판이하다': 5971, '딴': 5972, '깔보다': 5973, '치료받다': 5974, '잊어버리다': 5975, '솜': 5976, '적도': 5977, '훨낫다': 5978, '정치': 5979, '파네': 5980, '충고': 5981, '언짢다': 5982, '막말': 5983, '알도': 5984, '보완': 5985, '말안': 5986, '김수미': 5987, '나왕': 5988, '퍼덕이다': 5989, '흐리다': 5990, '셀': 5991, '침뭍': 5992, '냉소': 5993, '새까맣다': 5994, '쫄아': 5995, '어쩌라고': 5996, '해달': 5997, '김칫국': 5998, '까눌레': 5999, '까탈': 6000, '스런': 6001, '사로자다': 6002, '이니까': 6003, '메로': 6004, '그동안': 6005, '정종': 6006, '주전자': 6007, '쿠리다': 6008, '병술': 6009, '미스터리': 6010, '찡그리다': 6011, '눈알': 6012, '리필할랬더': 6013, '성심껏': 6014, '날카롭다': 6015, '여친': 6016, '궁합': 6017, '엇습': 6018, '울트라': 6019, '수퍼': 6020, '깜찍': 6021, '우루루': 6022, '차지': 6023, '가입자': 6024, '꺄악너무': 6025, '진선미': 6026, '디엠': 6027, '꺄앙': 6028, '윤화님제': 6029, '머리색': 6030, '재미나': 6031, '언냐': 6032, '이효정': 6033, '가오리': 6034, '주차건물': 6035, '순천만': 6036, '벌교': 6037, '갯벌': 6038, '산지': 6039, '직송': 6040, '박히다': 6041, '딜리': 6042, '쩡': 6043, '꿀떡': 6044, '망실': 6045, '끼리끼리': 6046, '끼악': 6047, 'ㄴㄴㅅㄱㅊㅅㅇㄷ': 6048, 'ㅠㅠㅎ': 6049, '나아지다': 6050, '터미널': 6051, '뜨내기': 6052, '굴국밥': 6053, '혹독하다': 6054, '닷트': 6055, '유명인': 6056, '역효과': 6057, '영지': 6058, '박붐': 6059, 'ㅏㅋㅋㅌㅋㅋㅋㅋㅋㅋㅋㅋ': 6060, '주책': 6061, '윤동': 6062, '숴': 6063, '맥': 6064, '목젖': 6065, '붓다': 6066, '부들부들하다': 6067, '십': 6068, '보다야': 6069, '잌': 6070, 'ㅆㅎ': 6071, '콘치': 6072, '누렁이': 6073, '거대하다': 6074, '식초': 6075, '따름': 6076, '윤화씨': 6077, '니야': 6078, '턱턱': 6079, '흐흠': 6080, '인도': 6081, '땀짇': 6082, '니나': 6083, '겟': 6084, '기우뚱': 6085, '거려': 6086, '반지하': 6087, '밥통': 6088, '복도': 6089, '전단지': 6090, '한가하다': 6091, '갖가지': 6092, '교묘하다': 6093, '나빳습니': 6094, '주간': 6095, '멈칫': 6096, '존대말': 6097, '활성화': 6098, '공격': 6099, '오직': 6100, '영업비밀': 6101, '유기농': 6102, '거저': 6103, '잘뽑다': 6104, '우장산역': 6105, '무렵': 6106, '시크': 6107, '해삼이': 6108, '안식': 6109, '호강': 6110, '잡놈': 6111, '포도': 6112, '셥': 6113, '막입': 6114, '글거림': 6115, '기횝니': 6116, '타코야끼': 6117, '문어': 6118, '복판': 6119, '포케': 6120, '우포': 6121, '케인': 6122, '포춘': 6123, '쿠기': 6124, '입터징': 6125, '라라': 6126, '테이크': 6127, '복전': 6128, '도망': 6129, '완강': 6130, '끌차': 6131, '유형': 6132, '발렛비': 6133, '속보': 6134, '만이': 6135, '채혈': 6136, '손소독제': 6137, '가점': 6138, '필요시': 6139, '은제': 6140, '보노': 6141, '사차원': 6142, '배랑': 6143, '산패': 6144, '순수비': 6145, '틀림없다': 6146, '맨발': 6147, '일조조': 6148, '그로': 6149, '낵가그럿케': 6150, '낼돈': 6151, '잘라먹다': 6152, '진가': 6153, '불금': 6154, '순두부찌개': 6155, '뽂음밥': 6156, '뿌시': 6157, '워영': 6158, '해설': 6159, '큐큩': 6160, '비틀즈': 6161, '예시': 6162, '과부': 6163, '유물': 6164, '탄화': 6165, '끈적끈적하다': 6166, '감고': 6167, '양푼': 6168, '슬었어': 6169, '빈티': 6170, '장작': 6171, '독창': 6172, '연희동': 6173, '감탄사': 6174, '파가': 6175, '멘보샤답없음': 6176, '옴왜': 6177, '나요나': 6178, '망치': 6179, '야단': 6180, '손닝': 6181, '인사동': 6182, '갈수': 6183, '순둥순둥해': 6184, '웟': 6185, '쫑': 6186, '가겐': 6187, '방쪽': 6188, '서구': 6189, '대파': 6190, '안타': 6191, '부여': 6192, '용의자': 6193, '헷': 6194, '여자도': 6195, '파국': 6196, '정선': 6197, '유쾌': 6198, '다이어터': 6199, '연방': 6200, '테마': 6201, '휘핑크림': 6202, '짙다': 6203, '무드': 6204, '몰아치다': 6205, '혼돈': 6206, '격정': 6207, '왈칵': 6208, '지독': 6209, '안상': 6210, '념': 6211, '영감': 6212, '옷장': 6213, '숫불좀': 6214, '장흥': 6215, '훌륭': 6216, '남아도': 6217, '너뭌': 6218, '잠봉뵈르': 6219, '구름': 6220, '카라멜': 6221, '넌내': 6222, '미소년': 6223, '정화': 6224, '적분': 6225, '욜': 6226, '헝': 6227, '모듬회': 6228, '성경': 6229, '입담': 6230, '절로': 6231, '마구': 6232, '굽': 6233, '잊혀지다': 6234, '천루': 6235, '고딩': 6236, '결합': 6237, '싸인': 6238, '끝임': 6239, '유심': 6240, '신청서': 6241, '임펜': 6242, '익월': 6243, '청구': 6244, '갈바': 6245, '홀비': 6246, '넥스트': 6247, '배속': 6248, '들어옄': 6249, '친': 6250, '바랬는데': 6251, '바랬나봐': 6252, '음질': 6253, '밤꽃': 6254, '스터디': 6255, '에바': 6256, '독일': 6257, '뭐좀알': 6258, '지껄이다': 6259, '대형': 6260, '슈퍼마켓': 6261, '노사연': 6262, '누님': 6263, '이내': 6264, '훌쩍': 6265, '거틍': 6266, '논현동': 6267, '시끌벅적': 6268, '놀런': 6269, '러신': 6270, '능사': 6271, '상영': 6272, '놉': 6273, '당한': 6274, '썸남': 6275, '딥빡': 6276, '창렬임': 6277, '반기다': 6278, '피오': 6279, '누굴': 6280, '얼탱': 6281, '두피': 6282, '코베': 6283, '두루치기': 6284, '눈썹': 6285, '치켜뜨다': 6286, '눈화장': 6287, '혼텔': 6288, '친목': 6289, '소독약': 6290, '환복': 6291, '휴게실': 6292, '운지': 6293, '숙박': 6294, '긴급': 6295, '통역': 6296, '외국어': 6297, '교양': 6298, '계세': 6299, '코웃음': 6300, '하성': 6301, '발언': 6302, '불광': 6303, '신입': 6304, '기업': 6305, '온갖': 6306, '모욕': 6307, '잡담': 6308, '초저녁': 6309, '계란말이': 6310, '생명': 6311, '체질량지수': 6312, '콜레스테롤': 6313, 'ㄷㅏ': 6314, '음날': 6315, '아빠': 6316, '단아': 6317, '몰랏음': 6318, '가뿐하다': 6319, '람': 6320, '물리': 6321, '뿜뿜해': 6322, '노맛임': 6323, '피자스쿨': 6324, '어케참': 6325, '알레르기': 6326, '두드러기': 6327, '이비인후과': 6328, '몰려오다': 6329, '공차': 6330, '하월': 6331, '곡점': 6332, '크러쉬': 6333, '거마': 6334, '원샷': 6335, '데임': 6336, '다어어트': 6337, '부숴': 6338, '타가': 6339, '안고': 6340, '엄두': 6341, '주먹': 6342, '라던가': 6343, '살펴보다': 6344, '습돠': 6345, '타오': 6346, 'ㅣㅎ': 6347, '회복하다': 6348, '윈없': 6349, '편견': 6350, '마음먹다': 6351, '넘잼썽': 6352, '허언증': 6353, '빌어': 6354, '걸신': 6355, 'ㅠㅎ': 6356, '단일': 6357, '안동찜닭': 6358, '단팥빵': 6359, '소보': 6360, '마늘빵': 6361, '맘모스': 6362, '맹맛': 6363, '결부': 6364, '탁하다': 6365, '달콤': 6366, '쌈무': 6367, '데리다': 6368, '냉국': 6369, '아마도': 6370, '육질': 6371, '행궈': 6372, '오염': 6373, '닭꼬치': 6374, '도리': 6375, '눈꽃': 6376, '전분': 6377, '걸죽': 6378, '동행': 6379, '닭다리': 6380, '터벅': 6381, '병들다': 6382, '보루': 6383, '아야': 6384, '면쫄깃함이없음': 6385, '반찬껫잎': 6386, '추리': 6387, '쏠쏠': 6388, '퍼센트': 6389, '등지': 6390, '벽뷰': 6391, '달력': 6392, '에피': 6393, '투어': 6394, '학병': 6395, '진단': 6396, '보더': 6397, '말루': 6398, '나야': 6399, '로다': 6400, '곱곱': 6401, '굽굽': 6402, '욕함': 6403, '임저': 6404, '타도': 6405, '조언': 6406, '대대손손': 6407, '하리': 6408, '유튜버입니': 6409, '행시': 6410, '블박': 6411, '썬팅': 6412, '앵무새': 6413, '크루아상': 6414, '촉촉': 6415, '쫀득해': 6416, '스펙': 6417, '이슬': 6418, '냇': 6419, '보상': 6420, '주셧으': 6421, '입처': 6422, '백구': 6423, '퓨': 6424, '굼매': 6425, '좌표': 6426, '구합': 6427, '창안': 6428, '에든': 6429, '유궁금궁금': 6430, '으러': 6431, '삿나': 6432, '질질': 6433, '짚': 6434, '먹습니꽈': 6435, '거알': 6436, '말끔': 6437, '골로': 6438, '라돈': 6439, 'ㅊㅏㅁ': 6440, '대투더왓투더': 6441, '뽜투더': 6442, '치트': 6443, '곱치다': 6444, '투나잇': 6445, '꿈속': 6446, '기업가': 6447, '예원': 6448, 'ㄸㅏ': 6449, 'ㅡㅠㅡ': 6450, '캠': 6451, '핑갈': 6452, 'ㅏㅇㄹㄹㅇ': 6453, '키드': 6454, '키트': 6455, '콜': 6456, '포항': 6457, '츄릅히밥님': 6458, '처럼은': 6459, '주병': 6460, '깝니': 6461, '유나': 6462, '한나라': 6463, '보전': 6464, '배우자': 6465, '창피하다': 6466, '입점': 6467, '언양': 6468, '대햐': 6469, '무신': 6470, '재밋다': 6471, '일색': 6472, '이삼': 6473, '더빼': 6474, '미워하다': 6475, '현대': 6476, '어기': 6477, '꼽줌': 6478, '뿜뿜이': 6479, '덕자': 6480, '라네': 6481, '덩치': 6482, '신충': 6483, '쌩까다': 6484, '유념': 6485, '명가': 6486, '리다': 6487, '스멀스멀': 6488, '데뷔전': 6489, '도가니': 6490, '도가니탕': 6491, '차이나': 6492, '도다리': 6493, '세꼬시': 6494, '캐바캐': 6495, '도미노피자': 6496, '슈퍼': 6497, '디럭스': 6498, '버세': 6499, '조항': 6500, '식품위생법': 6501, '항': 6502, '제호': 6503, '규칙': 6504, '별표': 6505, '자등': 6506, '머항': 6507, '업자': 6508, '공통': 6509, '찬통': 6510, '또는': 6511, '문화': 6512, '노야': 6513, '얐': 6514, 'ㅜㅜㅡ': 6515, '얆': 6516, '쏘스': 6517, '건만': 6518, '말라보': 6519, '투성이': 6520, '돈까쓰': 6521, '살려줳': 6522, '고정식': 6523, '돈육': 6524, '원산지': 6525, '어제껀': 6526, '핀': 6527, '주황색': 6528, '제안': 6529, '두께': 6530, '돌발': 6531, '난청': 6532, '응급처치': 6533, '전과': 6534, '경기도': 6535, 'ㅊ': 6536, '서류': 6537, '변치않다': 6538, '기웃': 6539, '에드': 6540, '불로': 6541, '다욧트': 6542, '가깝슴니': 6543, '짝퉁': 6544, '퀵시겨': 6545, '쇼핑': 6546, '써비': 6547, '동창': 6548, '립': 6549, '니다': 6550, '탕알탕': 6551, '쫄여': 6552, '코다리': 6553, '불쇼': 6554, '입도': 6555, '룰루': 6556, '쫀득한건': 6557, '고슬고슬': 6558, '빠졋어': 6559, '전인': 6560, '애벌레': 6561, '복불복': 6562, '세네': 6563, '한국인': 6564, '전투': 6565, '한텐': 6566, '점잖다': 6567, '양일': 6568, '뜸북': 6569, '잘햇스': 6570, '부임': 6571, '그립다': 6572, '인연': 6573, 'ㅋㅋㄱㅋ': 6574, '찰떡': 6575, '가좌동': 6576, '축산': 6577, '뽑기': 6578, '가렵니': 6579, '시켯는뎈': 6580, '쥰': 6581, '디쉬': 6582, '소개팅': 6583, '자네': 6584, '랍': 6585, '트러플': 6586, '조우': 6587, '어쩜이리': 6588, '살림': 6589, '자존감': 6590, '말랑하다': 6591, '어린이집': 6592, '분초': 6593, '가사': 6594, '번쩍': 6595, '뎌': 6596, 'ㅅㅅㅅㅅㅅㅅㅅㅅㅅㅅㅅㅅㅅㅅㅅㅅㅅㅅㅅㅅㅅㅅㅅㅅㅅ': 6597, '드라이브': 6598, '스루': 6599, '너겟킹': 6600, '몬스터': 6601, '체육': 6602, '판지': 6603, '펄펄': 6604, '농도': 6605, '넣엇어': 6606, '다욧증이엇눙디': 6607, '든든하다': 6608, '저하': 6609, '강력하다': 6610, '일조': 6611, '그랬다고': 6612, '걸어오다': 6613, '임본': 6614, '시나몬롤': 6615, '나프탈렌': 6616, '조잡하다': 6617, '명령': 6618, '신속하다': 6619, '화의': 6620, '등심': 6621, '네이션': 6622, '소감': 6623, '드글드글하': 6624, '디바': 6625, '날선': 6626, '맛나': 6627, '쇼케이스': 6628, '아바': 6629, '디카': 6630, '찐득찐득': 6631, '부실': 6632, '앞두다': 6633, '노노': 6634, '텐데': 6635, '바꼍': 6636, '술맛': 6637, '딴다': 6638, '크렘브륄레': 6639, '실실': 6640, '회색': 6641, '그린티': 6642, '하리보': 6643, '정감': 6644, '운치': 6645, '송탄': 6646, '시세': 6647, '기기': 6648, '짝궁': 6649, '온라인': 6650, '또띠야': 6651, '브리또': 6652, '벨기에': 6653, '화이트': 6654, '초콜릿케이크': 6655, '프렌차이즈': 6656, '똠얌': 6657, '똥배': 6658, '한약': 6659, '탈모': 6660, '싸이코': 6661, '아트': 6662, '입자': 6663, '부합': 6664, '스벅가격': 6665, '맹탕탱망': 6666, '시치미': 6667, '슬쩍': 6668, '가츠동': 6669, '신라면': 6670, '웅룰': 6671, '찬조': 6672, '또봬용': 6673, '첨봽네': 6674, '쿠사리': 6675, '개입': 6676, '와인잔': 6677, '지로': 6678, '래미안': 6679, '파크': 6680, '상아': 6681, '사촌동생': 6682, '총각': 6683, '래빗': 6684, '뚱카롱님': 6685, '구체': 6686, '줄기': 6687, '신문지': 6688, '감싸다': 6689, '직사': 6690, '광선': 6691, '물처리': 6692, '쏟아지다': 6693, '생화': 6694, '특성': 6695, '램': 6696, '점핑': 6697, '맘마미아': 6698, '판도라': 6699, '군요': 6700, '전개': 6701, '중반': 6702, '부로': 6703, '치닫다': 6704, '데칼코마니': 6705, '에보니': 6706, '립티컬런': 6707, '맨몸': 6708, '런닝뛸': 6709, '순환': 6710, '대성공': 6711, '발매': 6712, '신나다': 6713, '빵댕': 6714, '밀봉': 6715, '표지': 6716, '책사': 6717, '발품': 6718, '서점': 6719, '등촌': 6720, '거중': 6721, '츄르르릅': 6722, '시티': 6723, '대학교': 6724, '레오': 6725, '차근차근': 6726, '레이어': 6727, '펌': 6728, '레토르트': 6729, '로또': 6730, '로얄': 6731, '메이크업': 6732, '사물함': 6733, '천지': 6734, '정수기': 6735, '인포': 6736, '삐': 6737, '뻔쩍': 6738, '재연': 6739, '부터가': 6740, '하층': 6741, '어쩌면': 6742, '뱃겨': 6743, '강블리': 6744, '백김치': 6745, '뭐좀': 6746, '인력': 6747, '리플': 6748, '쪽파': 6749, '다듬다': 6750, '군내': 6751, '특': 6752, '림벅': 6753, '일터': 6754, '립글로즈': 6755, '바른': 6756, 'ㅁㅐ': 6757, '저음': 6758, '맛있슴다': 6759, '피크': 6760, '마음씨': 6761, '사카린': 6762, '궁물': 6763, '어떠하다': 6764, '화쿵부': 6765, 'ㅐㅐㅐㅐ': 6766, '남다르다': 6767, 'ㅋㅋㅋㅋㄷㄷ': 6768, 'ㄹㅈㄷㄴ': 6769, '딩': 6770, '봣네용': 6771, '몽땅': 6772, '패': 6773, '칭구': 6774, '야지': 6775, '백마': 6776, 'ㅜㅋㅋㅋㅋㅋㅋㅋ': 6777, '넒적당': 6778, '부랑': 6779, '짜지다': 6780, '번만': 6781, '뚝딱': 6782, '탕갠': 6783, '간파': 6784, '땡초': 6785, 'ㅠㅠㅠㅠㅠㅠㅠㅠㅠㅠ': 6786, '역씌': 6787, '푸쥬': 6788, '공업': 6789, '불리': 6790, '피곤': 6791, '호흡': 6792, '중단': 6793, '스텦퍼': 6794, '들여놓다': 6795, '구장': 6796, '뭉치다': 6797, '기어': 6798, '왕국': 6799, '흔하다': 6800, '말대꾸': 6801, '마이클': 6802, '잭슨': 6803, '쿨': 6804, '슬픔': 6805, '뭐얔': 6806, 'ㅋㅋㅎㅋㅎㅋㅋㅎㅋㅋㅎㅋㅎㅋㅋㅋㅋㅋㅋㅋㅋㅋㅋ': 6807, '어머님께': 6808, '마직막': 6809, '오일': 6810, '오일이': 6811, '툴툴대네': 6812, '자제': 6813, '만년': 6814, '유튭애': 6815, '두렵다': 6816, '마카오': 6817, '웍': 6818, '주루룩': 6819, '악취': 6820, '훤히': 6821, '고무장갑': 6822, '매만지다': 6823, '조심': 6824, '곤': 6825, '대지': 6826, '꾸역꾸역': 6827, '군등내': 6828, '계좌': 6829, '이체': 6830, '권리': 6831, '만추': 6832, '악플러': 6833, '태클': 6834, '랄로': 6835, '암페타민': 6836, '성분': 6837, '데랄': 6838, '다주': 6839, '속인': 6840, '군것질': 6841, '약과': 6842, '분류': 6843, '몰래': 6844, '숙소': 6845, '밝히다': 6846, '사시': 6847, '집행유예': 6848, 'ㅂㅇ': 6849, '사례': 6850, '미미하다': 6851, '질타': 6852, '극심하다': 6853, '언론': 6854, '장악': 6855, '국회의원': 6856, '청부': 6857, '악의': 6858, '터뜨리다': 6859, '진실': 6860, '밝혀지다': 6861, '입히다': 6862, '셧다': 6863, '목교': 6864, '오코노미야키': 6865, '앓이': 6866, '험하다': 6867, '목뒤': 6868, '셀프서비스': 6869, '비슨데': 6870, '백화점': 6871, '부디': 6872, '조정': 6873, '타이틀': 6874, '노상': 6875, '모터사이클': 6876, '운전': 6877, '장모님': 6878, '으로부터': 6879, '생전': 6880, '파트타임': 6881, '어요': 6882, '어김없이': 6883, '찍히다': 6884, '만요': 6885, '반납': 6886, '최대한': 6887, '상의': 6888, '절레절레': 6889, '무관심': 6890, '존속': 6891, '건승': 6892, '뉴판': 6893, '나용': 6894, '홍수': 6895, '리더': 6896, '돌려주다': 6897, '시급': 6898, '구걸': 6899, '볼곳': 6900, '우산도': 6901, '어쩌란거냐': 6902, '욭': 6903, 'ㄹㅇㅋㅋ': 6904, '지안': 6905, '시무': 6906, '음달': 6907, '오트': 6908, '체리': 6909, '채식': 6910, '마케팅': 6911, '극악': 6912, '사주면': 6913, '무색': 6914, '무취': 6915, '출입문': 6916, '매트': 6917, '재래시장': 6918, '권해': 6919, '맘스터친데': 6920, '세균': 6921, '맘스': 6922, '터치': 6923, '칠하다': 6924, '밀국수': 6925, '가치': 6926, '갈리': 6927, '수백': 6928, '갈비탕': 6929, '전등': 6930, '밀대': 6931, '질겅질겅': 6932, '관광객': 6933, '쪽팔리다': 6934, '강정은': 6935, '개띠': 6936, '재래식': 6937, '튀어': 6938, '꺼려쟈': 6939, '고치시': 6940, '옴청': 6941, '피셔': 6942, '남여': 6943, '전철역': 6944, '비염': 6945, '수선': 6946, '전기': 6947, '막대': 6948, '기류': 6949, '야스': 6950, '시부야': 6951, '타카': 6952, '노바': 6953, '바점': 6954, '이케부쿠로': 6955, '겉보기': 6956, '츠케지루': 6957, '아이덴티티': 6958, '별탈': 6959, '멱': 6960, '킹왕짱': 6961, '저울': 6962, '점줌': 6963, '스럽지도': 6964, '찍찍': 6965, '살수': 6966, '상위': 6967, '효자': 6968, '조카딸': 6969, '장애인': 6970, '예삿일': 6971, '휴업': 6972, '벨런스': 6973, '근거': 6974, '갇히다': 6975, '낭패': 6976, 'ㅎㅏ': 6977, '옵니다': 6978, '놓이다': 6979, '죈': 6980, '짐해': 6981, '쫄이': 6982, '일수록': 6983, '특출나다': 6984, '우려': 6985, '숙란': 6986, '간격': 6987, '라자냐': 6988, '로안': 6989, '어버버': 6990, '쫄깃함': 6991, '맛있졍': 6992, '가스': 6993, '거주': 6994, '어젯밤': 6995, '일본인': 6996, '혐한': 6997, '정서': 6998, '유튜버': 6999, '어색': 7000, '애청': 7001, '해만': 7002, '현생': 7003, '때매': 7004, '이굴': 7005, '짠맛': 7006, '도나': 7007, '밍': 7008, '백배': 7009, '손놈': 7010, '맥적': 7011, '어떨': 7012, '매운돈코츠': 7013, '소갈비찜': 7014, '라인업': 7015, '유랑': 7016, '녹슬다': 7017, '옷가게': 7018, '비행청소년': 7019, '언행': 7020, '수수료': 7021, '분거': 7022, '린데': 7023, '컷팅칼': 7024, '쇼트닝': 7025, '상온': 7026, '단돈': 7027, '무책임하다': 7028, '유리잔': 7029, '물음표': 7030, '파트타이머': 7031, '맵싹': 7032, '미세먼지': 7033, '한미리': 7034, '물탄': 7035, '고약하다': 7036, '기호': 7037, '수해': 7038, '받읉테': 7039, '겨남': 7040, '관임': 7041, '우드': 7042, '더기': 7043, '왠': 7044, '연달': 7045, '대야': 7046, 'ㅉㅣ': 7047, '이탈리안': 7048, '엠티': 7049, '배아픔': 7050, '학계': 7051, '정설': 7052, '그나저나': 7053, '이자': 7054, '균형': 7055, '귀엽닼': 7056, '쟁반짜장': 7057, '어찌나': 7058, '찰스': 7059, '함글구': 7060, '백반': 7061, '덜다': 7062, '앨범': 7063, '듯나': 7064, '별룬데': 7065, '안전하다': 7066, '멍': 7067, '숙이다': 7068, '카노': 7069, '낙심': 7070, '그따위': 7071, '개월안': 7072, '에그타르트': 7073, '왕뼈': 7074, '트럭': 7075, '약재료': 7076, '메쳉': 7077, '어필': 7078, '코크': 7079, '안도': 7080, '갑니닼': 7081, '한마음': 7082, '스팅': 7083, '옵': 7084, '제만': 7085, '내옴': 7086, '묵은지': 7087, '청양': 7088, '마요': 7089, '삼다': 7090, '불가능': 7091, '보틀': 7092, '토닉': 7093, '워터': 7094, '화요': 7095, '정오': 7096, '들쭉날쭉하다': 7097, '고집': 7098, '신도림': 7099, '지장': 7100, '월전': 7101, '쓰러지다': 7102, '공갈빵': 7103, '묵직하다': 7104, '난감하다': 7105, '달리기': 7106, '격주': 7107, '무언가': 7108, '앗쌤': 7109, '가능성': 7110, '하진': 7111, '냉동식품': 7112, '판매점': 7113, '모래알': 7114, '법사': 7115, '이법': 7116, '모처럼': 7117, '동반': 7118, '영영': 7119, '모카': 7120, '볼껄': 7121, '넘김': 7122, '까끌까끌하다': 7123, '목살': 7124, '쫜득쫜득함': 7125, '목요일': 7126, '재산': 7127, '몰랑잉': 7128, '쓔': 7129, '식탐': 7130, '좀갠챦': 7131, '몽몽': 7132, '무국': 7133, '주철': 7134, '키크': 7135, '호면': 7136, '물만두': 7137, '개운하다': 7138, '핫플': 7139, '번지르르하다': 7140, '실속': 7141, '논리': 7142, '카리스마': 7143, '뭇': 7144, '구운동': 7145, '무뼈': 7146, '무선': 7147, '충전기': 7148, '봉제인형': 7149, '취하': 7150, '무용': 7151, '시생': 7152, '입시': 7153, '미로찾기': 7154, '바로잡다': 7155, '좌절': 7156, '도달': 7157, '못마땅': 7158, '이수연': 7159, '이산': 7160, '다임': 7161, '몆개': 7162, '정육': 7163, '야쿠르트': 7164, '밀키스': 7165, '체끼': 7166, '물몸': 7167, '헬린이': 7168, '적절': 7169, '디테': 7170, '물풍선': 7171, '후유증': 7172, '쌈박하다': 7173, '스릴러': 7174, '심증': 7175, '썸': 7176, '스포': 7177, '부가': 7178, '신비하다': 7179, '바이올렛': 7180, '신조': 7181, '안기다': 7182, '미남': 7183, '라니깐': 7184, '분장': 7185, '스카웃': 7186, '미니미': 7187, '보장': 7188, '관상': 7189, '입금': 7190, '웟습니': 7191, '선약': 7192, '냉장': 7193, '스럽지': 7194, '대면': 7195, '안지': 7196, '아마추어': 7197, '미슐랭': 7198, '미야자키': 7199, '미어캣': 7200, '수군거리다': 7201, '후진': 7202, '프로필': 7203, '간섭': 7204, '드라마틱하다': 7205, '절식': 7206, '리기': 7207, 'ㅈㅂㅅ': 7208, '미키마우스': 7209, '거르': 7210, '밀면': 7211, '모금': 7212, '양임': 7213, '포스트': 7214, '아이디': 7215, '상함': 7216, '겟슈': 7217, '행인': 7218, '인기척': 7219, '식물': 7220, '청정': 7221, '꼬끄': 7222, '쫀득': 7223, '레몬이': 7224, '댕기': 7225, '불결': 7226, '나오니': 7227, '라스': 7228, '쉐프': 7229, '미흡하다': 7230, '혼내다': 7231, '양재천': 7232, '한몫': 7233, '개놀랫': 7234, '우엉': 7235, '달짝지근하다': 7236, '박미선': 7237, '레전': 7238, '망햇': 7239, '연예계': 7240, '초아': 7241, '물퐁': 7242, '안촣으': 7243, '지요': 7244, '지리': 7245, '걱': 7246, '검': 7247, '휘말': 7248, '대치': 7249, '구속': 7250, '벌글': 7251, '선임': 7252, '강력': 7253, '범재': 7254, '공개': 7255, '팬션': 7256, '단기': 7257, '마마': 7258, '햇반': 7259, '널다': 7260, '정글': 7261, '법칙': 7262, '토끼다': 7263, '귀욥넼': 7264, '야속하다': 7265, '한결같이': 7266, 'ㅜㅠㅜㅜㅜ': 7267, '꾸밈': 7268, '작곡가': 7269, '작사가': 7270, '해나': 7271, '수미': 7272, '아무쪼록': 7273, '청춘': 7274, '아령': 7275, '더격': 7276, '더디다': 7277, '서서히': 7278, '단번': 7279, '일정량': 7280, '배변': 7281, '지면': 7282, '집착': 7283, '친해지다': 7284, '드릉드릉일': 7285, '전보': 7286, '햄스터': 7287, '천상계': 7288, '임연': 7289, '애인': 7290, '살좀': 7291, '땜시': 7292, '치마': 7293, '입지': 7294, '김옥빈': 7295, '김태리': 7296, '얼핏보': 7297, '순종': 7298, '따분하다': 7299, '결핍': 7300, '주도하다': 7301, '나락': 7302, '도발': 7303, '흥미롭다': 7304, '만만하다': 7305, '명불허전': 7306, '진화': 7307, '사임': 7308, '불륜': 7309, '관객': 7310, '원색': 7311, '예고편': 7312, '개쩌': 7313, '온몸': 7314, '봣는데': 7315, '섹시하다': 7316, '스톡': 7317, '버너': 7318, '타요': 7319, '구해': 7320, '바이어': 7321, '집어넣다': 7322, '팔지': 7323, '맙시': 7324, '전복죽': 7325, '가운데': 7326, '발가락': 7327, '드하': 7328, '쳐스': 7329, '직후': 7330, '사탕': 7331, '족저근막염': 7332, '비명': 7333, '반주': 7334, '비례': 7335, '끼셧': 7336, 'ㅋㅋㅋㅋㅋㅋㅋㅋㅋㅋㅋㅋㅋㅋㅋㅋㅋㅋㅋㅋㅋㅋㅋ': 7337, '다다르다': 7338, '발렛파킹': 7339, '다룸': 7340, '밤봄': 7341, '식빵': 7342, '조려': 7343, '굽쇼': 7344, '잠좀': 7345, '흐트려짐': 7346, '집필': 7347, '문학': 7348, '재난': 7349, '예절': 7350, '일치': 7351, '백숙': 7352, '베겨': 7353, '남산': 7354, '쪼꼬미': 7355, '소멸하다': 7356, '닥터페퍼': 7357, '화물': 7358, '승강기': 7359, '사명': 7360, '처지': 7361, '니스': 7362, '유감': 7363, '주가': 7364, '간걸': 7365, '비대': 7366, '어기다': 7367, '운전자': 7368, '못펐다': 7369, '못퍼': 7370, '빈곳': 7371, '이러니': 7372, '명일역': 7373, '비프': 7374, '떠다니다': 7375, '러스트': 7376, '정시': 7377, '재시': 7378, '이크': 7379, '가해': 7380, '쥬세': 7381, '백인대장': 7382, '백종원': 7383, '맛임': 7384, '저쩌': 7385, '지불': 7386, '계산기': 7387, '줄랬는데': 7388, '다수결': 7389, '사악하다': 7390, '신전': 7391, '정비사': 7392, '똥차': 7393, '유세': 7394, '주니': 7395, '쌍판': 7396, '찌그러지다': 7397, '주기도': 7398, '영점': 7399, '돌보다': 7400, '혈압': 7401, '접채': 7402, '점바점': 7403, '낚시질': 7404, '쉐이킷들': 7405, '오줌': 7406, '재차': 7407, '밀폐': 7408, '한술': 7409, '거릅니': 7410, '대여': 7411, '구도': 7412, '뽀샵': 7413, '사료': 7414, '대림동': 7415, '왜냐면': 7416, '개반': 7417, '육류': 7418, '삼색': 7419, '에피소드': 7420, '간혹': 7421, '녘': 7422, '가락시장': 7423, '비츄별빵': 7424, '뿔릴': 7425, '집어치우다': 7426, '일정하다': 7427, '기은주': 7428, '파트': 7429, '린네': 7430, '통풍': 7431, '축축하다': 7432, '쿼퀴': 7433, '헹주': 7434, '크레마': 7435, '맹숭': 7436, '점심식사': 7437, '혜화역': 7438, '늦어지다': 7439, '짢': 7440, '탕면': 7441, '앞전': 7442, '점준': 7443, '따끈하다': 7444, '설농탕': 7445, '설롱탕': 7446, '구기다': 7447, '땡': 7448, '통통뽈살': 7449, '일비': 7450, '퍽퍽입': 7451, '노려보다': 7452, '되돌아보다': 7453, '랫': 7454, '처참': 7455, '더웁': 7456, '버블': 7457, '무청': 7458, '차끌온': 7459, '기름값': 7460, '산다': 7461, '멍청이': 7462, '도아': 7463, '쿵쾅': 7464, '이임': 7465, '무지개': 7466, '바람떡': 7467, '순회': 7468, '보리밥': 7469, '난다요': 7470, '보신탕': 7471, '애호가': 7472, '거르길': 7473, '파티': 7474, '맛김치': 7475, '무우': 7476, '지역화폐': 7477, '유튜': 7478, '버들': 7479, '요로': 7480, '수향': 7481, '진솔': 7482, '대다수': 7483, '전도': 7484, '복학': 7485, '로나': 7486, '어메': 7487, '리칸': 7488, '차이니스': 7489, '물불': 7490, '밀키': 7491, '확실': 7492, '우헤헤헤': 7493, '구엽긴': 7494, '허옇': 7495, '당분간': 7496, '켜': 7497, '골자': 7498, '주홍글씨': 7499, '와랏': 7500, '소액': 7501, 'ㅛㅛㅛㅛ': 7502, '퀸덤': 7503, '봄누': 7504, '음색': 7505, '룸메이트': 7506, '여리다': 7507, '되돌리다': 7508, '심금': 7509, '계속계속': 7510, '금도': 7511, '어떻든': 7512, '자랑스럽다': 7513, '나혼산': 7514, '성숙하다': 7515, '요지': 7516, '너무됴타': 7517, '츄리닝': 7518, '친언니': 7519, '친숙하다': 7520, '꽃길': 7521, '울컥울컥': 7522, '찬란하다': 7523, '이착': 7524, '의무': 7525, '봉구': 7526, '즐거움': 7527, '선사': 7528, '생신': 7529, '기념': 7530, '구사': 7531, '동거': 7532, '주민등록': 7533, '등본': 7534, '증명서': 7535, '휴대': 7536, '막무가내': 7537, '쫓아내다': 7538, '급체': 7539, '으로나': 7540, '이탈': 7541, '이안': 7542, '찌리': 7543, '연적': 7544, '북경오리': 7545, '팀원': 7546, '북악': 7547, '잆어진걸': 7548, '정릉': 7549, '답십리': 7550, '쇠고기': 7551, '자욱하다': 7552, '수고비': 7553, '아주띠껍': 7554, '해장죽': 7555, '안암': 7556, '죽집': 7557, '었됴': 7558, '뭐합': 7559, '분때': 7560, '느므': 7561, '기운': 7562, '편안': 7563, '귀리': 7564, '칭앤칭': 7565, '핑크레이디': 7566, '빽빽': 7567, '열악하다': 7568, '남짓하다': 7569, '판자': 7570, '곳곳': 7571, '어두움': 7572, '도란도란': 7573, '무음': 7574, '말소리': 7575, '조심조심': 7576, '태국': 7577, '예스럽다': 7578, '불량품': 7579, '삐쩍밀랐더라구': 7580, '끝내다': 7581, '라쿤': 7582, '흠뻑': 7583, '불완전하다': 7584, '시공': 7585, '분비물': 7586, '엑': 7587, '틱틱거림': 7588, '넷이가': 7589, '삼계탕': 7590, '당췌': 7591, '어지간하다': 7592, '짐승': 7593, '무성의': 7594, '짬밥': 7595, '강등': 7596, '리뉴': 7597, '일회용품': 7598, '초도': 7599, '설겆이': 7600, '럼': 7601, '파악': 7602, '스톱워치': 7603, '줄쭉': 7604, '일관': 7605, 'ㅋㅋㅋㅌㅌㅋㅋㅋㅋㅋ': 7606, '맞췃던': 7607, '내보내다': 7608, '두세': 7609, '십년': 7610, '큰코다치다': 7611, '릴': 7612, '다마': 7613, '싯가': 7614, '불판번': 7615, '갈기': 7616, '판하': 7617, '삽겹': 7618, '뷔기': 7619, '처참하다': 7620, '느글느글': 7621, '분리': 7622, '보고서': 7623, '좀재': 7624, '밋겟넹': 7625, '브루잉': 7626, '블랙': 7627, '득실': 7628, '각오': 7629, '외출': 7630, '땡볕': 7631, '지수': 7632, '하지원': 7633, '미묘하다': 7634, '분당': 7635, '댁': 7636, '친근해지다': 7637, '캐리': 7638, '오입': 7639, '리비도': 7640, '떡짐': 7641, '다데기': 7642, '향연': 7643, '파리채': 7644, '리안': 7645, '룰라': 7646, '좌': 7647, '비방': 7648, '데친': 7649, '입반': 7650, '비빔냉면': 7651, '오이랑': 7652, '쥑여줘': 7653, '오이김치': 7654, '떡국': 7655, '고사리': 7656, '안사면': 7657, '겁내': 7658, '초딜': 7659, '크라임씬': 7660, '비엠더블유': 7661, '전화기': 7662, '삼청동': 7663, '커피한잔': 7664, '마이크': 7665, '여요': 7666, '욀케': 7667, '점차': 7668, '반칙': 7669, '빕스': 7670, '이대로': 7671, '폭립': 7672, '농담': 7673, '생무': 7674, '무가': 7675, '맛깔나다': 7676, '국시': 7677, '더치': 7678, '빵림': 7679, '쫄깃해': 7680, '매점': 7681, '준글': 7682, '고하': 7683, '빼쉐': 7684, '뻬': 7685, '흡사하다': 7686, '반탕': 7687, '입안': 7688, '뼈찜': 7689, '질김': 7690, '뽀또맛': 7691, '컴백': 7692, '뽐언': 7693, '큩': 7694, '뽐이': 7695, '태생': 7696, '뽕': 7697, '악질': 7698, '집기': 7699, '헤치다': 7700, '빙자': 7701, '오지랖': 7702, '님들': 7703, '활력소': 7704, '유가': 7705, '숙대': 7706, '구리다': 7707, '닭맛': 7708, '그윽': 7709, '향취': 7710, '군대': 7711, '이라고는': 7712, '취사': 7713, '선점': 7714, '아니므니': 7715, '코드': 7716, '침침하다': 7717, '시뻘겋다': 7718, '꿀럭꿀럭': 7719, '가래': 7720, '잠금장치': 7721, '통제': 7722, '마찰': 7723, '언어': 7724, '딥': 7725, '어찌저찌': 7726, '어쩐지': 7727, '장시간': 7728, '기울어지다': 7729, '피로': 7730, '달성': 7731, '정가': 7732, '제니': 7733, '목록': 7734, 'ㄱㅡ': 7735, 'ㅜㅜㅜㅠ': 7736, '손상': 7737, '코앞': 7738, '프론트': 7739, '호명': 7740, '증상만': 7741, '질병': 7742, '사시미': 7743, '타마': 7744, '버젼': 7745, '그니': 7746, '에게서': 7747, '공수': 7748, '함흥': 7749, '사육': 7750, '뚜기': 7751, '성하다': 7752, '초면': 7753, '황': 7754, '뭐뭐': 7755, '깜박': 7756, '빈정': 7757, '디어': 7758, '브레드': 7759, '서리': 7760, '겉바속촉쫄깃': 7761, '캡쳐': 7762, '함부로': 7763, '헛탕침': 7764, '얼그레이': 7765, '인정미': 7766, '쑥떡': 7767, '콘': 7768, 'ㅈㅓㅇ': 7769, '빛': 7770, '출석': 7771, '바이올린': 7772, '닭죽': 7773, '바밤바': 7774, '구지': 7775, '고사': 7776, '횡단보도': 7777, '파란': 7778, '외치다': 7779, '벅': 7780, '차보': 7781, '이심': 7782, '증명사진': 7783, '공갈': 7784, '말솜씨': 7785, '블루베리': 7786, '블': 7787, '베스': 7788, '공중': 7789, '팔랑팔랑': 7790, '뚜레쥬르': 7791, '불친철': 7792, '접대': 7793, '자부심': 7794, '경향': 7795, '흥건': 7796, '닦아지다': 7797, '보쇼': 7798, '알배생': 7799, '보스': 7800, '잘해주다': 7801, '퇴직': 7802, '험담': 7803, '히히덕거리느': 7804, '성추행': 7805, '범입': 7806, '시력': 7807, '몇십': 7808, '움켜잡다': 7809, '뿌리치다': 7810, '세무': 7811, '공무원': 7812, '수금': 7813, '돚': 7814, '작작': 7815, '사진관': 7816, '구가': 7817, '구만해': 7818, '악담': 7819, '과금': 7820, '계보': 7821, '엑스': 7822, '퍼트': 7823, '사주': 7824, '체질': 7825, '반신반의': 7826, '스몰': 7827, '속히': 7828, '대기업': 7829, '지능': 7830, '톡톡': 7831, '질물': 7832, '논걸': 7833, '참치회': 7834, '품목': 7835, '필러': 7836, '클린': 7837, '틈틈하다': 7838, '도도': 7839, '전해': 7840, '수명': 7841, '익선동': 7842, '방충': 7843, '창틀': 7844, '사체': 7845, '삼환': 7846, '산호': 7847, '겹살': 7848, '튼실하다': 7849, '청국장': 7850, '상견례': 7851, '식량': 7852, '하장': 7853, '텐데요': 7854, '만사': 7855, '죽빵마려웠음': 7856, '국세청': 7857, '심판': 7858, '상봉역': 7859, '화분': 7860, '화환': 7861, '주제': 7862, '떡복': 7863, '곱맛': 7864, '졸귀긴하닼': 7865, '떄': 7866, '랜다': 7867, '찡긋': 7868, '쾌적': 7869, '북한': 7870, '산성': 7871, '리리': 7872, '빗자루': 7873, '대장균': 7874, '에를': 7875, '케사디야': 7876, '곤죽': 7877, '녹즙': 7878, '솊님들': 7879, '증후군': 7880, '러브': 7881, '핸들': 7882, '더줌': 7883, '부라타': 7884, '프렌치토스트': 7885, '비쌋': 7886, '청담': 7887, '샤': 7888, '햇음': 7889, '서른': 7890, '마흔': 7891, '세제': 7892, '스프레이': 7893, '효율': 7894, 'ㅠㅠㅋㅋㅋㅋㅋㅋ': 7895, '센서': 7896, '무도': 7897, '조심성': 7898, '실물': 7899, '불가하다': 7900, '란테': 7901, '육장': 7902, '구울': 7903, '잦다': 7904, '하남': 7905, '최최': 7906, '벗어나다': 7907, '여실히': 7908, '맛점': 7909, '뒷받침': 7910, '니쁘': 7911, '울렁': 7912, '채무': 7913, '뻥뻥': 7914, 'ㄹ': 7915, '최강': 7916, '그닥임': 7917, '먹는둥': 7918, '정신없이': 7919, '죄송스럽다': 7920, '행온': 7921, '문정': 7922, '로데오거리': 7923, '크로커다일': 7924, '레이디': 7925, '양적': 7926, '수영복': 7927, '늘햇': 7928, '벌벌': 7929, '목욕탕': 7930, '왓': 7931, '동그랗다': 7932, '로타리': 7933, '셩': 7934, '미우미우': 7935, '답답': 7936, '터널': 7937, '샤인': 7938, '케이트': 7939, '윈슬렛': 7940, '선유도': 7941, '이자카야': 7942, '끼니': 7943, '밸': 7944, '간편': 7945, '빗다': 7946, '척척': 7947, '고덕': 7948, '퍼석퍼석': 7949, '선풍기': 7950, 'ㄷㄷㄷㄷㄷㄷ': 7951, '예뻣겠': 7952, '그만두다': 7953, '선행': 7954, '로제': 7955, '안배': 7956, '이라기보다는': 7957, '헤비': 7958, '순하다': 7959, '성동구': 7960, '선제': 7961, '격리': 7962, '중구': 7963, '보건소': 7964, '쑥': 7965, '쑤시다': 7966, '면봉': 7967, '채취': 7968, '성산동': 7969, '성수': 7970, '서울숲': 7971, '건포도': 7972, '타의': 7973, '본래': 7974, 'ㅉㅉㅉ': 7975, '몇몇': 7976, '안방': 7977, '매니악': 7978, '고만': 7979, '더이뻣을텐데': 7980, '아이유': 7981, '거임몸': 7982, '잡아먹다': 7983, '킹콩': 7984, '앵': 7985, '그득그득': 7986, '시기하다': 7987, '무서움': 7988, '광': 7989, '청초하다': 7990, '머쓱하다': 7991, '하네욬': 7992, '금가루': 7993, '뿌렷': 7994, '라비': 7995, '엇음': 7996, '센베': 7997, '소룡': 7998, '어향': 7999, '소름끼치다': 8000, '질감': 8001, '살코기': 8002, '소셜': 8003, '소소하다': 8004, '물렁': 8005, '하단': 8006, '소파': 8007, '엎드리다': 8008, '나자빠지다': 8009, 'ㅜㅡㅜ': 8010, '가래떡': 8011, '내쫒겼습니닼': 8012, '빵점': 8013, '한식당': 8014, '우두커니': 8015, '빚쟁이': 8016, '잿': 8017, '손목시계': 8018, '건전지': 8019, '솔까말': 8020, '솔리드': 8021, '옴므': 8022, '걸이': 8023, '솔직': 8024, '부시장': 8025, '주먹밥': 8026, '해줫으': 8027, '살점': 8028, '장보': 8029, '한남동': 8030, '군더더기': 8031, '송지오': 8032, '정장': 8033, '코트': 8034, '벨트': 8035, '목도리': 8036, '다수': 8037, '입어보다': 8038, '점퍼': 8039, '치수': 8040, '취조': 8041, '숄더': 8042, '프레': 8043, '숏컷': 8044, '엽떡임': 8045, '실천': 8046, '개월류': 8047, '삼고': 8048, '빵꾸': 8049, '난건': 8050, '수도꼭지': 8051, '씽': 8052, '대용': 8053, '수박': 8054, '수북하다': 8055, '신기다': 8056, '코엑스': 8057, '어딘질': 8058, '전광판': 8059, '쩍': 8060, '미나리': 8061, '원점': 8062, '차뽕': 8063, '쓰리다': 8064, '녹취': 8065, '밀려오다': 8066, '지침': 8067, '개똥': 8068, '수작': 8069, '통과': 8070, '수타면': 8071, '새우젓': 8072, '소자': 8073, '그램': 8074, '찜찜하다': 8075, '컨': 8076, '심야': 8077, '열라면': 8078, '취했다': 8079, '퍼주는집': 8080, '회덮밥': 8081, '기대다': 8082, '부상': 8083, '중간고사': 8084, '지킴': 8085, '작용': 8086, '하체': 8087, '주일': 8088, '공익': 8089, '간단': 8090, '스모': 8091, '스텝': 8092, '상징': 8093, '복선': 8094, '졸음': 8095, '광도': 8096, '유저': 8097, '조개': 8098, '발라드': 8099, '장창': 8100, '한바탕': 8101, '부조리극': 8102, '지문': 8103, '장식': 8104, '서터레스': 8105, '찍짝': 8106, '혜화': 8107, '풀잎': 8108, '중순': 8109, '뵙다': 8110, '시그널': 8111, '시리얼': 8112, '시민': 8113, '열락처': 8114, '시사회': 8115, '메모장': 8116, '지워지다': 8117, '개연': 8118, '노후': 8119, '덤벨': 8120, '제자리': 8121, '원스': 8122, '원시': 8123, '관찮은편': 8124, '파르페': 8125, '악쓰다': 8126, '지독하다': 8127, '나빳는': 8128, '광장': 8129, '묻어잇슴': 8130, '폭식증': 8131, '강박증': 8132, '모듀': 8133, '속성': 8134, '응용': 8135, '풍기다': 8136, '비릿': 8137, '꼬릿': 8138, '본능': 8139, '소금물': 8140, '천정': 8141, '서랍': 8142, '촛점': 8143, '의사소통': 8144, '들락날락': 8145, '으으': 8146, '식용유': 8147, '훨쌈': 8148, '신당동': 8149, '상인': 8150, '시원시원하다': 8151, '뮦던': 8152, '썰물': 8153, '인공': 8154, '수직': 8155, '내려다보다': 8156, '진짜진짜': 8157, '냉매': 8158, '가계': 8159, '피어싱': 8160, '바랑': 8161, '염증': 8162, '투썸': 8163, '실소': 8164, '괘씸하다': 8165, '림': 8166, '삼위일체': 8167, '인엽떡': 8168, '세금': 8169, '데이블': 8170, '회전초밥': 8171, '그날그날': 8172, '갈고': 8173, '푸석푸석하다': 8174, '젓': 8175, '바로바로': 8176, '벌이다': 8177, 'ㅋㅋㅋㅋㅋㅋㅋㅋㅋㅋㅋㅋㅋㅋㅋㅋㅋㅋㅋㅋ': 8178, '소라색': 8179, '말랑뽀쨕': 8180, '유년기': 8181, '호다닥': 8182, '썸잉': 8183, '쏠트': 8184, '따끔하다': 8185, '동물성': 8186, '짭짤하다': 8187, '무거워': 8188, '것임': 8189, '쒸': 8190, '이발': 8191, '젼나': 8192, '뼈통': 8193, '쓰레기봉투': 8194, '틀어주다': 8195, '천엽시': 8196, '막심': 8197, '씨유': 8198, '씸': 8199, '또안': 8200, '먹듯': 8201, '이아': 8202, '니지': 8203, 'ㅇㄴㅋㅋㅋㅋㅋㅋㅋㅋㅋㅋㅋ': 8204, '등신대': 8205, '알았넼': 8206, '부은': 8207, '미대': 8208, '구나열': 8209, '롤해': 8210, '남자배우': 8211, 'ㅠㅠㅠㅠㅋㅋㅋㅋㅋㅋ': 8212, '산타': 8213, '에궁': 8214, '별의별': 8215, '인스딸': 8216, '썬크림': 8217, '탕슉': 8218, '마시멜로': 8219, '대구': 8220, '탕슉맛': 8221, '쟁': 8222, '얼핏': 8223, '낌': 8224, '롸': 8225, '손찌검': 8226, '지지다': 8227, '락': 8228, 'ㅜㅜㅠㅜㅜ': 8229, '유툽': 8230, '조카': 8231, '가동': 8232, '납품': 8233, '유앤아이': 8234, '귀요미': 8235, 'ㅠㅠㅋㅋㅋㅋㅋㅋㅋㅋ': 8236, '웃겨욬': 8237, '왓엇': 8238, '글러': 8239, '예감': 8240, '발성': 8241, '재탕': 8242, '의심스럽다': 8243, '랍시고': 8244, '얄짤없': 8245, '죽겠네': 8246, '햄토리': 8247, '봄봄': 8248, '차사': 8249, '바닷가': 8250, '무덤': 8251, '파고': 8252, '잇엇늣': 8253, '뉘': 8254, '야야': 8255, '취저': 8256, '아늬': 8257, '미쳣다': 8258, '옷털': 8259, '부지런하다': 8260, '장도': 8261, '토록': 8262, '래미': 8263, '깨물다': 8264, 'ㅏㅓ': 8265, '이러케': 8266, '행룔': 8267, '오백만': 8268, '웬일': 8269, '묶음': 8270, '순대집': 8271, '정원': 8272, '만끽': 8273, '도통': 8274, '뜆': 8275, 'ㅠㅜㅜㅜㅜ': 8276, '아랑곳': 8277, 'ㅠㅠㅠㅋㅋㅋㅋㅋㅋㅋㅋㅋㅋㅋㅋㅋ': 8278, '거도': 8279, '회랑': 8280, '금치': 8281, '턱관절': 8282, '철로': 8283, '알반': 8284, 'ㅇㅇㅇ': 8285, '썩소': 8286, '여깄는': 8287, 'ㅈㄹ': 8288, '풀이': 8289, '성별': 8290, '젓다': 8291, '거임': 8292, '악기': 8293, '리나': 8294, '인어공주': 8295, '겉았': 8296, '나또': 8297, '무용가': 8298, '개웃': 8299, '아동': 8300, '쩐': 8301, '백퍼': 8302, '대시': 8303, '레루': 8304, '마차': 8305, '망원': 8306, '작정': 8307, '수색': 8308, '은혜': 8309, '비수': 8310, '꽂히다': 8311, '께선': 8312, '이글': 8313, '혜량': 8314, '력': 8315, '병과': 8316, '벙': 8317, '차림': 8318, '말로': 8319, '결재': 8320, '건내다': 8321, '여태껏': 8322, '크라상': 8323, '이야말로': 8324, '생떢': 8325, '아사': 8326, '러브씬': 8327, '베드씬': 8328, '명작': 8329, '껀데': 8330, 'ㅠㅠㅜㅜ': 8331, '폭풍': 8332, '삭히다': 8333, '글쎄': 8334, '허기': 8335, '거불': 8336, '아이구': 8337, '초창': 8338, '아이디어': 8339, '돋보이다': 8340, '컨테이너': 8341, '파채': 8342, '반대': 8343, '텅빈': 8344, '아인': 8345, '슈페': 8346, '햐': 8347, '신안': 8348, '점마': 8349, '지대': 8350, '키라': 8351, '연다': 8352, '쏙': 8353, '검발': 8354, '무직': 8355, '손맛': 8356, '노코멘트': 8357, '드라이아이스': 8358, '일일': 8359, '미래': 8360, '에서의': 8361, '벌겋다': 8362, '글로벌': 8363, '무식': 8364, '위축': 8365, '덕목': 8366, '글쎄요': 8367, '제아': 8368, '이래도': 8369, '중학생': 8370, '양인': 8371, '겸': 8372, '이만': 8373, '트래드밀': 8374, '솔라님': 8375, '아침식사': 8376, '차츰': 8377, '빼보렵니': 8378, '나란하다': 8379, '갈렵니': 8380, '처다볼땤': 8381, '웂': 8382, '크리에이터': 8383, '못만듬': 8384, '부러지다': 8385, '빠졋': 8386, '활활': 8387, '답글': 8388, '확고하다': 8389, '싱기해': 8390, '주저리주저리': 8391, '넘어오다': 8392, '방울': 8393, '복용': 8394, '프로바이오틱스': 8395, '폰트': 8396, '남색': 8397, '갠취': 8398, '스리슬떡': 8399, '얼리다': 8400, '해동': 8401, '안녕하십니까': 8402, '커뮤니티': 8403, '외치': 8404, '애처': 8405, '요가': 8406, '메우다': 8407, '안면': 8408, '거상': 8409, '영화로': 8410, '익음': 8411, '키우다': 8412, '개보': 8413, '처줌': 8414, '경영': 8415, '경찰병원': 8416, '타구': 8417, '왓는데': 8418, '다잡다': 8419, '믓찜뿜뿜': 8420, '나약하다': 8421, '장기': 8422, '알곱': 8423, '알곰창': 8424, '알뜰': 8425, '구성은': 8426, '고슬고슬하다': 8427, '명확하다': 8428, '위쪽': 8429, '알아채다': 8430, '알롤': 8431, '신화': 8432, '돜': 8433, '재밌넼': 8434, '려니': 8435, '잉갘': 8436, '답장': 8437, '여학생': 8438, '청력': 8439, '단합': 8440, '쥐': 8441, '방학': 8442, '효성': 8443, '무방': 8444, '정해지다': 8445, '자유롭다': 8446, '먹거리': 8447, '깨부수다': 8448, '알바몬': 8449, '공고': 8450, 'ㅡㅜㅜ': 8451, '프로세스': 8452, '게으르다': 8453, '차앤박': 8454, '앰플': 8455, '텅': 8456, '빈통': 8457, '실랑이': 8458, '피로하다': 8459, '바구니': 8460, '끄덕': 8461, '비키다': 8462, '멀뚱하다': 8463, '없넼': 8464, '친히': 8465, '모짜렐라': 8466, '인더': 8467, '기선': 8468, '휘핑': 8469, '유기': 8470, '파니니': 8471, '도덕': 8472, '임자': 8473, '연애': 8474, '다빡': 8475, '뚜': 8476, '언더웨어': 8477, '룩북': 8478, '홀릭': 8479, '먹엇': 8480, '투샷': 8481, '앞다리': 8482, '포장재': 8483, '드랬': 8484, '있을런지': 8485, '시일': 8486, '젊은이': 8487, '하루빨리': 8488, '토다': 8489, 'ㅗ': 8490, '애가': 8491, '깜짝깜짝': 8492, '누비': 8493, '걱정스럽다': 8494, '관성': 8495, '악하다': 8496, '과카몰레': 8497, '살사소스': 8498, '나초': 8499, '케찹': 8500, '해롭다': 8501, '다지': 8502, '악세사리': 8503, '파파존스': 8504, '앵글': 8505, '미쟝센': 8506, 'ㅌㅋㅋㅋㅋㅋㅋㅋㅋㅋㅋㅋㅋㅋㅋㅋㅋㅋ': 8507, '더더': 8508, '킹정': 8509, 'ㄷㅏㅋㅋㅋ': 8510, '해대': 8511, '대아': 8512, '씬': 8513, '용케': 8514, '엔터': 8515, '미화': 8516, '대못': 8517, '찻음': 8518, '하노': 8519, '에일': 8520, '고합': 8521, '당속': 8522, '페': 8523, '닭찌': 8524, '나아': 8525, '코코': 8526, '틴틴': 8527, '볼스': 8528, '케나': 8529, '다점': 8530, '펩시콜라': 8531, '약수역': 8532, '부피': 8533, '쵸': 8534, '염소': 8535, '알곡': 8536, '쭉정이': 8537, '지혜': 8538, '로운': 8539, '미련': 8540, '슈': 8541, '커밍': 8542, '절절이': 8543, '예수': 8544, '비유': 8545, '가라사대': 8546, '악한': 8547, '원수': 8548, '마귀': 8549, '추수': 8550, '추숫': 8551, '넘어지다': 8552, '불법': 8553, '행': 8554, '아버지': 8555, '보화': 8556, '값지다': 8557, '물고기': 8558, '이러하다': 8559, '악인': 8560, '갈라': 8561, '탄두리': 8562, '쓸데없다': 8563, '껄렁껄렁': 8564, '야행': 8565, '또갈꺼얌': 8566, '맜있어': 8567, '민간': 8568, '양말': 8569, '갈색': 8570, '토악질': 8571, '양산': 8572, '로메': 8573, '서툴다': 8574, '부엉이': 8575, '미끌미끌': 8576, '멕시칸': 8577, '헐렁헐렁하다': 8578, '양장': 8579, '비우기': 8580, '조기': 8581, '약물': 8582, '얘보': 8583, '욧트': 8584, '초록색': 8585, '어느새다': 8586, '에겐': 8587, '소상': 8588, '공인': 8589, '정육점': 8590, '겹살목살': 8591, '연탄구이': 8592, '라가': 8593, '식객': 8594, '쥬': 8595, '가유': 8596, '구먼': 8597, '어떠케': 8598, '풀풀': 8599, '치대다': 8600, '갱얼쥐': 8601, '비현실적': 8602, '국자': 8603, '괴': 8604, '혐': 8605, 'ㅍㅅㅇㅈㅁ': 8606, '과감': 8607, '일동': 8608, '몰카': 8609, '핑크팬더': 8610, '루피': 8611, '어머머': 8612, '드분': 8613, '캐다': 8614, '단속': 8615, '되엇네': 8616, '말러': 8617, '드론': 8618, '초강추': 8619, '초초강추': 8620, '워례점': 8621, '간친': 8622, '구들': 8623, '인정이': 8624, '동파육': 8625, '똭': 8626, '몰입도': 8627, '증': 8628, '혈색': 8629, '리즈': 8630, '갱신': 8631, '공교': 8632, '롭': 8633, '각별히': 8634, '붙들다': 8635, '뒤늦다': 8636, '망정': 8637, '필때': 8638, '폐기': 8639, '빙의': 8640, '버용': 8641, '비슷비슷': 8642, '어후': 8643, '줄무늬': 8644, '초로': 8645, '잣': 8646, '개행': 8647, '벅해': 8648, '살길': 8649, '완전체': 8650, '재결합': 8651, '다이어트식단': 8652, '큐티해': 8653, '블라우스': 8654, '소니': 8655, '취저에용': 8656, '고도': 8657, '무리다': 8658, '경보': 8659, '얄밉다': 8660, '나시': 8661, '동굴': 8662, '소듕': 8663, '용맹하다': 8664, '골든햄스터': 8665, '살기': 8666, '거보': 8667, '업로드': 8668, '좟으': 8669, '소비': 8670, '템': 8671, '거만': 8672, '심리치료': 8673, '도일': 8674, '크롸상': 8675, '징짜루': 8676, '불여우': 8677, '순삭': 8678, '바프': 8679, '소하': 8680, '상덕': 8681, '홍': 8682, '포장러': 8683, '모토': 8684, '할껀': 8685, '합동': 8686, '눈물나다': 8687, '풀함': 8688, '닥치다': 8689, '바네스': 8690, '돌이키다': 8691, '마네킹': 8692, '애나': 8693, '노화': 8694, '일그러지다': 8695, '바토': 8696, '쩌누': 8697, '이케': 8698, '졋': 8699, '지갑': 8700, '피식': 8701, '보아': 8702, '이따위': 8703, '퉤퉤': 8704, '고덕동': 8705, '라시': 8706, '삼익': 8707, '송파': 8708, '치가': 8709, '풀콧': 8710, '가장자리': 8711, '어째뜬': 8712, '신물': 8713, '고간': 8714, '버튼': 8715, '조가': 8716, '자락': 8717, '닦이다': 8718, '재봄': 8719, '놨는': 8720, '과로사': 8721, '밤새': 8722, '마심': 8723, '발전': 8724, '바램임': 8725, '비스켓': 8726, '패스트푸드': 8727, '빠릿': 8728, '시커멓다': 8729, '명랑': 8730, '한티역': 8731, '위심': 8732, '야박하다': 8733, '모던': 8734, '초인': 8735, '문의사항': 8736, '들이밀다': 8737, '에스프레소': 8738, '더치커피': 8739, '내공': 8740, '블루': 8741, '마운틴': 8742, '게이샤': 8743, '소위': 8744, '본질': 8745, '켜지다': 8746, '정부': 8747, '권장': 8748, '어쩌란건': 8749, '에일리': 8750, '말짱하다': 8751, '엔진오일': 8752, '정비': 8753, '살쪗던거': 8754, '사무직': 8755, '이버': 8756, '딴판': 8757, '문장': 8758, '환승': 8759, '갈빠': 8760, '조사': 8761, '물르다': 8762, '훨싸': 8763, '꼴리다': 8764, '돔': 8765, '매뉴얼': 8766, '유무': 8767, '뵀': 8768, '생머리': 8769, '문방구': 8770, '발렛': 8771, '둬': 8772, '꼽줘': 8773, '숯': 8774, '이십': 8775, '연포탕': 8776, '갑질': 8777, '점빵': 8778, '옳다': 8779, '왜합': 8780, '기장': 8781, '낙': 8782, '대마': 8783, '개띠껍': 8784, '귓속말': 8785, '뒷담깜': 8786, '면상': 8787, '핸폰들': 8788, 'ㅋㅋㅋㅋㅋㅋㅋㅋㅋㅋㅋㅋㅋㅋㅋㅋㅋㅋㅋㅋㅋㅋㅋㅋㅋㅋㅋㅋㅋㅋㅋㅋㅋㅋㅋㅋㅋㅋㅋㅋㅋㅋㅋㅋㅋㅋㅋㅋㅋㅋㅋㅋㅋ': 8789, '벼슬': 8790, '토마호크': 8791, '소란': 8792, '테크': 8793, '서당': 8794, '유사': 8795, '회사원': 8796, '곧다': 8797, '대강대강': 8798, '본전': 8799, '혼코노': 8800, '광장동': 8801, '성함': 8802, '줄때': 8803, '리드': 8804, '스트리트': 8805, '점심때': 8806, '홈플': 8807, '홈': 8808, '무풍': 8809, '그득하다': 8810, '신청': 8811, '지출': 8812, '세로': 8813, '김포시': 8814, '관계자': 8815, '배치': 8816, '엘지': 8817, '헬로비전': 8818, '원만': 8819, '직통': 8820, '유발': 8821, '상층': 8822, '부서': 8823, '원만하다': 8824, '어쩌구': 8825, '은애': 8826, '복지': 8827, '잉크': 8828, '중후': 8829, '알바로': 8830, '인의': 8831, '래지': 8832, '클레': 8833, '바삭바삭하다': 8834, '난도': 8835, '일요': 8836, '라씨': 8837, '중얼거리다': 8838, '채무불이행': 8839, '사악': 8840, '과실': 8841, '셋팅엉망': 8842, '연세': 8843, '오무라이스': 8844, '감뭐': 8845, '피드백': 8846, '예민': 8847, 'ㅈㅅ': 8848, '기아': 8849, '싹싹': 8850, '물컵': 8851, '청담동': 8852, '잔당': 8853, '마르고': 8854, '얼릉': 8855, '가왜': 8856, '장담': 8857, '여전': 8858, '리뉴얼': 8859, '체고': 8860, '라스베이거스': 8861, '인앤아웃': 8862, '쉑쉑': 8863, '고든': 8864, '램지': 8865, '코로': 8866, '홀쪽': 8867, '혼쪽': 8868, '요하': 8869, '사오정': 8870, '생고무': 8871, '얼버무리다': 8872, '로움': 8873, '명정': 8874, '테이븐': 8875, '헤매다': 8876, '특급': 8877, '레어': 8878, '웰던': 8879, '합작': 8880, '간뒤': 8881, '찰칵': 8882, '머릿속': 8883, '더욱더': 8884, '톨': 8885, '심혈': 8886, '수나': 8887, '랏': 8888, '쥐똥': 8889, '구욬': 8890, '짐함': 8891, '보편': 8892, '거구': 8893, '불규칙하다': 8894, '여의사': 8895, '배정': 8896, '연고': 8897, '악화': 8898, '퀘퀘': 8899, '고향': 8900, '소용': 8901, '생애': 8902, '허름': 8903, '경력': 8904, '깨닫다': 8905, '짤': 8906, '여력': 8907, '허겁지겁': 8908, '냉면집': 8909, '여사': 8910, '한적': 8911, '부리면': 8912, '한남': 8913, '받아들이다': 8914, '빻았다': 8915, '기바': 8916, '특정': 8917, '악마': 8918, '서럽다': 8919, '여유롭다': 8920, '섭섭하다': 8921, '구레나룻': 8922, '빼뚤': 8923, '중학교': 8924, '고객정보': 8925, '남겨지다': 8926, '아숩': 8927, '조현병': 8928, '코젤': 8929, '다크': 8930, '시나몬': 8931, '안뭍혀': 8932, '발해': 8933, '알바인': 8934, '산티': 8935, '앖': 8936, '은행': 8937, '엄살': 8938, '오니': 8939, '아뇨': 8940, '좌송': 8941, '과도': 8942, '쉬폰케익': 8943, '손사래': 8944, '치네다': 8945, '싹퉁': 8946, '쩜씨오엠': 8947, '콛드캬툑': 8948, '손색': 8949, '이를': 8950, '죠스': 8951, '커뮤니케이션': 8952, '용건': 8953, '소유자': 8954, '본채': 8955, '괴고': 8956, '열정': 8957, '넋': 8958, '일생': 8959, '눈동자': 8960, '열중': 8961, '날로': 8962, '트용': 8963, '아웃백': 8964, '방출': 8965, '애셋': 8966, '역쉬': 8967, '하고프다': 8968, '유니클로': 8969, '배드': 8970, '점임': 8971, '루르': 8972, '존예': 8973, '겠숩': 8974, '미당': 8975, '횰횰': 8976, '개그맨': 8977, '포즈': 8978, '개빼': 8979, '고용': 8980, '신참': 8981, '역앞': 8982, '영업일': 8983, '연령': 8984, '동이': 8985, '돈부리': 8986, '고연': 8987, '어도': 8988, '새싹': 8989, '미인': 8990, '밀수': 8991, '처벌': 8992, '관대하다': 8993, '일어난다': 8994, '놀래다': 8995, '초벌': 8996, '주류': 8997, '입산': 8998, '더덕': 8999, '발판': 9000, '생색': 9001, '세차장': 9002, '외적': 9003, '에쁘시네': 9004, '바이럴': 9005, '염색머리': 9006, '올리브영': 9007, '엽떡': 9008, '용저': 9009, '백질': 9010, '갑니둥': 9011, '득': 9012, '근해': 9013, '몸짱': 9014, '오륜가': 9015, '올려쥬세': 9016, '상미': 9017, '바닥나다': 9018, '존심': 9019, '국적': 9020, '죽음': 9021, '만일': 9022, '유부녀': 9023, '올린다': 9024, '여름방학': 9025, '키도': 9026, '제멋대로': 9027, '네요': 9028, '앙심': 9029, '품다': 9030, '혼수': 9031, '빨강': 9032, '파랑': 9033, '색채': 9034, '주인공': 9035, '난해하다': 9036, '한류': 9037, '황금종려상': 9038, '이해력': 9039, '딸리다': 9040, '죄책감': 9041, '가련하다': 9042, '싸이코패스': 9043, '이정현': 9044, '단역': 9045, '박정민': 9046, '카메오': 9047, '허비하다': 9048, '살인자': 9049, '꼬질꼬질': 9050, '꼬시': 9051, '음침하다': 9052, '끝없다': 9053, '설레다': 9054, '근사하다': 9055, '벅차오르다': 9056, '어린시절': 9057, '척추': 9058, '상또': 9059, '실존': 9060, '옆집': 9061, '개황': 9062, '세심': 9063, '놔두다': 9064, '강화': 9065, '본격': 9066, '분양': 9067, '싶': 9068, '테디': 9069, '꺼리다': 9070, '주중': 9071, '집사람': 9072, '쌀쌀': 9073, '조금씩': 9074, '간분': 9075, '그저께': 9076, '라기': 9077, '감각': 9078, '카페모카': 9079, '물때': 9080, '저체중': 9081, '나넹': 9082, '항정살': 9083, '쏘이다': 9084, '소나': 9085, '피나콜라다': 9086, '크리미': 9087, '델몬트': 9088, '왁자지껄하다': 9089, '예나': 9090, '홀리': 9091, '리스크': 9092, '용다': 9093, '차단': 9094, '스쿱': 9095, '써브웨이': 9096, '닥치': 9097, '넌덜': 9098, '환풍기': 9099, '세고': 9100, '더시킬껄': 9101, '노숙자': 9102, '게라': 9103, '조조': 9104, '흥미진진': 9105, '지모': 9106, '여야': 9107, '물롬': 9108, '스토커': 9109, '이질': 9110, '완숙': 9111, '흘러나오다': 9112, '노른자': 9113, '은교': 9114, '교수': 9115, '스포일러': 9116, '엔딩': 9117, '이어진': 9118, '지속': 9119, '흐름': 9120, '들어맞다': 9121, '중요시': 9122, '영화인': 9123, '수락': 9124, '교촌치킨': 9125, '도봉': 9126, '수락산': 9127, '시리즈': 9128, '어리석다': 9129, '화거': 9130, '다한': 9131, '결후': 9132, '무한정': 9133, '어린이날': 9134, '비닐봉지': 9135, '고별': 9136, '뜸': 9137, '경쟁심': 9138, '리셉션': 9139, '기표': 9140, '것제': 9141, '갈등': 9142, '바이러스': 9143, '흥행': 9144, '미지수': 9145, '일후': 9146, '친정': 9147, '만날': 9148, '일해': 9149, '히트': 9150, '설렁설렁': 9151, '병아리': 9152, '욤욤': 9153, '버르장': 9154, '중화요리': 9155, '쨤뽕': 9156, '머그컵': 9157, '웩': 9158, '간과': 9159, '움직임': 9160, '둔하다': 9161, '분리수거': 9162, '척도': 9163, '주막': 9164, '그대': 9165, '두레': 9166, '펑펑': 9167, '차슈': 9168, '쿠니': 9169, '텐동': 9170, '카스테라': 9171, '고온': 9172, '사인': 9173, '주자': 9174, '레스토랑': 9175, '홍합': 9176, '품위': 9177, '사들이다': 9178, '아련하다': 9179, '오믈렛': 9180, '투입': 9181, '오미자': 9182, '술멋': 9183, '필더': 9184, '오오오오': 9185, '턱선': 9186, '민': 9187, '기씨': 9188, '헛': 9189, '셋트': 9190, '도미': 9191, '연신내': 9192, '듯회': 9193, '박박': 9194, '노모': 9195, '야키소바': 9196, '오타쿠': 9197, '도서': 9198, '일반도': 9199, '유의': 9200, '금지': 9201, '난처하다': 9202, '베테': 9203, '화법': 9204, '티남': 9205, '리치': 9206, '감자칩': 9207, '오합지졸': 9208, '허세': 9209, '옥슈슈': 9210, '디테일': 9211, '횻': 9212, '고난': 9213, '스테플러': 9214, '마리오': 9215, '기성복': 9216, '개이득': 9217, '예비': 9218, '신랑': 9219, '신부': 9220, '입을랬다': 9221, '비정': 9222, '뇌': 9223, '쩔': 9224, '알싸하다': 9225, '본받다': 9226, '바탕': 9227, '쏙쏙': 9228, '김미려': 9229, '줄알': 9230, '니쳣다': 9231, 'ㅜㅜㅜㅜㅜ': 9232, 'ㅜㅇ': 9233, '무한': 9234, '박수': 9235, '장하다': 9236, 'ㅇㅣ': 9237, '쁘': 9238, '평냉집': 9239, '찢다': 9240, '미춋따': 9241, 'ㅗㅜㅑ': 9242, '빽': 9243, '무작정': 9244, '게획': 9245, '하내': 9246, '입터': 9247, '진날': 9248, '레일': 9249, '지겹다': 9250, '오운완': 9251, '플룻': 9252, '종잡': 9253, '수사': 9254, '저만큼': 9255, '작심삼일': 9256, '홧띵': 9257, '급빠': 9258, '문외한': 9259, '몀': 9260, '출근길': 9261, '게요': 9262, '배경': 9263, '좔좔': 9264, '지방러': 9265, '요일': 9266, 'ㅜㅜㅜㅠㅜ': 9267, '레트로': 9268, '포실포실': 9269, '통통': 9270, '진지하다': 9271, '날렵하다': 9272, '희망': 9273, '끈기': 9274, '인내': 9275, '로써': 9276, '뭔들': 9277, '존경심': 9278, '운동신경': 9279, '후각': 9280, '녀': 9281, '망가졋': 9282, '감기': 9283, '믓쪄욤': 9284, '눈팅': 9285, '어느덧다': 9286, '이프': 9287, '미챴': 9288, '최고다': 9289, '태기': 9290, '완젼': 9291, '태풍': 9292, '뿜뿜하': 9293, '골격': 9294, '근량': 9295, '야물다': 9296, '지게': 9297, '갈갸볼게': 9298, '와나': 9299, '주뿌셔': 9300, '가가': 9301, '뽀짝': 9302, '복고': 9303, '철학': 9304, '꽃미남': 9305, '혜택': 9306, '인삿말': 9307, '심위': 9308, '고정': 9309, '천엽': 9310, '춤': 9311, '왁': 9312, '안양': 9313, '스케쥴': 9314, '멍충': 9315, '긍데': 9316, '입장료': 9317, '원숭집': 9318, '궁굼하': 9319, '순위': 9320, '쓰레집': 9321, '고토': 9322, '밥국': 9323, '금시': 9324, '느무조': 9325, '다양': 9326, 'ㅇㅂㅇ': 9327, '딸내미': 9328, '왐마': 9329, '왕가': 9330, '삼선짬뽕': 9331, '하수': 9332, '시켯다': 9333, '소뼈': 9334, '상근이': 9335, '왕초보': 9336, '런닝할때': 9337, '힌번': 9338, '교대역': 9339, '한결같다': 9340, '명도': 9341, '겉잡': 9342, '신천': 9343, '안락하다': 9344, '우리나라': 9345, '찌질하다': 9346, '수입': 9347, '스마일': 9348, '이해도': 9349, '하필': 9350, '동북공정': 9351, '색스': 9352, '훅': 9353, '엎': 9354, '워리워': 9355, '객': 9356, '외롭다': 9357, '청량감': 9358, '왼쪽': 9359, '오른손': 9360, '프라이드': 9361, '포테이토': 9362, '깨알': 9363, '뭉클하다': 9364, '체지방률': 9365, 'ㅋㅋㅋㅠ': 9366, '드물다': 9367, '현상': 9368, '넷플': 9369, '대사': 9370, '움직': 9371, '상권': 9372, '도봉구': 9373, '유분수': 9374, '기리': 9375, '염병': 9376, '이런저런': 9377, '줄넘기': 9378, '출렁': 9379, '달라붙다': 9380, '장마': 9381, '비갑': 9382, '킴스클럽': 9383, '고등학교': 9384, '베이': 9385, '킹시': 9386, '합치다': 9387, '용산': 9388, '하드웨어': 9389, '철물': 9390, '보양': 9391, '생면': 9392, '최고급': 9393, '고시원': 9394, '천재': 9395, '고오': 9396, '단호': 9397, '널널': 9398, '갯수': 9399, '우아': 9400, '메이트': 9401, '또또': 9402, '해주': 9403, '십만': 9404, '감격': 9405, 'ㅜㅜㅋㅋㅋ': 9406, '압도': 9407, '상과': 9408, '페스': 9409, '츄리': 9410, '바사삭': 9411, '메종엠오': 9412, '이바돔': 9413, '드니': 9414, '잡것': 9415, '더군다나': 9416, '이웅': 9417, '아이스티': 9418, '움뫄': 9419, '웅끼': 9420, '인맥': 9421, '넓히다': 9422, '웅님': 9423, '웅씨': 9424, '자만': 9425, '덕볼': 9426, '안티': 9427, '괘씸': 9428, '해프': 9429, '웅아니': 9430, '어설프다': 9431, '게게': 9432, '클리어': 9433, '끝장': 9434, '뿌리': 9435, '진대': 9436, '낙성대역': 9437, '인헌': 9438, '일밤': 9439, '더위': 9440, '명호': 9441, '비밀': 9442, '이이': 9443, '신비': 9444, '요인': 9445, '엔프피': 9446, '외대앞역': 9447, '석계역': 9448, '다시뿌셔쥬세': 9449, '다물다': 9450, 'ㅜㅜㅜㅜㅜㅜㅜㅜㅜㅜ': 9451, '콩국수': 9452, '불막창': 9453, '엇을': 9454, '재치': 9455, '차이점': 9456, '떠나가다': 9457, '반전': 9458, '욤어쩜': 9459, '욤귀욤하죵': 9460, '꿀': 9461, '산적': 9462, '수염': 9463, '거얌': 9464, '웅이님땜': 9465, '유트브': 9466, '보냇었는데': 9467, '바르게': 9468, '자라다': 9469, '치의학': 9470, '오류': 9471, '과학': 9472, '저자': 9473, '수행': 9474, '칫솔': 9475, '길몽': 9476, '통증': 9477, '시리다': 9478, '골다': 9479, '치매': 9480, '예방': 9481, '회복': 9482, '윤하': 9483, '이씨': 9484, '웅이씨': 9485, '메모': 9486, '논골': 9487, '신사동': 9488, '원조': 9489, '언덕': 9490, '창살': 9491, '연결하다': 9492, '바이오스': 9493, '레거시': 9494, '밤새다': 9495, '패치': 9496, '숙성하다': 9497, '이탈리아': 9498, '차마': 9499, '변심': 9500, '대갈': 9501, '푸팟퐁': 9502, '삼분': 9503, '뼈대': 9504, '주부': 9505, '장맘': 9506, '시경': 9507, '마구마구': 9508, '생김새': 9509, '가정교육': 9510, '히레': 9511, '정돈': 9512, '마련': 9513, '다는데': 9514, '똘망똘망': 9515, '앵두': 9516, '악평': 9517, '기색': 9518, '푼돈': 9519, '주제넘다': 9520, '클럽': 9521, '부적': 9522, '격': 9523, '미도': 9524, '널렸음': 9525, '소스류': 9526, '합석': 9527, '탕아': 9528, '직안': 9529, '왠지': 9530, '삭': 9531, '읎네': 9532, '느글하닷': 9533, '패쓰': 9534, '똠양': 9535, '빱': 9536, '짜이다': 9537, '무생채': 9538, '저서': 9539, '동아리': 9540, '년차': 9541, '유산균': 9542, '한동안': 9543, '유앤': 9544, '나잇': 9545, 'ㅌ': 9546, '게덜': 9547, '햅투비욜': 9548, '쏠': 9549, '말레': 9550, '다방': 9551, '머쓱': 9552, '정법': 9553, '강의': 9554, '벽면': 9555, '면뺴': 9556, '석도': 9557, '별롭니': 9558, '억울하다': 9559, '탈색': 9560, '윤화눈나': 9561, '여보': 9562, '광팬': 9563, '하나님': 9564, '커엽': 9565, '만인': 9566, '너므': 9567, '러블리': 9568, '고갈': 9569, '쿠': 9570, '윤화님넘': 9571, '욥웅': 9572, '대식': 9573, '민기': 9574, '우짜노': 9575, '숨바꼭질': 9576, '아부지': 9577, '윤화띠': 9578, '방가': 9579, '자주봬': 9580, '모시다': 9581, '웃음소리': 9582, '재주': 9583, '뽀얗다': 9584, '눈웃음': 9585, '효린': 9586, 'ㅏㅏㅏㅠㅠㅜㅜㅠㅠㅠㅡㅜ': 9587, '윤화언닝': 9588, '윤화언닠': 9589, '이랫': 9590, '중퀄리티': 9591, '나은': 9592, 'ㅏㅏㅏ': 9593, '은성': 9594, '을지로': 9595, '동묘': 9596, '깨지다': 9597, '꾀': 9598, '을지로입구역': 9599, '사거리': 9600, '스벅': 9601, '갠데': 9602, '까다롭다': 9603, '카테고리': 9604, '잡지': 9605, '청계천': 9606, '가파른': 9607, '통일': 9608, '약제': 9609, '팅기다': 9610, '틈': 9611, '윽': 9612, '힛': 9613, '개일': 9614, '잠봉': 9615, '또다시': 9616, '조급하다': 9617, '대금': 9618, '채권자': 9619, '필욘': 9620, '퍽퍽함': 9621, '나가사키': 9622, '멕시코': 9623, '엔칠라다': 9624, '취해': 9625, '이즈': 9626, '취미': 9627, '옮려': 9628, '스태프': 9629, '텀': 9630, '지남': 9631, '미숫가루': 9632}\n"
          ]
        }
      ],
      "source": [
        "from tensorflow.keras.preprocessing.text import Tokenizer\n",
        "\n",
        "tokenizer = Tokenizer()\n",
        "tokenizer.fit_on_texts(x_train)\n",
        "print(tokenizer.word_index)"
      ]
    },
    {
      "cell_type": "markdown",
      "metadata": {
        "id": "b3UAVtLy2z_W"
      },
      "source": [
        "**9. 등장 빈도수 낮은 단어 색출**"
      ]
    },
    {
      "cell_type": "code",
      "execution_count": null,
      "metadata": {
        "colab": {
          "base_uri": "https://localhost:8080/"
        },
        "id": "eWIshj_UHGdB",
        "outputId": "d1b63a91-a611-49c2-bd2d-1793624f3d15"
      },
      "outputs": [
        {
          "output_type": "stream",
          "name": "stdout",
          "text": [
            "단어 집합의 크기: 9632\n",
            "등장 빈도가 2번 이하인 희귀 단어의 수:5967\n",
            "단어 집합에서 희귀 단어의 비율: 61.94975083056479\n",
            "전체 등장 빈도에서 희귀 단어 등장 빈도 비율: 8.051263050064298\n"
          ]
        }
      ],
      "source": [
        "threshold = 3\n",
        "total_cnt = len(tokenizer.word_index) #단어의 수\n",
        "rare_cnt = 0 #등장 빈도수가 threshold보다 작은 단어의 개수를 카운트\n",
        "total_freq = 0 #훈련 데이터의 전체 단어 빈도수 총 합\n",
        "rare_freq = 0 #등장 빈도수가 threshold보다 작은 단어의 등장 빈도수의 총 합\n",
        "\n",
        "#단어와 빈도수의 쌍을 key-value로 받는다.\n",
        "for key, value in tokenizer.word_counts.items():\n",
        "  total_freq = total_freq + value\n",
        "\n",
        "\n",
        "  #단어의 등장 빈도수가 threshold보다 작으면\n",
        "  if(value < threshold):\n",
        "     rare_cnt = rare_cnt + 1\n",
        "     rare_freq = rare_freq + value\n",
        "\n",
        "print('단어 집합의 크기:' , total_cnt)\n",
        "print('등장 빈도가 %s번 이하인 희귀 단어의 수:%s'%(threshold -1, rare_cnt))\n",
        "print('단어 집합에서 희귀 단어의 비율:',(rare_cnt/total_cnt)*100)\n",
        "print('전체 등장 빈도에서 희귀 단어 등장 빈도 비율:',(rare_freq/total_freq)*100)"
      ]
    },
    {
      "cell_type": "markdown",
      "metadata": {
        "id": "4L_z8DVZG7Pw"
      },
      "source": [
        "높은 정수가 부여된 단어들은 등장 빈도 수가 매우 낮다는 것을 의미한다. 빈도수 낮은 단어들은 자연어 처리에서 배제하고자 한다. 등장 빈도수가 2회 미만인 단어들이 이 데이터에서 얼만큼의 비중을 차지하는지 확인하고자 한다."
      ]
    },
    {
      "cell_type": "markdown",
      "metadata": {
        "id": "vV8cMB8u29FT"
      },
      "source": [
        "**10. 빈도수 낮은 단어 제거**"
      ]
    },
    {
      "cell_type": "code",
      "execution_count": null,
      "metadata": {
        "colab": {
          "base_uri": "https://localhost:8080/"
        },
        "id": "GxNVsv-ANVGu",
        "outputId": "adf451c4-e9d7-4c02-a507-8d68769988c5"
      },
      "outputs": [
        {
          "output_type": "stream",
          "name": "stdout",
          "text": [
            "단어 집합의 크기 : 3666\n"
          ]
        }
      ],
      "source": [
        "#전체 단어 개수 중 빈도수 2이하인 단어 제거\n",
        "#0번 패딩 토큰 고려하여 +1\n",
        "\n",
        "vocab_size = total_cnt - rare_cnt + 1\n",
        "print('단어 집합의 크기 :', vocab_size)"
      ]
    },
    {
      "cell_type": "markdown",
      "metadata": {
        "id": "XB9zddzelsnZ"
      },
      "source": [
        "등장 빈도가 2회 이하인 단어들은 자연어 처리에서 별로 중요하지 않을 듯 하다. 따라서 이 단어들을 정수 인코딩 과정에서 배제시켰다."
      ]
    },
    {
      "cell_type": "markdown",
      "metadata": {
        "id": "VtCHh68SNk59"
      },
      "source": [
        "**11. 텍스트 시퀀스 정수 시퀀스로 변환**"
      ]
    },
    {
      "cell_type": "code",
      "execution_count": null,
      "metadata": {
        "colab": {
          "base_uri": "https://localhost:8080/"
        },
        "id": "9WG5ASWVNoI6",
        "outputId": "4c1909a1-ef55-4df7-e011-85f0df7088b8"
      },
      "outputs": [
        {
          "output_type": "stream",
          "name": "stdout",
          "text": [
            "[[], [], [89, 1173, 1421, 55, 2128, 89], [], [43, 626, 227, 292, 488, 626, 602, 3], [264, 791, 1325, 339, 132, 2928, 150, 1174, 138, 3, 408, 2129, 758, 210, 138, 2463, 3, 408], [293, 2929, 33, 25, 503, 60, 33, 25, 1326, 25, 978, 65, 2930, 409, 459, 397, 1041], [792, 792, 1726, 5, 66, 471, 294, 1727, 18, 37, 17, 5, 41, 64, 7, 2464, 1103, 13, 295, 16], [2465, 49, 66, 34, 979, 2466, 673, 87, 63, 980, 513, 3, 296, 2931, 673, 87, 304, 2130, 574, 504, 2131, 64, 890, 1728, 95, 64, 1175, 16, 933], [62, 7, 3, 1257, 195]]\n"
          ]
        }
      ],
      "source": [
        "tokenizer = Tokenizer(vocab_size)\n",
        "tokenizer.fit_on_texts(x_train)\n",
        "x_train = tokenizer.texts_to_sequences(x_train)\n",
        "\n",
        "x_test = tokenizer.texts_to_sequences(x_test)\n",
        "\n",
        "print(x_train[:10])"
      ]
    },
    {
      "cell_type": "markdown",
      "metadata": {
        "id": "zku0PlcHmKOt"
      },
      "source": [
        "단어 집합을 케라스 토크나이즈 인자로 넘겨주고 텍스트 시퀀스를 정수 시퀀스로 변환했다."
      ]
    },
    {
      "cell_type": "markdown",
      "metadata": {
        "id": "s91PnZm8RLrH"
      },
      "source": [
        "**12. 필요해 보이지 않는 컬럼 제거(순서, id)**"
      ]
    },
    {
      "cell_type": "code",
      "execution_count": null,
      "metadata": {
        "id": "wXKrxCOnRKR-"
      },
      "outputs": [],
      "source": [
        "train_data.drop(columns=['순서','id'], axis=1, inplace = True, errors='ignore')\n",
        "test_data.drop(columns=['순서','id'], axis=1, inplace = True, errors='ignore')"
      ]
    },
    {
      "cell_type": "markdown",
      "metadata": {
        "id": "t4cSG3xQQQPK"
      },
      "source": [
        "**13. y_train과 y_test를 별도로 저장**"
      ]
    },
    {
      "cell_type": "code",
      "execution_count": null,
      "metadata": {
        "id": "JjIk3bXNQCl6"
      },
      "outputs": [],
      "source": [
        "y_train = np.array(train_data['label'])\n",
        "y_test = np.array(test_data['label'])"
      ]
    },
    {
      "cell_type": "markdown",
      "metadata": {
        "id": "KnS2UROmmVIy"
      },
      "source": [
        "y_train과 y_test를 별도로 저장했다."
      ]
    },
    {
      "cell_type": "markdown",
      "metadata": {
        "id": "jF7c1COLRXur"
      },
      "source": [
        "**14. 빈 샘플 제거**"
      ]
    },
    {
      "cell_type": "code",
      "execution_count": null,
      "metadata": {
        "id": "4E-G5mk6RW-b"
      },
      "outputs": [],
      "source": [
        "drop_train = [index for index, sentence in enumerate(x_train) if len(sentence)< 1]"
      ]
    },
    {
      "cell_type": "code",
      "execution_count": null,
      "metadata": {
        "colab": {
          "base_uri": "https://localhost:8080/"
        },
        "id": "aGxTGMEHSUY5",
        "outputId": "749adf43-4616-4d9f-b3b5-5295532c67fd"
      },
      "outputs": [
        {
          "output_type": "stream",
          "name": "stdout",
          "text": [
            "4917\n",
            "4917\n"
          ]
        },
        {
          "output_type": "stream",
          "name": "stderr",
          "text": [
            "/usr/local/lib/python3.7/dist-packages/numpy/lib/function_base.py:4454: VisibleDeprecationWarning: Creating an ndarray from ragged nested sequences (which is a list-or-tuple of lists-or-tuples-or ndarrays with different lengths or shapes) is deprecated. If you meant to do this, you must specify 'dtype=object' when creating the ndarray.\n",
            "  arr = asarray(arr)\n"
          ]
        }
      ],
      "source": [
        "x_train = np.delete(x_train, drop_train, axis = 0)\n",
        "y_train = np.delete(y_train, drop_train, axis = 0)\n",
        "\n",
        "print(len(x_train))\n",
        "print(len(y_train))"
      ]
    },
    {
      "cell_type": "markdown",
      "metadata": {
        "id": "io-RpgkaRbq_"
      },
      "source": [
        "전체 데이터에서 빈도수가 낮은 단어가 삭제되었다는 것은 빈도수가 낮은 단어만 구성되었던 데이터들은 빈 샘플이 되었다는 것을 뜻한다. 빈 샘플들은 어떤 레이블이 붙어있던 의미가 없으므로 빈 샘플들을 제거해주는 작업을 한다. 각 데이터들의 길이를 확인해 길이가 0인 샘플들의 인덱스를 받아왔다. 색출 후 길이가 0인 샘플들은 제거해주었고, 제거 후 개수를 확인했다."
      ]
    },
    {
      "cell_type": "markdown",
      "metadata": {
        "id": "uxJgPFvsSpDO"
      },
      "source": [
        "**15. 패딩처리**"
      ]
    },
    {
      "cell_type": "code",
      "execution_count": null,
      "metadata": {
        "colab": {
          "base_uri": "https://localhost:8080/",
          "height": 316
        },
        "id": "-qwsJQUtS4J7",
        "outputId": "28b3e3d7-0c25-4955-b386-9f0c81ae7785"
      },
      "outputs": [
        {
          "output_type": "stream",
          "name": "stdout",
          "text": [
            "댓글 최대 길이 : 464\n",
            "댓글 평균 길이 : 17.15965019320724\n"
          ]
        },
        {
          "output_type": "display_data",
          "data": {
            "text/plain": [
              "<Figure size 432x288 with 1 Axes>"
            ],
            "image/png": "[encoded data removed]"
          },
          "metadata": {
            "needs_background": "light"
          }
        }
      ],
      "source": [
        "print('댓글 최대 길이 :',max(len(comment) for comment in x_train))\n",
        "print('댓글 평균 길이 :',sum(map(len, x_train))/len(x_train))\n",
        "plt.hist([len(comment) for comment in x_train], bins=50)\n",
        "plt.xlabel('length of samples')\n",
        "plt.ylabel('number of samples')\n",
        "plt.show()"
      ]
    },
    {
      "cell_type": "markdown",
      "metadata": {
        "id": "qIn5vo-bS6Y-"
      },
      "source": [
        "서로 다른 길이의 샘플들의 길이를 동일하게 맞춰주는 패딩 작업을 진행할것이다. 전체 데이터에서 가장 길이가 긴 comment와 전체 데이터의 길이 분포를 확인하겠다."
      ]
    },
    {
      "cell_type": "markdown",
      "metadata": {
        "id": "T4A3f-OuVaxF"
      },
      "source": [
        "가장 긴 댓글 길이는 464이며, 그래프를 봤을 때 전체 데이터의 길이 분포는 대체적으로 약 100 내외의 길이를 가지는 것을 볼 수 있다. 모델이 처리할 수 있도록 x_train과 x_test의 모든 샘플의 길이를 특정 길이로 동일하게 맞춰줄 필요가 있다. 특정 길이 변수를 max_len으로 정한다. 대부분의 댓글이 잘리지 않도록 할 수 있는 최적의 max_len을 판단해야 한다."
      ]
    },
    {
      "cell_type": "code",
      "execution_count": null,
      "metadata": {
        "colab": {
          "base_uri": "https://localhost:8080/"
        },
        "id": "FcHHJuIFVY70",
        "outputId": "b8e9e460-9a71-42e3-c130-78a9712711a8"
      },
      "outputs": [
        {
          "output_type": "stream",
          "name": "stdout",
          "text": [
            "전체 샘플 중 길이가 100 이하인 샘플의 비율: 98.92210697579826\n"
          ]
        }
      ],
      "source": [
        "def below_threshold_len(max_len, nested_list):\n",
        "  count = 0\n",
        "  for sentence in nested_list:\n",
        "    if(len(sentence) <= max_len):\n",
        "        count = count + 1\n",
        "  print('전체 샘플 중 길이가 %s 이하인 샘플의 비율: %s'%(max_len, (count / len(nested_list))*100))\n",
        "\n",
        "  \n",
        "max_len = 100\n",
        "below_threshold_len(max_len, x_train)"
      ]
    },
    {
      "cell_type": "markdown",
      "metadata": {
        "id": "8ymKCLVjn9qN"
      },
      "source": [
        "전체 샘플 중 길이가 max_len 이하인 샘플의 비율이 몇 %인지 확인하는 함수를 만들고 확인했다.\n",
        "\n",
        "전체 훈련 데이터중 약 98.9%의 댓글이 100이하의 길이를 가지는 것을 확인했다. 따라서 모든 샘플의 길이를 100으로 맞출것이다."
      ]
    },
    {
      "cell_type": "code",
      "execution_count": null,
      "metadata": {
        "id": "t6ndZJ9yXEFz",
        "colab": {
          "base_uri": "https://localhost:8080/"
        },
        "outputId": "dba7a1be-4d0c-4ead-a7d6-435155494c5b"
      },
      "outputs": [
        {
          "output_type": "execute_result",
          "data": {
            "text/plain": [
              "(4917, 100)"
            ]
          },
          "metadata": {},
          "execution_count": 19
        }
      ],
      "source": [
        "from tensorflow.keras.preprocessing.sequence import pad_sequences\n",
        "\n",
        "x_train = pad_sequences(x_train, maxlen=max_len)\n",
        "x_test = pad_sequences(x_test, maxlen=max_len)\n",
        "\n",
        "x_train.shape"
      ]
    },
    {
      "cell_type": "markdown",
      "metadata": {
        "id": "myVAla6W7Ozu"
      },
      "source": [
        "**LSTM 모델**"
      ]
    },
    {
      "cell_type": "markdown",
      "source": [
        "**1. sequential 모델**"
      ],
      "metadata": {
        "id": "5hNY70cR67D8"
      }
    },
    {
      "cell_type": "code",
      "source": [
        "#sequential 버전\n",
        "\n",
        "# embedding_dim = 100\n",
        "# hidden_units = 16\n",
        "# vocab_size = 3666\n",
        "\n",
        "# model = Sequential()\n",
        "# model.add(Embedding(vocab_size, embedding_dim))\n",
        "# model.add(Dropout(0.2))\n",
        "# model.add(LSTM(hidden_units))\n",
        "# model.add(Dropout(0.3))\n",
        "# model.add(Dense(1, activation='sigmoid'))"
      ],
      "metadata": {
        "id": "9fh6lbSs0759"
      },
      "execution_count": null,
      "outputs": []
    },
    {
      "cell_type": "markdown",
      "source": [
        "**2. 함수형 모델**"
      ],
      "metadata": {
        "id": "kqSsrako6_Fh"
      }
    },
    {
      "cell_type": "code",
      "execution_count": null,
      "metadata": {
        "colab": {
          "base_uri": "https://localhost:8080/"
        },
        "id": "et_v5rdEn5KY",
        "outputId": "7cbfe7ca-e7e4-4139-be32-3168c4205ad8"
      },
      "outputs": [
        {
          "output_type": "stream",
          "name": "stdout",
          "text": [
            "Model: \"model\"\n",
            "_________________________________________________________________\n",
            "Layer (type)                 Output Shape              Param #   \n",
            "=================================================================\n",
            "input_2 (InputLayer)         [(None, 100)]             0         \n",
            "_________________________________________________________________\n",
            "embedding_1 (Embedding)      (None, 100, 5)            18330     \n",
            "_________________________________________________________________\n",
            "lstm_1 (LSTM)                (None, 8)                 448       \n",
            "_________________________________________________________________\n",
            "dense (Dense)                (None, 1)                 9         \n",
            "=================================================================\n",
            "Total params: 18,787\n",
            "Trainable params: 18,787\n",
            "Non-trainable params: 0\n",
            "_________________________________________________________________\n",
            "Epoch 1/30\n",
            "16/16 [==============================] - 14s 443ms/step - loss: 0.7164 - acc: 0.5184 - val_loss: 0.7149 - val_acc: 0.4705\n",
            "\n",
            "Epoch 00001: val_acc improved from -inf to 0.47053, saving model to best_model.h5\n",
            "Epoch 2/30\n",
            "16/16 [==============================] - 7s 410ms/step - loss: 0.7099 - acc: 0.5411 - val_loss: 0.7093 - val_acc: 0.5091\n",
            "\n",
            "Epoch 00002: val_acc improved from 0.47053 to 0.50915, saving model to best_model.h5\n",
            "Epoch 3/30\n",
            "16/16 [==============================] - 6s 400ms/step - loss: 0.7011 - acc: 0.6036 - val_loss: 0.6999 - val_acc: 0.5986\n",
            "\n",
            "Epoch 00003: val_acc improved from 0.50915 to 0.59858, saving model to best_model.h5\n",
            "Epoch 4/30\n",
            "16/16 [==============================] - 6s 403ms/step - loss: 0.6876 - acc: 0.7035 - val_loss: 0.6855 - val_acc: 0.6159\n",
            "\n",
            "Epoch 00004: val_acc improved from 0.59858 to 0.61585, saving model to best_model.h5\n",
            "Epoch 5/30\n",
            "16/16 [==============================] - 6s 397ms/step - loss: 0.6633 - acc: 0.6972 - val_loss: 0.6535 - val_acc: 0.6738\n",
            "\n",
            "Epoch 00005: val_acc improved from 0.61585 to 0.67378, saving model to best_model.h5\n",
            "Epoch 6/30\n",
            "16/16 [==============================] - 6s 402ms/step - loss: 0.6169 - acc: 0.7424 - val_loss: 0.6090 - val_acc: 0.7337\n",
            "\n",
            "Epoch 00006: val_acc improved from 0.67378 to 0.73374, saving model to best_model.h5\n",
            "Epoch 7/30\n",
            "16/16 [==============================] - 7s 410ms/step - loss: 0.5791 - acc: 0.7943 - val_loss: 0.5766 - val_acc: 0.8161\n",
            "\n",
            "Epoch 00007: val_acc improved from 0.73374 to 0.81606, saving model to best_model.h5\n",
            "Epoch 8/30\n",
            "16/16 [==============================] - 6s 402ms/step - loss: 0.5476 - acc: 0.8337 - val_loss: 0.5491 - val_acc: 0.8384\n",
            "\n",
            "Epoch 00008: val_acc improved from 0.81606 to 0.83841, saving model to best_model.h5\n",
            "Epoch 9/30\n",
            "16/16 [==============================] - 6s 399ms/step - loss: 0.5131 - acc: 0.8696 - val_loss: 0.5201 - val_acc: 0.8750\n",
            "\n",
            "Epoch 00009: val_acc improved from 0.83841 to 0.87500, saving model to best_model.h5\n",
            "Epoch 10/30\n",
            "16/16 [==============================] - 6s 406ms/step - loss: 0.4810 - acc: 0.8820 - val_loss: 0.4980 - val_acc: 0.8669\n",
            "\n",
            "Epoch 00010: val_acc did not improve from 0.87500\n",
            "Epoch 11/30\n",
            "16/16 [==============================] - 7s 408ms/step - loss: 0.4585 - acc: 0.8823 - val_loss: 0.4799 - val_acc: 0.8760\n",
            "\n",
            "Epoch 00011: val_acc improved from 0.87500 to 0.87602, saving model to best_model.h5\n",
            "Epoch 12/30\n",
            "16/16 [==============================] - 6s 406ms/step - loss: 0.4399 - acc: 0.8973 - val_loss: 0.4672 - val_acc: 0.8821\n",
            "\n",
            "Epoch 00012: val_acc improved from 0.87602 to 0.88211, saving model to best_model.h5\n",
            "Epoch 13/30\n",
            "16/16 [==============================] - 7s 410ms/step - loss: 0.4190 - acc: 0.9067 - val_loss: 0.4520 - val_acc: 0.8862\n",
            "\n",
            "Epoch 00013: val_acc improved from 0.88211 to 0.88618, saving model to best_model.h5\n",
            "Epoch 14/30\n",
            "16/16 [==============================] - 8s 471ms/step - loss: 0.4029 - acc: 0.9069 - val_loss: 0.4476 - val_acc: 0.8679\n",
            "\n",
            "Epoch 00014: val_acc did not improve from 0.88618\n",
            "Epoch 15/30\n",
            "16/16 [==============================] - 6s 398ms/step - loss: 0.3942 - acc: 0.9034 - val_loss: 0.4369 - val_acc: 0.8831\n",
            "\n",
            "Epoch 00015: val_acc did not improve from 0.88618\n",
            "Epoch 16/30\n",
            "16/16 [==============================] - 6s 393ms/step - loss: 0.3773 - acc: 0.9171 - val_loss: 0.4245 - val_acc: 0.8902\n",
            "\n",
            "Epoch 00016: val_acc improved from 0.88618 to 0.89024, saving model to best_model.h5\n",
            "Epoch 17/30\n",
            "16/16 [==============================] - 6s 396ms/step - loss: 0.3572 - acc: 0.9278 - val_loss: 0.4131 - val_acc: 0.8902\n",
            "\n",
            "Epoch 00017: val_acc did not improve from 0.89024\n",
            "Epoch 18/30\n",
            "16/16 [==============================] - 6s 403ms/step - loss: 0.3598 - acc: 0.9085 - val_loss: 0.4125 - val_acc: 0.8821\n",
            "\n",
            "Epoch 00018: val_acc did not improve from 0.89024\n",
            "Epoch 19/30\n",
            "16/16 [==============================] - 6s 403ms/step - loss: 0.3358 - acc: 0.9288 - val_loss: 0.4020 - val_acc: 0.8841\n",
            "\n",
            "Epoch 00019: val_acc did not improve from 0.89024\n",
            "Epoch 20/30\n",
            "16/16 [==============================] - 6s 399ms/step - loss: 0.3237 - acc: 0.9291 - val_loss: 0.4463 - val_acc: 0.8293\n",
            "\n",
            "Epoch 00020: val_acc did not improve from 0.89024\n",
            "Epoch 21/30\n",
            "16/16 [==============================] - 6s 395ms/step - loss: 0.3258 - acc: 0.9222 - val_loss: 0.3922 - val_acc: 0.8852\n",
            "\n",
            "Epoch 00021: val_acc did not improve from 0.89024\n",
            "Epoch 22/30\n",
            "16/16 [==============================] - 6s 389ms/step - loss: 0.3033 - acc: 0.9377 - val_loss: 0.3894 - val_acc: 0.8740\n",
            "\n",
            "Epoch 00022: val_acc did not improve from 0.89024\n",
            "Epoch 23/30\n",
            "16/16 [==============================] - 6s 387ms/step - loss: 0.2987 - acc: 0.9306 - val_loss: 0.3859 - val_acc: 0.8780\n",
            "\n",
            "Epoch 00023: val_acc did not improve from 0.89024\n",
            "Epoch 24/30\n",
            "16/16 [==============================] - 6s 403ms/step - loss: 0.2835 - acc: 0.9436 - val_loss: 0.3780 - val_acc: 0.8872\n",
            "\n",
            "Epoch 00024: val_acc did not improve from 0.89024\n",
            "Epoch 25/30\n",
            "16/16 [==============================] - 6s 393ms/step - loss: 0.2711 - acc: 0.9451 - val_loss: 0.5693 - val_acc: 0.7642\n",
            "\n",
            "Epoch 00025: val_acc did not improve from 0.89024\n",
            "Epoch 26/30\n",
            "16/16 [==============================] - 6s 385ms/step - loss: 0.2847 - acc: 0.9339 - val_loss: 0.3762 - val_acc: 0.8811\n",
            "\n",
            "Epoch 00026: val_acc did not improve from 0.89024\n",
            "Epoch 27/30\n",
            "16/16 [==============================] - 6s 397ms/step - loss: 0.2592 - acc: 0.9481 - val_loss: 0.3732 - val_acc: 0.8862\n",
            "\n",
            "Epoch 00027: val_acc did not improve from 0.89024\n",
            "Epoch 28/30\n",
            "16/16 [==============================] - 6s 389ms/step - loss: 0.2501 - acc: 0.9517 - val_loss: 0.3717 - val_acc: 0.8801\n",
            "\n",
            "Epoch 00028: val_acc did not improve from 0.89024\n",
            "Epoch 29/30\n",
            "16/16 [==============================] - 6s 392ms/step - loss: 0.2518 - acc: 0.9446 - val_loss: 0.3722 - val_acc: 0.8791\n",
            "\n",
            "Epoch 00029: val_acc did not improve from 0.89024\n",
            "Epoch 30/30\n",
            "16/16 [==============================] - 6s 393ms/step - loss: 0.2395 - acc: 0.9540 - val_loss: 0.3715 - val_acc: 0.8801\n",
            "\n",
            "Epoch 00030: val_acc did not improve from 0.89024\n",
            "LSTM 시간 : 205.24838852882385\n",
            "Model: \"model\"\n",
            "_________________________________________________________________\n",
            "Layer (type)                 Output Shape              Param #   \n",
            "=================================================================\n",
            "input_2 (InputLayer)         [(None, 100)]             0         \n",
            "_________________________________________________________________\n",
            "embedding_1 (Embedding)      (None, 100, 5)            18330     \n",
            "_________________________________________________________________\n",
            "lstm_1 (LSTM)                (None, 8)                 448       \n",
            "_________________________________________________________________\n",
            "dense (Dense)                (None, 1)                 9         \n",
            "=================================================================\n",
            "Total params: 18,787\n",
            "Trainable params: 18,787\n",
            "Non-trainable params: 0\n",
            "_________________________________________________________________\n"
          ]
        }
      ],
      "source": [
        "from tensorflow.python.keras.layers import Dropout\n",
        "from tensorflow.python.keras.models import Sequential, Model\n",
        "from tensorflow.python.keras.layers import Dense, Input\n",
        "from tensorflow.keras import regularizers\n",
        "\n",
        "input1 =Input(shape= (100,))        \n",
        "embedding1 = Embedding(3666,5,input_length=100)(input1)\n",
        "lstm1 = LSTM(8)(embedding1)\n",
        "output1 = Dense(1,activation='sigmoid', kernel_regularizer=regularizers.l2(0.01))(lstm1)\n",
        "model = Model(inputs= input1,outputs=output1)\n",
        "\n",
        "model.summary()\n",
        "\n",
        "es = EarlyStopping(monitor='val_loss', mode='min', verbose=1, patience=20)\n",
        "mc = ModelCheckpoint('best_model.h5', monitor='val_acc', mode='max', verbose=1, save_best_only=True)\n",
        "\n",
        "model.compile(optimizer='rmsprop', loss='binary_crossentropy', metrics=['acc'])\n",
        "\n",
        "import time\n",
        "start_time = time.time()\n",
        "history = model.fit(x_train, y_train, epochs=30, callbacks=[es, mc], batch_size=256, validation_split=0.2)\n",
        "end_time = time.time()-start_time\n",
        "\n",
        "print(\"LSTM 시간 :\", end_time)\n",
        "model.summary()"
      ]
    },
    {
      "cell_type": "code",
      "execution_count": null,
      "metadata": {
        "colab": {
          "base_uri": "https://localhost:8080/",
          "height": 541
        },
        "id": "5Q6X7COOj-Ae",
        "outputId": "fd44be0e-3b43-40ee-d939-5a6942548f8e"
      },
      "outputs": [
        {
          "output_type": "display_data",
          "data": {
            "text/plain": [
              "<Figure size 432x288 with 1 Axes>"
            ],
            "image/png": "[encoded data removed]"
          },
          "metadata": {
            "needs_background": "light"
          }
        },
        {
          "output_type": "display_data",
          "data": {
            "text/plain": [
              "<Figure size 432x288 with 1 Axes>"
            ],
            "image/png": "[encoded data removed]"
          },
          "metadata": {
            "needs_background": "light"
          }
        }
      ],
      "source": [
        "import matplotlib.pyplot as plt\n",
        "\n",
        "def plot_graphs(history, string):\n",
        "  plt.plot(history.history[string])\n",
        "  plt.plot(history.history['val_'+string])\n",
        "  plt.xlabel(\"Epochs\")\n",
        "  plt.ylabel(string)\n",
        "  plt.legend([string, 'val_'+string])\n",
        "  plt.show()\n",
        "  \n",
        "plot_graphs(history, \"acc\")\n",
        "plot_graphs(history, \"loss\")"
      ]
    },
    {
      "cell_type": "code",
      "execution_count": null,
      "metadata": {
        "colab": {
          "base_uri": "https://localhost:8080/"
        },
        "id": "aGtdqsmJx07z",
        "outputId": "afc82629-943f-4b9e-94fa-6cb099975527"
      },
      "outputs": [
        {
          "output_type": "stream",
          "name": "stdout",
          "text": [
            "WARNING:tensorflow:Layer lstm_1 will not use cuDNN kernels since it doesn't meet the criteria. It will use a generic GPU kernel as fallback when running on GPU.\n",
            "63/63 [==============================] - 2s 33ms/step - loss: 0.4138 - acc: 0.8619\n",
            "\n",
            " loss : 0.414\n",
            "63/63 [==============================] - 2s 34ms/step - loss: 0.4138 - acc: 0.8619\n",
            "\n",
            " 테스트 정확도: 0.86\n"
          ]
        }
      ],
      "source": [
        "loaded_model = load_model('best_model.h5')\n",
        "print(\"\\n loss : %.3f\" % (loaded_model.evaluate(x_test, y_test)[0]))\n",
        "print(\"\\n 테스트 정확도: %.2f\" % (loaded_model.evaluate(x_test, y_test)[1]))"
      ]
    },
    {
      "cell_type": "markdown",
      "metadata": {
        "id": "8Ri41pk9pP3B"
      },
      "source": [
        "테스트 데이터를 통해 loss 값과 정확도를 평가한다.\n",
        "\n",
        " 훈련 과정에서 검증 데이터의 정확도가 가장 높았을 때 저장된 모델인 'best_model.h5'를 로드한다.\n",
        "\n",
        "https://github.com/2runo/Curse-detection/blob/master/src/embedding.py\n",
        "함수 임베딩 참고\n",
        "\n",
        " https://github.com/2runo/Curse-detection/blob/master/src/model.py\n",
        " 함수형 모델 참고"
      ]
    },
    {
      "cell_type": "code",
      "execution_count": null,
      "metadata": {
        "colab": {
          "base_uri": "https://localhost:8080/"
        },
        "id": "sTioRYCmrM8-",
        "outputId": "6f6caad7-5d34-46de-ac24-d453e6b87cd7"
      },
      "outputs": [
        {
          "name": "stdout",
          "output_type": "stream",
          "text": [
            "Accuracy of prediction on test set :  0.832\n"
          ]
        }
      ],
      "source": [
        "from sklearn.metrics import accuracy_score\n",
        "\n",
        "prediction = model.predict(x_test)\n",
        "# Get labels based on probability 1 if p>= 0.5 else 0\n",
        "y_predict = []\n",
        "for i in prediction:\n",
        "    if i >= 0.5:\n",
        "        y_predict.append(1)\n",
        "    else:\n",
        "        y_predict.append(0)\n",
        "print(\"Accuracy of prediction on test set : \", round(accuracy_score(y_test,y_predict),3))"
      ]
    },
    {
      "cell_type": "markdown",
      "metadata": {
        "id": "qHEFUs1JgeVw"
      },
      "source": [
        "테스트 데이터에 대한 예측 정확도"
      ]
    },
    {
      "cell_type": "markdown",
      "metadata": {
        "id": "VOu50Mg-1xqa"
      },
      "source": [
        "**새로운 문장 긍정/부정 예측**"
      ]
    },
    {
      "cell_type": "code",
      "execution_count": null,
      "metadata": {
        "colab": {
          "base_uri": "https://localhost:8080/"
        },
        "id": "c_-18VfUfGKD",
        "outputId": "4f11758b-9a5a-404c-8f76-27944c5f42a1"
      },
      "outputs": [
        {
          "name": "stdout",
          "output_type": "stream",
          "text": [
            "냄새가 안나는데도 잘드시는 웅이님 대단하십니다\n",
            "Predicted sentiment :  Positive\n",
            "자가격리 해제되고 빨리 입맛이 돌아와서 좋은 먹방 계속 보여줬으면 해요\n",
            "Predicted sentiment :  Positive\n",
            "타임라인 ️0:41 육회비빔밥 한입1:16 육회비빔밥 두입02:04 육회비빔밥 세입02:16 육회비빔밥 네입2:21 설렁탕국물 한입,두입2:33 설렁탕 국물 세입2:42 설렁탕고기 한입2:48 설렁탕국물 네입3:06 자메이카치킨 첫입 3:29자메이카치킨 두입3:34자메이카 세입3:59육회비빔밥 다섯입4:15 설렁탕 국물 밥에 말아먹기 4:18 설렁탕 국물 밥에 말아먹기4:26 설렁탕국물 +밥+깍두기4:42 설렁탕 국물 밥에 말아먹기4:48~ 5:26 설렁탕 국물 밥에 말아먹기5:29 자메이카치킨 네입5:37 자메이카치킨 다섯입5:45 ~ 6:04 자메이카치킨 여섯입6:27 라면 한입\n",
            "Predicted sentiment :  Negative\n",
            "웅이님 이것저것 먹는모습 회복된듯합니다 축하합니다열심 먹방하세요 \n",
            "Predicted sentiment :  Positive\n",
            "웅이woongei님 먹방아주잘하신군요.\n",
            "Predicted sentiment :  Negative\n",
            "웅 형 아파서 걱정했는데..돌아와줘서 고마워 ㅠ 입맛 살아나서 찐텐 표정 지으면서 다시 행복 먹방 찍어줘\n",
            "Predicted sentiment :  Positive\n",
            "입맛 없으시다면서 나보다 맛있게 드신다\n",
            "Predicted sentiment :  Positive\n",
            "잘드시고 회복하세요~~ 3주간은 더욱 잘챙여드시구여\n",
            "Predicted sentiment :  Negative\n",
            "컨셉먹방으로 라면,자메이카통다리,육회비빔밥\n",
            "Predicted sentiment :  Positive\n",
            "오늘은 커디션이 좋아보이네요 전 3일차인데 입맛은 여전한지.... 전 살은 절대 안빠지겠어요ㅠㅠ  웅이님 고생많았어요 쾌차하시면 더 맛나는먹방 기대할께요\n",
            "Predicted sentiment :  Negative\n",
            "웅이형 얼굴 살이 빠져보이네요. 아직 입맛이 없어도 잘 드셔서 빨리 회복하길 바래요. 오늘 영상 너무 감사해요. 형아 힘내시고 화이팅할께요~~^^\n",
            "Predicted sentiment :  Positive\n",
            "괜찮은겐가?먹는 모습보니 걱정 안해도 되것네 ㅎㅎ\n",
            "Predicted sentiment :  Positive\n",
            "웅이형 진짜 맛있게 먹는다\n",
            "Predicted sentiment :  Positive\n",
            "건강합시다^^ 오늘하루도 잘보내고 다음엔 에너지넘친 웅이님과 같이  달려볼수있기를 ㅎㅎ 힘들었던 순간들은 잊고 또 다시 좋은 추억만들어가요 골드버튼 다시한번 더 축하합니다!!\n",
            "Predicted sentiment :  Negative\n",
            "웅이가 잘 지내고 있길 바라면서 잘 먹고 잘 자고. 집에 머물면서 자신을 돌보면 더 빨리 나아질 것입니다!빠른 회복, 당신이 얼마나 자연스럽고 정상적인 식사를했는지 좋아하지만 당신이 아프다는 것이 얼마나 슬펐는지 이해합니다 ... 좋은 하루 보내시고 항상 행복하세요! ^^\n",
            "Predicted sentiment :  Positive\n",
            "아프리카티비 극혐하던 사람인데 웅이님 실시간 보려고 깔고 회원가입함. 위암수술후 잘 못먹게 되니 먹방을 보게 되었는데 그중에 웅이님이 제 취저더라구요. 맛있게 잘 드셔서 반함. 내 아들이면 매일 밥 가득가득 해줄듯 ㅋ. 식당하다 아파서 접었는데 많이 퍼줘서 망한거냐 농담할정도로 많이 줬는데 내음식 잘먹는 사람보면 뿌듯하고 너무 좋음 ㅎㅎ\n",
            "Predicted sentiment :  Positive\n",
            "웅이님 끝까지 안전하게 쾌차하시길..!!! 기원드립니당\n",
            "Predicted sentiment :  Positive\n",
            "우리 웅이님, 몸상태는 괜찮아요? 많이 드시고 얼른 쾌차하셔용~~~ \n",
            "Predicted sentiment :  Positive\n",
            "웅이님 입맛은 되돌아오신건가요?몇일전 영상보다는 혈색이랑 컨디션 텐션이 돌아오신거 같아 보여 다행입니다아무쪼록 건강이 우선이니까,몸 잘 챙기시구 영양제도 챙겨드시고, 몸 회복하시구요앞으로도 맛있는 먹방 기대할게요\n",
            "Predicted sentiment :  Positive\n",
            "코로나 빨리 극복해서 음식 맛을 지대로 느끼는 먹방 개대합니돠.....\n",
            "Predicted sentiment :  Positive\n",
            "웅이 존귀탱 ㄹㅇ 형이 애낀다 그래도 많이 회복한거같아서 보기좋네 많이먹고 더 회복하셈!!! 파이팅~\n",
            "Predicted sentiment :  Positive\n",
            "입맛없다면서 하루한끼먹는 나보다 더먹는 웅이님 정말 잘드시네요\n",
            "Predicted sentiment :  Positive\n",
            "형 이정도로 먹으면 입맛 안돌아올수가 없어\n",
            "Predicted sentiment :  Negative\n",
            "건강한것보니  안심이군맛난것 많이 먹고 언능 기운 차리자\n",
            "Predicted sentiment :  Negative\n",
            "입맛 없어도 너무 맛나게 잘 드신다요 \n",
            "Predicted sentiment :  Positive\n",
            "건강해서 잘 안아프면한번 아플때 심하게 아프다던데,,,웅이님 고생 많이 하셨네요ㅠㅠ아직도 얼굴이 안좋아보여요ㅠㅠ맛이안느껴지시는데 엄청 잘드시는 ㅎㅎ역시 먹는거 하나는 타고나셨네요^^많이 잘드시고 얼른 입맛 찾길 바랄께요^^웅이님 아프지마세요ㅠㅠ\n",
            "Predicted sentiment :  Positive\n",
            "냄새가 안느껴지셔도 컨디션은 회복 되가고있는거같아 다행이네요.마음 조급해하지말고 쉬는김에 푹쉬고 잘 먹고 코로나 툭 털고 멋진방송 기다릴께요\n",
            "Predicted sentiment :  Positive\n",
            "먹는모습이 상남자야\n",
            "Predicted sentiment :  Negative\n",
            "고생하셨네요....자가격리 끝나도 항상 조심하시고 맛난 먹방 오래볼수있게 아프지마세요~~항상 응원합니다 ~♡\n",
            "Predicted sentiment :  Positive\n",
            "입맛 없어도 잘 먹는 모습을 보니 다행^^얼른 좋아져서 길거리 먹방 볼수있길 바래요\n",
            "Predicted sentiment :  Positive\n",
            "아ㅠㅠ 음식먹을때는 맛이제일중요한데 냄새도 안나고 맛도 안느껴지는데 맛있게 먹는 웅이님빨리 얼른나아서 야외먹방 해주세요\n",
            "Predicted sentiment :  Negative\n",
            "입맛없는게 저정도 ㅋㅋㅋㅋㅋㅋ대단\n",
            "Predicted sentiment :  Negative\n",
            "건강이 최고예요.웅이 홧팅!!!\n",
            "Predicted sentiment :  Positive\n",
            "그래도 거의 입맛이 돌아온것 같은데 ㅋㅋ 이제 드디어 해방을 앞두었네요~ 고생하셨어요~ 완벽히 식욕 다시 찾으셔서 맛있게 드셔주세요~~\n",
            "Predicted sentiment :  Negative\n",
            "웅이님 너무 잘보고있어요ㅎㅎ 혹시 이대역 바로 앞에 있는 김종구 부산 어묵집 방문해주실 수 있으실까요?!? 아직도 오뎅 500원 하는 곳에 놀라웠는데 어묵에 야채도 들어가있고 가성비에 할머니께서 너무 친절하게 맞이해주셔서 늘 외로운 날에 가서 몇개 먹고 지나갔는데 어제는 더워서 장사가 안된다며 한숨쉬는 모습이 너무 마음 아팠어요ㅠㅠㅠ 맛있어서 웅이님도 만족하실 것 같아요!!!\n",
            "Predicted sentiment :  Positive\n",
            "아 나도 위가 커서 진짜 저렇게 한번에 먹고싶은거 다 먹어보고 싶음ㅋㅋㅋㅋ ㅠ,ㅠ\n",
            "Predicted sentiment :  Negative\n",
            "냄새도 안나고 입맛도 없는데 참 맛나게 먹네요 빨리 완쾌하세요\n",
            "Predicted sentiment :  Positive\n",
            "와 진짜 너무 맛있게 드셔서 저도 먹고싶어져요 (큰일) ... !!\n",
            "Predicted sentiment :  Negative\n",
            "자가격리 끝나고 하루이틀이면입맛은 돌아오는데미각은 한 일주일 걸리더라구요~멀 먹어도 대강  식감이 주로고맛은 아는 맛이라 상상하며 먹는...ㅎㅎ어여 웅이님 입맛도 미각도 돌아오길~~\n",
            "Predicted sentiment :  Positive\n",
            "웅이님은 먹방으로 일하시는데 아프셔서 입맛없고 맛 안느껴지면 진짜 고통이실것같아요 이 보다 더힘든건 없을것같아요 코로나 저도 걸렸었을때 열이 39.5도 까지 났었어용 웅이님 아프지마시고 얼른 쾌차히시길 바랄게요\n",
            "Predicted sentiment :  Positive\n",
            "팬으로써 응원합니다^^ 웅이님 화이팅 그래도 잘 드셔서 뿌듯하네요 매니저님이 계셔서 든든해요\n",
            "Predicted sentiment :  Positive\n",
            "웅이님, 그래도 잘 드시는 모습 보여줘서 걱정 한시름 놓았어요~ 그리고 인후통 없으셨다니까 천만다행이에요..!! 흑흑\n",
            "Predicted sentiment :  Positive\n",
            "맛있겠다..... 육회비빔밥에 설렁탕 조화.. 많이 드시고 쾌차하세용\n",
            "Predicted sentiment :  Negative\n",
            "대단하다는 말밖에..제가 코로나 걸렸을때는 2주동안 거의 못먹었구요.ㅠ 먹으면 토하고,못먹어서 거의 기어다녔던 생각이 나요..ㅠ. 웅이님도 입맛이 없겠지만 억지로라도 드셔서 다행이예요. 약도 잘 받겠고. 빨리 입맛 돌아와서 건강하세요.\n",
            "Predicted sentiment :  Negative\n",
            "오빤 잘 먹을 때가 제일 귀여어ㅜ︎︎\n",
            "Predicted sentiment :  Positive\n",
            "냄새를 못맡아도 잘먹는모습보니 예쁘네요~~ 빨리회복해서 저렴하고 맛난집 소개시켜줘요~^^\n",
            "Predicted sentiment :  Negative\n",
            "저도 어제 양성판정 받았는데 웅이님 먹방으로 대리만족 하고갑니다 저도 입맛 다시 돌오왔으면 좋겠네요ㅜㅜ\n",
            "Predicted sentiment :  Positive\n",
            "어제보다 오늘 얼굴색이나 표정이 좋아보여요 다행이다 오늘도 잘보고가요 ^^\n",
            "Predicted sentiment :  Positive\n",
            "입맛 없는 먹방 잘 봤어요~~^^\n",
            "Predicted sentiment :  Positive\n",
            "웅이님 처럼 먹으면 좋겄다 ㅜ0ㅠ ♡\n",
            "Predicted sentiment :  Positive\n",
            "입맛이 없는데 저정도를 먹다니 ㅋㅋㅋㅋㅋ.대단하십니당\n",
            "Predicted sentiment :  Positive\n",
            "육비빔 치킨에 설렁에 라면하면 웅이님이쭈\n",
            "Predicted sentiment :  Negative\n",
            "웅이님 이 먹는 음식은 못 먹는 음식도 도전하게 하는 힘 이 있다!너무 맛있게 먹으니깐..\n",
            "Predicted sentiment :  Positive\n",
            "최근 유입된 콜라입니다. 언제나 웅이님의 상냥한 먹방에 웃음 짓고 갑니다. 빨리 쾌차하시길 바랍니다.\n",
            "Predicted sentiment :  Positive\n",
            "내 동생도 코로나 걸려서 입맛이 없어졌어요 ㅠㅠㅠㅠ 웅이님도 빨리 입맛 돌아왔으면 좋겠네요 ㅠㅠㅠㅠㅠ 화이팅\n",
            "Predicted sentiment :  Positive\n",
            "웅이님 저도 코로나로 후각상실이 와서 다시 돌아올까 꽤나 오랫동안 우울했는데 신기하게 돌아오더군요~웅이님은 곧 돌아올꺼에요~~!! 그러니까 걱정마시고 체력관리 잘 하시길 바래요~♡\n",
            "Predicted sentiment :  Negative\n",
            "조금씩 컨디션 괜찮아지시는것 같아서 다행이에요 ㅠㅠ\n",
            "Predicted sentiment :  Positive\n",
            "오렌지 껍질을 코에 가까이하고 짜면서 냄새맡아보세요~ 친구가 냄새 못맡았었는데 효과 봤어요\n",
            "Predicted sentiment :  Positive\n",
            "웅이 코로나 걸렸는데넘 잘먹는 거 아녀???ㅋㅜㅜ\n",
            "Predicted sentiment :  Positive\n",
            "에궁~ 웅이님 목소리가;; 살도 쏙 빠지고요 그때 편도염 걸리고가 전조증상이였나봐요 근데 난 아무리 아빠도 살일도! 안빠지는뎅~ 웅이님 좋았겠어요 왕부럽! ㅋㅋㅋㅋ 양푼째 들고 뚫어질각 긁어서 드시는데 그래도 입맛이 돋나봐요 자메이카치킨도 디지게 잘뜯으시고 와~ 라면디저트까지! 저도 얼마전 백만년만에 끓여 먹었는데 물조절 실패해서 쫄은각 됐어요 웅이님이 아삭아삭 깍뚜기랑 맛나게 드셨으면 됩니다! 엄마 라면 디지게 맛없게 먹었어도 괜찮아요 다음에 물조절 잘해서 물 디지게 많이 넣고 계란도 잘풀어서 끓여먹을께요! 다음 영상에선 더 건강한 모습으로 볼수있겠네요 웅이아드님!\n",
            "Predicted sentiment :  Positive\n",
            "얼굴은 퀭~해졌지만, 맛도 잘 못느끼지만, 맛있게 먹어주니 보는사람도 힘나요. 그렇게 잘 먹어줘야 기력이 보충되요. 야외먹방 아녀도. 아주아주 훌륭한 먹방이예요^^~\n",
            "Predicted sentiment :  Positive\n",
            "웅이님 먹방 잘 보고 갑니다\n",
            "Predicted sentiment :  Positive\n",
            "먹방보고 조금씩 회복 하시는 것 같아서 다행인 것 같았습니다. 완전히 회복 될 때 까지 관리 잘하시고 앞으로도 맛있는 먹방 기대하겠습니다. (오늘도 다이어트는 실패했다.)\n",
            "Predicted sentiment :  Positive\n",
            "웅이형님 경기도 평택시 비전동에 짱가네 가주세요 맛도리입니다 찐이에요\n",
            "Predicted sentiment :  Negative\n",
            "입맛 없는 한 끼가 내 세끼보다 많다,,,매번 놀라고 간다 웅아 항상 건강혀♡\n",
            "Predicted sentiment :  Negative\n",
            "웅이님 화이팅\n",
            "Predicted sentiment :  Positive\n",
            "웅이님~얼굴에살빠지니깐엄청잘생겼어요~^^\n",
            "Predicted sentiment :  Positive\n",
            "처음엔 냄새가 안나서 당황할수도 있는데,정말 언제 그랬냐는 듯이 시간 지나면 바로 돌아 옵니다.걱정하지 마시고 빠른 쾌유 하시길 바래요 항상 화이팅\n",
            "Predicted sentiment :  Positive\n",
            "맛있겠다\n",
            "Predicted sentiment :  Negative\n",
            "역시 프로는 다르네요.미후각 상실중에도 잘드시는듯~금방 회복될거니까 힘내세요~♡\n",
            "Predicted sentiment :  Negative\n",
            "급성위염걸려서 죽만먹는데 자메이카치킨 정말 먹고싶었는데 대리먹방 감사합니다ㅠㅠ저희는 전에 온가족이 코로나걸렷어요 돌아가면서 기침하고 목아프고 얼른쾌차하셔서 야외먹방보여주세요 홧팅\n",
            "Predicted sentiment :  Positive\n",
            "확실히 아프니까 야위어보이고 아파보임 ㅠㅠㅜ 헬쓱해졌어 우리 웅이님ㅜㅜㅜㅜㅜ\n",
            "Predicted sentiment :  Positive\n",
            "웅이님,그래두 몸이 괜찮아 보여서 다행이에요\n",
            "Predicted sentiment :  Positive\n",
            "입맛이 없어서 7인분......와~~~ 진짜 위대하심...\n",
            "Predicted sentiment :  Positive\n",
            "웅이님 오늘도 영상을   올리셨네요 잘 시청할게요\n",
            "Predicted sentiment :  Positive\n",
            "맛이 느껴지지 않는데도 흡입하시는 웅이님~~~목소리는 아직...안돌아온듯요그래도 괜찮아 지신것같아서 다행입니다^^\n",
            "Predicted sentiment :  Positive\n",
            "바나나 2개먹고 보길 잘했다 했었지만 마지막까지보니 배고파지는.. 웅이님 너무 맛있게 잘드신당 아픈거 빨리나아여!\n",
            "Predicted sentiment :  Positive\n",
            "제 친구도 코로나 확진 후 자가격리 후 음성나왔는데 지금까지도 후각이 안돌아와서 고생인데 웅이님도 얼근 격리 해체 후 빨리 후각이 돌아왔으면 합니다. 앞으로도 먹방 계속 해주세요\n",
            "Predicted sentiment :  Positive\n",
            "웅이님 너무 잘생겼어요.\n",
            "Predicted sentiment :  Positive\n",
            "웅이님 입맛 돌아오신듯^^\n",
            "Predicted sentiment :  Positive\n",
            "잘드시니까 보기좋아요~저도 코로나걸렸을때 냄새가 안느껴져서 입맛없었는데 3킬로 빠졌다가 격리끝나고 난후..서서히 돌아오던걸요..살과함께..ㅎㅎ\n",
            "Predicted sentiment :  Positive\n",
            "울 웅이쿤 빨리 힘내여  맴이 아파요♡♡♡♡♡\n",
            "Predicted sentiment :  Positive\n",
            "코로나 걸리면 입맛도 뚝 떨어지던데 잘 드셔서 다행이에요. 쾌유하세요\n",
            "Predicted sentiment :  Negative\n",
            "아직도 이 밤에 라면은 거의 뼈때리는 고문수준\n",
            "Predicted sentiment :  Negative\n",
            "어때요?맛있나요?맛나보여요~그래두 잘드시니 다행입니다~~^^\n",
            "Predicted sentiment :  Negative\n",
            "17초! 빨리 와따! 나중에 공주시 교대 앞에 있는 33 편의점 떡볶이집 가주세요ㅜ 거기 짱 맛있어요\n",
            "Predicted sentiment :  Positive\n",
            "그래도 잘 드시는모습 보여주셔서 안심은 되네요ㅠㅠ 휴우 왜 코비드19감염증은 후각이나 미각이 난리인지ㅠㅠㅠ 밥두 못먹게ㅠㅠㅠ 웅이님은 음  예외인거같지만요 ㅎㅎㅎ 그래도 밥잘묵고 약잘묵고 해서 해열 잘하시구 통증 소염 잘 하시구!! 회복 짱짱맨되서 맛나게 밥먹을 날 기다렵ㅎ아요!! 홧팅\n",
            "Predicted sentiment :  Positive\n",
            "앜ㅋㅋ 웅이 백신 언급하는 댓글에만 하트 안준거 안누른거 개웃기네ㅋㅋㅋㅋㅋ 웃음벨ㅋㅋㅋㅋㅋㅋㅋㅋㅋㅋㅋㅋ옹졸하다 웅아\n",
            "Predicted sentiment :  Positive\n",
            "네..,입맛돌아오시구.,**건강하신.모습으로..,**저렴하고.맛있는맛집.,소개.,마니마니.,해주세요..,**\n",
            "Predicted sentiment :  Positive\n",
            "웅이님 살이 빠진거 같은데... 야외컨텐츠 하시는 분이 백신 접종 안했다니 그건 좀 그렇네요. 그래도 아무탈없이 회복되서 다행입니다.\n",
            "Predicted sentiment :  Positive\n",
            "고생많이하셨어여 웅이님 화팅\n",
            "Predicted sentiment :  Positive\n",
            "아니 근데 맨날 딴 유튜버 영상보면 강남가서 술 마시고 돌아다니고 있던데 코로나 안 걸리는게 이상하지...웅이 안 싫어하고 좋아하는데 백신도 안 맞았는데 넘나 당연한 결과임..\n",
            "Predicted sentiment :  Negative\n",
            "입맛이없는데 폭풍흡입 ㅋㅋㅋㅋㅋㅋㅋㅋㅋㅋㅋ 입맛돌아오면 큰일나겠어욬ㅋㅋㅋㅋㅋ 정말 말도 많이 안하고 먹기만했어요~~ㅋㅋㅋㅋ 아픈거 많이 나아서 다행이고 잘먹어서 더 좋아요~!! 힘내요~~돌아와랏!! 입맛!! \n",
            "Predicted sentiment :  Positive\n",
            "일년다되가요아직입맛이다안도라옴ㅋㅋㅋ 욤욤욤 금방돌아올듯.\n",
            "Predicted sentiment :  Negative\n",
            "아구..웅이 너무 아파보이네 혼자있는것두 힘든데 아프기까지 하면 진짜 서럽던데....어여 입맛도 돌아오구 안아팠으면 좋겠당.... 그래도 영상계속 올려주구 너무 고마워 아프지마!!\n",
            "Predicted sentiment :  Positive\n",
            "아플땐 잘먹어야 되는데 잘 드시니 다행입니다\n",
            "Predicted sentiment :  Negative\n",
            "입맛...어...없는거...마...맞죠? ㅎㅎㅎㅋㅋㅋㅋ 잘드시니까 보기 좋네요잘 먹어야 빨리 낫죠^^\n",
            "Predicted sentiment :  Positive\n",
            "빨리 입맛 돌아와야~~그래도잘먹어서 다행아직까지 목소리가ㅠ 얼릉 완쾌하고귀여운 먹방 해주세요~~\n",
            "Predicted sentiment :  Positive\n",
            "조금 있으면 입맛돌아올거에요 ~~~♡♡♡\n",
            "Predicted sentiment :  Negative\n",
            "목소리가 아직 ㅠ어서 회복하구 맛나는 먹방웅이군 파이팅^\n",
            "Predicted sentiment :  Positive\n",
            "많이 먹고 빨리 완쾌되시길!\n",
            "Predicted sentiment :  Positive\n",
            "안경 너무 귀여우세요^^\n",
            "Predicted sentiment :  Positive\n",
            "입맛 돌아와요~ 저도 후각이랑 미각에 이상?생겼었는데 다돌아오더라고요 ㅋㅋㅋㅋㅋㅋㅋㅋㅋ 잘드셔서 아주 다행입니다 ㅋㅋㅋ\n",
            "Predicted sentiment :  Positive\n",
            "어라...웅이님 우리아이도 격리내일 하루남았어요 같은 날 확진됐었나보네요...ㅜㅜ입맛없다하시면서도 여전히 잘드시는거보니 빨리 입맛돌아오겠어요ㅎㅎ하루남은 격리 힘내세요 홧팅♡\n",
            "Predicted sentiment :  Positive\n",
            "맛있다는 말은 한번도 안 하는 거 보니까 웅이가 냄새를 못 맡는다는 방증\n",
            "Predicted sentiment :  Negative\n",
            "격리해제되도 3일정도는 더 조심하셔야되유 ㅠㅠ 항상 건강하시길\n",
            "Predicted sentiment :  Positive\n",
            "저두 미각 후각 잃었었는데 한 한두달 되니까 천천히 돌아오더라구요ㅠㅠ 안돌아올까봐 걱정했는데 웅이님도 너무 걱정하지 마세용\n",
            "Predicted sentiment :  Negative\n",
            "저 자가격리때 입맛 터져서 엄청 먹엇어요 ㅋㅋㅋㅋㅋㅋㅋㅋ 곧 쾌차하실겁니당\n",
            "Predicted sentiment :  Positive\n",
            "건강하시길 바랍니다️\n",
            "Predicted sentiment :  Negative\n",
            "지금 여러분은 입맛이 없는 먹방을 보고 계십니다\n",
            "Predicted sentiment :  Positive\n",
            "입맛 돌아 오길 기다려요~~ 돌아올꺼예요~ 컨디션조절 잘해요\n",
            "Predicted sentiment :  Positive\n",
            "아주 살이 쏘옥 빠졌네 이양반 ㅠㅠㅠㅠ\n",
            "Predicted sentiment :  Positive\n",
            "몸조리잘하세요웅이님\n",
            "Predicted sentiment :  Negative\n",
            "웅이님 확진되었다는 소식듣고 걱정했어요. 전 웅이님 영상잘 보고있었어요. 항상 예전부터...전 2차밖에 안맞았고 3차도 하려고 했는데 간수치땜에 미뤘죠\n",
            "Predicted sentiment :  Positive\n",
            "웅이님영상은못참지\n",
            "Predicted sentiment :  Negative\n",
            "라면흡입할때 나도 같이 흡입하고있었다..ㅋㅋ\n",
            "Predicted sentiment :  Positive\n",
            "자메이카 완전 만화처럼 먹네 ㅋㅋ\n",
            "Predicted sentiment :  Positive\n",
            "저도그랬는데 2주에서 늦으면 두달정도 입맛은꼭돌아온다고 의사쌤이그랬어용! 후각 미각 다돌아오니 너무걱정마세용 아파도 잘드시는게 최고입니다^^화이팅♡\n",
            "Predicted sentiment :  Negative\n",
            "곧 다 돌아올꺼예요~~~너무 걱정마시길♡♡\n",
            "Predicted sentiment :  Positive\n",
            "힘내셔요!화이팅^^\n",
            "Predicted sentiment :  Positive\n",
            "후각을 잃으면 미각도 같이 잃게 되더라구여ㅜ육회비빔밥의 맛을 못느끼다니ㅜㅜㅜㅜ얼른 쾌차하세요~~~!!!\n",
            "Predicted sentiment :  Positive\n",
            "코로나 걸리면 답답하죠 웅이님 힘내세요 ㅎㅎ\n",
            "Predicted sentiment :  Positive\n",
            "살 많이 빠지셨네요. ㅠㅠ 어서 후각이 돌아오시고 예전처럼 건강해 지셨으면 좋겠어요. 다 나으시고 몸에 좋은 음식으로 몸보신하는거 보고싶어요!\n",
            "Predicted sentiment :  Positive\n",
            "맛이안느껴지는데 설렁탕이 맛있다는건ㅋㅋㅋㅋㅋ\n",
            "Predicted sentiment :  Negative\n",
            "웅이님  대박나세요\n",
            "Predicted sentiment :  Positive\n",
            "우리 딸랑이 코르나 후유증  미각상실 3주 넘게 가고있어요..웅이님도 좀 갈듯언능 건강해지길\n",
            "Predicted sentiment :  Positive\n",
            "귀엽당\n",
            "Predicted sentiment :  Negative\n",
            "입맛 돌아왔을때 영상 올려주시지... 무슨맛인지 모르겠다면서 한꺼번에 우걱 넣으시고... 먹방 보면서 대리만족하는데 그런 감동이 안느껴져서 아쉽네요,,, 쉴때는 푹 쉬시고 일하실때는 열일하시는 모습이 좋아요! 넘 무리하지마세요!\n",
            "Predicted sentiment :  Positive\n",
            "많이 회복이 되어서 다행이네요.한동안 맛을 못느낀다고 하더라고요.그래도 열심히 드셔서 건강회복 하시길 바래요..\n",
            "Predicted sentiment :  Positive\n",
            "전 8월2일날 격리해제인데..입맛이 너무없어요..ㅠ 죽도겨우먹는웅이님 먹는거보니 식욕생기는거 같아요 ㅋㅋ\n",
            "Predicted sentiment :  Negative\n",
            "웅이님 살빠진거 정확하게 제가 맞췄네요빨리 회복 하세요\n",
            "Predicted sentiment :  Positive\n",
            "감사합니다감사합니다 웅이님 사랑해요^^\n",
            "Predicted sentiment :  Positive\n",
            "몸이 다 회복된듯하네요 다행입니당~~~~\n",
            "Predicted sentiment :  Negative\n",
            "웅이님 코로나 걸렸을때 저도 처음 확진... 독감한번 안걸렸었는데... 여전히 미각 후각이 없는데 음식이 모든게 설탕퍼부은것 같아서 못먹고있어요!!! 이겨내자구요\n",
            "Predicted sentiment :  Positive\n",
            "하루속히 완쾌하길빌께요~\n",
            "Predicted sentiment :  Negative\n",
            "저도 웅이님이랑 비슷한 시기에 걸리고 10일 지났는데요! 저돜ㅋㅋㅋㅋ 똑같이 첫입만 맛이 느껴지고 그 다음에는 맛이 잘 안느껴져요 ㅠㅠ 저는 3차까지 다 맞았는데도 인후통 진짜 개ㅐㅐㅐㅐ 심했습니다 ㄹㅇ,,,\n",
            "Predicted sentiment :  Negative\n",
            "저희집은 지금  격리3일차. 2일차. 1일차셋이서 방국석에서 아효 ㅜㅜ3일차인 저는 웅이님 먹방보면서침흘리는중..임다\n",
            "Predicted sentiment :  Positive\n",
            "아이구..우리 웅이님 얼굴이 반쪽이 되었네ㅠㅠ 언능 쾌차 하세요! 화이팅!\n",
            "Predicted sentiment :  Positive\n",
            "저도 입맛 다 잃어버려서 식감있는것만 먹었던 기억이 ㅠㅜ 후미각은 오래 가더라구요그래도 잘 챙겨 드셔야해요 체력 떨어지는게 팍팍 느껴짐 ㅠㅜ\n",
            "Predicted sentiment :  Positive\n",
            "おいしいようです...\n",
            "Predicted sentiment :  Negative\n",
            "저희집은 격리4일차 3일차 1일차 골고루있는데요 격리1일차 너무힘드네요 잘드시는것 보니 좋습니다\n",
            "Predicted sentiment :  Negative\n",
            "진짜 얼굴 살 빠진거 봐.. 근데 얼굴살은 빠질거 다 빠지면 마지막에 빠진다던데.. 신기하넹\n",
            "Predicted sentiment :  Positive\n",
            "돌아온듯 ㅋㅋㅋ엄청 먹어 ~ 피디님 저분은 아주 멀쩡한것 같습니다\n",
            "Predicted sentiment :  Positive\n",
            "핼쓱 하니까 더 멎져부러 ^-^\n",
            "Predicted sentiment :  Negative\n",
            "진짜 맛이 안 느껴지나 봐요.. 맛있다는 말이 줄어써ㅜㅜㅜㅜ\n",
            "Predicted sentiment :  Negative\n",
            "저는 백신3차까지 맞았는데.... 3월23일에 걸린 코로나 아직도 기침해여...몸 관리 잘 해여!!!!\n",
            "Predicted sentiment :  Positive\n",
            "저는 오늘 확진판정 받았어요... 중요한 시험이 한달도 안남았는데.. 어디 잘 돌아다니지도 않고 집 이랑 독서실만 왔다갔다 했는데 대체 왜 걸린지 모르겠어요 평소 감기도 잘 안걸리는데 코로나는 정말 몇년만에 이렇게 아파본지 모를정도로 밤새 앓았네요... 제가 할 말은 아니지만 입맛 없으셔도 잘 드셔야 빨리 회복된대요! 힘내세요🥹🥹\n",
            "Predicted sentiment :  Positive\n",
            "아이들이 다 걸렷엇는데 둘째는 무증상인데 격리후몇달째  기침이계속 나서  약챙겨먹고있어요  격리후 한동안 건강 신경많이쓰서요 ! 격리 빨리지나길바래요\n",
            "Predicted sentiment :  Positive\n",
            "맛이 안느껴지는데 맛은 있다니....ㅎㅎ귀엽....ㅎㅎ살은 빠지신듯.ㅎㅎ\n",
            "Predicted sentiment :  Positive\n",
            "에구  안쓰러워라.. 언능  건강 회복하세요\n",
            "Predicted sentiment :  Positive\n",
            "좋은영상 잘보고 갑니다\n",
            "Predicted sentiment :  Negative\n",
            "맴이 짠하네요. 빠른시일내에  완쾌하시길 ~\n",
            "Predicted sentiment :  Negative\n",
            "웅이님 맛이랑 냄새 안나는거 코로나 걸려서 그런건데 만약에 자가격리 끝나고 일주일 지났는데도 맛이나 냄새 안나면 취두부먹어보시고 냄새 맡아보세요 냄새 안나고 맛도 안느껴지면 홍어먹어도 안되요 아마 두리안도 안될걸요? 유튜브에서 봤는데 취두부가 짱이에요 빨리 나으셔서 먹방 재밌게 해주세요\n",
            "Predicted sentiment :  Positive\n",
            "다 썩어서 몇개 안남고 문드러진 치아 입벌릴때마다 아슬아슬하게 보여서 음식보다 한쪽으로 앞니로 옹니처럼 씹는 모습만 눈에 들어와여 제발 치료한다고 거짓응답만 반복하지말고 구독자및 시청자들에 대한 먹방 크리에이터로써의.최소한의 성의라도 좀 보여줫으면\n",
            "Predicted sentiment :  Positive\n",
            "웅이 살빠진거봐강제 다이어트ㅜ 목소리가 아직 덜  돌아왔네ㅜ 힘내요\n",
            "Predicted sentiment :  Positive\n",
            "웅이님.화이팅입니다.\n",
            "Predicted sentiment :  Positive\n",
            "미각 잃었을때 매운거 먹으면 괜찮아지더라구요!후각,미각 잃으면 길면 몇달도 간대요..저는 미각, 후각 잃었을때 매운거 먹고후각 때문에 자극적인 냄새 맡으라해서계속 향피워놨었아용 저는 증상이 거의 한달? 좀 넘게 가더라구요.도움이 되실지 모르겠지만얼릉 나으세요!! 아프면 괴롭습니다ㅜㅜ\n",
            "Predicted sentiment :  Negative\n",
            "아프지마영엉!.저는 제식단실수및부주의로 30때부터 통퐁을몇차레격었고 먹고싶은것들을 못먹어서 서러운데 저는 통풍말고도 감기나 독감 또 코로나로아프면 얼마나 서러운데요!.아프지마영엉!.\n",
            "Predicted sentiment :  Positive\n",
            "Can you please have subtitles  btw you are so cute\n",
            "Predicted sentiment :  Negative\n",
            "목소리는 아직두 맹맹 그래두 영상으로보니 넘좋네유~\n",
            "Predicted sentiment :  Negative\n",
            "난 코로나 걸렸을때 맛도 안느껴지고 짠맛만 느껴져서 음식 먹을때 고통이였는데 ㄷㄷ\n",
            "Predicted sentiment :  Positive\n",
            "저도 백신 안맞은 상태에서 코로나 걸렸는데 저는 다행히 열은 없고 비교적 가볍게 지나갔고 목아픈것만 좀 오래갔었는데 웅이님은 심하셨네요 ㅠㅠ 힘들겠어요 ㅠㅠㅠ 속히 회복되길 바래요!!^^\n",
            "Predicted sentiment :  Positive\n",
            "난 맛이 안느껴지면...아무것도 못먹겠던데..\n",
            "Predicted sentiment :  Positive\n",
            "우와~~~웅~^^돌아왔구나♡\n",
            "Predicted sentiment :  Positive\n",
            "닭다리에  오돌뼈 안먹기 있기~ 없기~\n",
            "Predicted sentiment :  Negative\n",
            "핼쓱해졌네화이팅 하세요\n",
            "Predicted sentiment :  Negative\n",
            "헐 맛이 안난대ㅜㅠㅜㅜ 넘 슬프다..얼룽 낫길 바랄게요ㅜㅜ\n",
            "Predicted sentiment :  Negative\n",
            "저도 오늘이 격리 마지막날입니다. 고생하셨어요\n",
            "Predicted sentiment :  Negative\n",
            "입맛 없다고 했는데 너무 맛있게 먹는데?zㅋㅋ\n",
            "Predicted sentiment :  Positive\n",
            "자가격해제끝까지 힘내세요!\n",
            "Predicted sentiment :  Negative\n",
            "살이진짜.마니.빠지셨어요..,**건강해지셔서.,,**보기좋아요..,,**잘드시구.,건강잘챙기셔요..,**저도.한번아프면.음척아파요..,**그심정.알아요..,**\n",
            "Predicted sentiment :  Negative\n",
            "근데 코로나 격리해제 후에도 몇일간 입맛이 없어지더라.\n",
            "Predicted sentiment :  Positive\n",
            "자연면역이 짱이랍니다~!!!지금껏 잘버티셨네요~회복잘하시고 백신은 맞지마세요~~^^\n",
            "Predicted sentiment :  Negative\n",
            "아무리봐도 입맛이 없는 사람이 아닌데....\n",
            "Predicted sentiment :  Negative\n",
            "웅이님 바쁘신건 이해하겠으나 1차부터 백신 맞으시지 그러셨어요..지금은 진료비도 마니 드는데...접종 하시구 항체 생기셨음 지금보다 덜 아프시지 않으셨을까 생각이 듭니다..\n",
            "Predicted sentiment :  Negative\n",
            "웅이 부터 사랑하기 ...\n",
            "Predicted sentiment :  Positive\n",
            "웅이 얼굴이 홀쭉해졌누ㅠ\n",
            "Predicted sentiment :  Positive\n",
            "자가격리 끝나고 pcr검사 음성 나와야 할듯요..시국이 시국인지라 혹여나 웅이님 뭇매로 이어질수있으니.. ㅡㅡ\n",
            "Predicted sentiment :  Negative\n",
            "힘내세요 \n",
            "Predicted sentiment :  Negative\n",
            "오메나.광대뼈 보이는거보소.얼마나 아팠으면..ㅠ.ㅠ 맴찢이예요ㅠ.ㅠ\n",
            "Predicted sentiment :  Negative\n",
            "입맛 후각 다 돌아와요..~\n",
            "Predicted sentiment :  Positive\n",
            "다행이네 요  걱정했는데  웅이한테 첫글 남겨요 백신 나도 잘모르지만  맞았으면 덜아프지않았을까  걍 엄마맘으로 걱정되서 한소리에여 암튼  넘들게 영상할려고 하지마여  진심으로  콜라님들은 다 기다려줘여 즐건  맘으로 보는게 더 좋을까 싶어서 두서없이 보냅니다\n",
            "Predicted sentiment :  Negative\n",
            "저도 원래 실여급여 받을동안에 안맞을라고했었는데... 나중에 알바몬보니까 1차나2차까지맞아야 취업이된다해서 실여급여 받는동안에 3차까지 맞았어요!주사맞으면 그래도 괜찮다하더라구여..3차까지맞아ㅆ는데 저는 안걸여봤어여...\n",
            "Predicted sentiment :  Negative\n",
            "맞아요 저도 그랬어요~^^전 2차까지 맞았는데 걸렸었는데후각을 잃고 맛을 모르겠더라구요~\n",
            "Predicted sentiment :  Negative\n",
            "나도 백신 안맞고 버티고 있오 ㅎ 맛이 안느껴도 잘먹는 모습 보니 많이 낳았구나 그럼~입맛은 돌아올거야 걱정말고 이제부터 건강 더 챙겨 오늘 영상 잘 봤어용~~\n",
            "Predicted sentiment :  Positive\n",
            "저도 후각미각잃은지 2주가 다됬는데 아직도 안돌아와요ㅠㅠㅠㅠㅠㅠㅠㅠ웅이님도 저도 얼른 돌아오길\n",
            "Predicted sentiment :  Negative\n",
            "이 많은 음식 낭비...   사람의 건강...\n",
            "Predicted sentiment :  Positive\n",
            "이런 것들에 재미를 느끼시는 분들에게 답답함을 금할 수가 없네요.\n",
            "Predicted sentiment :  Positive\n",
            "외로움이 만든 문화라 고는 하지만 너무 낭비 적인 음식 먹는 영상 중독 된 거로 보입니다.\n",
            "Predicted sentiment :  Negative\n",
            "부디 나눔 활동 이나 좋은 일 이라도 많이 해주시길 바랍니다.\"\n",
            "Predicted sentiment :  Positive\n",
            "원래 몸이 안좋으면 방송을 쉬어야한게 아니었나??? 먹는것도 먹지만 방송을 휴방하고 죽 먹으면서 상태를 지켜보고 진행하든지 말든지 결정해야할 문제였다고 저는 생각합니다\n",
            "Predicted sentiment :  Negative\n",
            "인후통 없는것두 복!!!!있었으면 목구멍 찢어지는 통증을느끼셨을듯\n",
            "Predicted sentiment :  Positive\n",
            "안녕하세요 웅이님 빨리 나으셔서 다행입니다 에고 얼굴이 반쪽 ㅠ 고생많이했어요 ㅠ 부탁 하나 드려도 될까요? 국수 라면등등 면먹을때 후루룩 소리내는건 일본문화입니다 ㅠ 먹방하시는 분들은 잘 모르시는 것 같아서 ㅠ 웅이님이 먼저 솔선수범 해주시면 더 좋을 것 같은데 ㅠ 어떻게 생각하시나요? 일본문화를 굳이 따라할 필요는 없지 않나요 ㅠ 모르시는 분들도 많은것 같아요ㅠ 만약 웅이님이 콘텐츠를 하게되면 많은 사람들이 알게되면 그 또한 보람아니겠습니까? 그럼 웅이님 아프지마세요 홧팅!!\n",
            "Predicted sentiment :  Negative\n",
            "후각 돌아오려면 취두부가 좋다더라구요...ㅎ\n",
            "Predicted sentiment :  Negative\n",
            "백신을 안맞으셨다니....맞으시는게 좋을텐데 걸려서 슈퍼항체니 뭐니...그래도 맞으시는게 좋아요...\n",
            "Predicted sentiment :  Positive\n",
            "백신 접종은 개인의 선택이므로 문제될 것이 없고 식당 출입시에는 그때마다 적용되었던 방역수칙을 지켜가며 촬영하였습니다.\n",
            "Predicted sentiment :  Negative\n",
            "백신접종을 안했어요? 그럼 크게 아프다던데ᆢᆢ그래서 엄청 고생했나봐요ㅠ\n",
            "Predicted sentiment :  Negative\n",
            "격리6일차 입니다...후각을잃었어요..웅이님도그렇군요..아무냄새가안나요..음식은8할이 냄새였나봅니다..ㅜㅜ맛ㄴㅏ보여요..맛이안나는게문제지만;;;화이팅입니다~^^\n",
            "Predicted sentiment :  Negative\n",
            "지금 엄청 매운 거 먹어도 맛 날까요????\n",
            "Predicted sentiment :  Positive\n",
            "라면 먹을때까지 넘겨봄\n",
            "Predicted sentiment :  Positive\n",
            "먹고  어서  기운차리십시오\n",
            "Predicted sentiment :  Positive\n",
            "어우 진짜 얼굴이 많이 헬슥해졌네..하고있었는데 라면먹는 부분에서 갑자기 아프기 전 얼굴로 돌아옴...진짜 맛이 일도 안느껴지고 음식의 감촉만느껴짐..냄새도 진짜 신기하게 한가지 향만 느껴짐..연기냄새같은거..웅이 아팠네ㅜㅜ에이그 짠한것...\n",
            "Predicted sentiment :  Positive\n",
            "설렁탕 보다 갈비탕 ~ 파~ \n",
            "Predicted sentiment :  Positive\n",
            "많이 아프셨나봐요 먹는것도 힘들어보이셔요 평소때보단 ㅜ\n",
            "Predicted sentiment :  Negative\n",
            "몸보신하구 얼른나아용~~~\n",
            "Predicted sentiment :  Negative\n",
            "진짜로  자메이카  통닭 어디껀데예?\n",
            "Predicted sentiment :  Positive\n",
            "언능 +× 코멩멩 탈출\n",
            "Predicted sentiment :  Negative\n",
            "증상이 똑같아서 어떤 느낌인지 알거같아욬ㅋㅋㅋㅋ저도 인후통 1도 없고 몸살때문에 죽을뻔ㅋㅋㅋ후각 미각을 잃어버리는 줄 알고 겁났었다는ㅋㅅㅋ\n",
            "Predicted sentiment :  Positive\n",
            "신메뉴쭈꾸미국수준비할께요^^빨리오세요\n",
            "Predicted sentiment :  Negative\n",
            "입맛없을땐  라면에 청양고추잔뜩넣고   얼끈하게먹으면  입맛돌아오지  아니면  쓴맛을   먹든지  ᆢㅋ\n",
            "Predicted sentiment :  Negative\n",
            "ㅎㅎ잘먹어야 이깁니다.  면력이 떨어지면 아차 하는것 입니다. ~~건강이 최고^&*\n",
            "Predicted sentiment :  Positive\n",
            "Why don’t his last 2 videos have subtitles?\n",
            "Predicted sentiment :  Negative\n",
            "먹방^^~\n",
            "Predicted sentiment :  Positive\n",
            "7:57 콜라로 끼부리기 \n",
            "Predicted sentiment :  Negative\n",
            "파이팅 !!!!!\n",
            "Predicted sentiment :  Positive\n",
            "이제 먹방은 무식하게 많이 먹는건 지향하고 맛있게먹고 건강한 식사를 했으면...많이 먹는게 뭐 자랑이라고....\n",
            "Predicted sentiment :  Negative\n",
            "난 저것들이 무슨 맛이 나는지 알아 괴롭습니다\n",
            "Predicted sentiment :  Positive\n",
            "먹는데 쪼매 아파 보여요. 미각 얼른 찾으시길.\n",
            "Predicted sentiment :  Negative\n",
            "아이공...엊그제보다 얼굴이마니나아졌네여... 마음이짠할정도로 마니아파보였는데....이제우리 아푸지말기루\n",
            "Predicted sentiment :  Negative\n",
            "사람마다증상이다르다고하던데. 직먹는거보니. 괜찮겠어요\n",
            "Predicted sentiment :  Negative\n",
            "저도 이제 격리해지된지 이틀됐는데 목소리가 안돌아와요..웅이님도 목소리가 안좋으시네요.물자주마시구 카페인은 안먹는게 좋대요!!\n",
            "Predicted sentiment :  Negative\n",
            "Aww I seen a doggy \n",
            "Predicted sentiment :  Negative\n",
            "아직도 약간 코 막히는 것 같아요 살도 빠져 보이구요 남은 하루 화이팅 입니다\n",
            "Predicted sentiment :  Positive\n",
            "맞아~ 안아프다가 한번아프면 죽도록아픔 ㅠㅠ그래도 우리웅이 영상찍어올리느라 고생하네요 근데 왜 나는 저기에 숟가락하나 들이밀고싶은지\n",
            "Predicted sentiment :  Positive\n",
            "항상잘보고있습니다 면찌기할때   제발깝치지망고방청스럽게는하지마요일부러  보여질라고가학적인모습   표납니다\n",
            "Predicted sentiment :  Negative\n",
            "웅이   고생한다\n",
            "Predicted sentiment :  Positive\n",
            "라면엔 저 ~ 저 냄비징 ~  ㅋㅋㅋㅋ\n",
            "Predicted sentiment :  Positive\n",
            "입맛을 잃은적이없었던거아닌가?\n",
            "Predicted sentiment :  Negative\n",
            "뭔가  억지로 먹는 느낌..맛도 냄새도 없이  먹는 것이  즐거운  일은  아닌듯하니...완쾌하면  업로드하시고  몸조리 하세요...걱정됩니다..\n",
            "Predicted sentiment :  Negative\n",
            "취두부 드셔보셈 바로 돌아옴\n",
            "Predicted sentiment :  Positive\n",
            "웅이씨건강화세요안대보여\n",
            "Predicted sentiment :  Negative\n",
            "두부는 어디에 잇나요??언릉 건강회복하셔요~~\n",
            "Predicted sentiment :  Negative\n",
            "님때문에 간염된 분들 걱정도 해 주시면 좋을것 같네요\n",
            "Predicted sentiment :  Positive\n",
            "아딸내미 너무 잘 먹던데살 빠질까요\n",
            "Predicted sentiment :  Positive\n",
            "저희애도 백신 안맞았어요ㅜㅜ지금까지 열난게 손꼽을정도로 감기도 잘 안걸리거든요~와~코로롱~무섭네요ㅜㅜ웅이삼촌 보라고! 삼촌처럼 잘먹어야 빨리 낫는다고 하믄서 시청했어요ㅎㅎㅎ저희딸도 매끼니마다 거의 양푼으로 먹는 대식가거든요ㅎ얼른 나아서 양푼째 밥먹는 딸래미 보고 싶네요~^^\n",
            "Predicted sentiment :  Positive\n",
            "볼때마다 느끼지만 너무 많이 먹는다 ㅋㅋㅋㅋㅋ\n",
            "Predicted sentiment :  Positive\n",
            "메이크업을 떠나서 얼굴 혈색이 좀더 창백해보이긴하네요. 힘도 없어보이고 잘먹고 빨리 나으세요\n",
            "Predicted sentiment :  Negative\n",
            "완캐하세요!\n",
            "Predicted sentiment :  Negative\n",
            "백신은 왜... 안맞으셨어요?\n",
            "Predicted sentiment :  Negative\n",
            "아프지마웅\n",
            "Predicted sentiment :  Negative\n",
            "쾌차하세요\n",
            "Predicted sentiment :  Negative\n",
            "저도..코로걸렸을때..아무것도못느끼고..그냥먹었는데..무조건..그냥먹어야해요..\n",
            "Predicted sentiment :  Positive\n",
            "아픈거 그만 한거 같아 왕자님방가방가\n",
            "Predicted sentiment :  Negative\n",
            "도대체 후각은 언제 돌아오나요 하루종일 탄내에 담배냄새 비슷한 가짜냄새만 나고 ㅠㅠ 맛도 잘 안느껴지고 ㅠㅠ\n",
            "Predicted sentiment :  Negative\n",
            "힘들죠?저두 요줌 힘이드내요 ㅠㅠ2주전 큰애가 걸렸는뎅 엇그제 작은애가 걸려 병간호로  무기력하고 우울하고 그러내요.내가 걸렸을땐 나만쉬면 되는돼.보호 ?간호?해야하는 입장이..므튼 빨리 낳으시길.멎진먹방 보여줘요~화이팅!\n",
            "Predicted sentiment :  Positive\n",
            "입맛이.. 없으시구나..? 맞나..\n",
            "Predicted sentiment :  Negative\n",
            "부러움 살빠진거…….\n",
            "Predicted sentiment :  Negative\n",
            "전 미각상실했을때 레몬좀먹었더니 2~3일만에 돌아왔어요\n",
            "Predicted sentiment :  Negative\n",
            "실시간언제해요..?ㅠㅠ\n",
            "Predicted sentiment :  Positive\n",
            "열 나는데 매니져를 불렀다고요?  매니져는 무슨죄?   예의바른듯 하면서 무개념일때가 많음\n",
            "Predicted sentiment :  Positive\n",
            "지금은사무실이라~집에가서볼께요~^^\n",
            "Predicted sentiment :  Negative\n",
            "오오오!\n",
            "Predicted sentiment :  Negative\n",
            "살이쏙빠졌구먼\n",
            "Predicted sentiment :  Negative\n",
            "백신 안맞는건 개인선택이니 그러려니하는데 먹방유튜버가 그동안 백신안맞고 식당어떻게 출입했지?\n",
            "Predicted sentiment :  Negative\n",
            "저도 자가격리 6일차에 냄새가안나요...\n",
            "Predicted sentiment :  Negative\n",
            "빨리 가서 백신 맞으세요 아프면 안되는데 얼른 입맛이 돌아 오기를 바랄게요 아이고 살 좀 빠졌네️️️\n",
            "Predicted sentiment :  Negative\n",
            "입맛 없는거 맞아요???????? @.@\n",
            "Predicted sentiment :  Positive\n",
            "매니저님도 아프신가요?\n",
            "Predicted sentiment :  Negative\n",
            "아 난이번애 걸렸는데. 인후통 좃됩나다 지금 ….물넘기기도 힘듬..\n",
            "Predicted sentiment :  Positive\n",
            "열이 39.5  ?  \n",
            "Predicted sentiment :  Negative\n",
            "에고에고ㅡ아직도목소리가ㅡㅡ예전같지않네요ㅡ빨리더나으세요~~\n",
            "Predicted sentiment :  Negative\n",
            "딸이 코로나 걸려 지금 맛을 모르겠다네요\n",
            "Predicted sentiment :  Positive\n",
            "괜찮으신거죠?\n",
            "Predicted sentiment :  Negative\n",
            "빨리 나아요~^^\n",
            "Predicted sentiment :  Positive\n",
            "저도열재봤는데코로나때그정도나왔어요\n",
            "Predicted sentiment :  Negative\n",
            "배고프다....ㅜ\n",
            "Predicted sentiment :  Positive\n",
            "후각과 미각을 잃다니.........회사 후배가 약 7개월간 후각 미각이 100%  안돌아왔다고 함.현재는 정상이지만 ^~^\n",
            "Predicted sentiment :  Negative\n",
            "웅하!\n",
            "Predicted sentiment :  Negative\n",
            "아니 왜 백신 안 맞았죠?\n",
            "Predicted sentiment :  Negative\n",
            "언제쯤~~코가 뚫어지려나요??코로나 조심하라는 영상인듯요~~\n",
            "Predicted sentiment :  Positive\n",
            "오 ? 백신하나도안맞았어요?\n",
            "Predicted sentiment :  Positive\n",
            "압구정에서 술먹고 놀아서 역병 걸린거임\n",
            "Predicted sentiment :  Negative\n",
            "우리 이쁜이 누가 괴롭혀써\n",
            "Predicted sentiment :  Negative\n",
            "큽입맛이 없으십니까\n",
            "Predicted sentiment :  Negative\n",
            "자가치료해야지 왜 싸돌아댕김?당연히 코로나구만\n",
            "Predicted sentiment :  Negative\n",
            "한의원 가보시라고요~~~~~~\n",
            "Predicted sentiment :  Negative\n",
            "잉 백신은 왜안맞으신 거예요? 식당 엄청 다니는데 좀 그렇지 않나요ㅠㅠ\n",
            "Predicted sentiment :  Positive\n",
            "ㅋㅋ\n",
            "Predicted sentiment :  Positive\n",
            "살 빠진거 같은 느낌이에요\n",
            "Predicted sentiment :  Negative\n",
            "이분 코로나 걸리지 않으셨나?\n",
            "Predicted sentiment :  Positive\n",
            "백신을 한번도 안 맞았었다니 돌아다니는 직업을 갖고 있는 사람이 촘 무책임했네요\n",
            "Predicted sentiment :  Negative\n",
            "ㅠ언제쯤 미각과후각이돌아올까요...ㅠ\n",
            "Predicted sentiment :  Negative\n",
            "근데더 미남된듯ㅇㆍ\n",
            "Predicted sentiment :  Negative\n",
            "넘말랐어어허어엉\n",
            "Predicted sentiment :  Negative\n",
            "웅이님의 구독자들도 함께 알면 좋은 정보가 있어서 댓글을 올립니다. 기존의 치의학 이론에 오류가 많아서 그 이론으로 만든 치약은 효과가 거의 없고 그래서 많은 치주 질환이 발생하므로 치과는 장사가 잘 되고 있어요. 그래서 과학의 재발견의 저자가 산중에서 수행하면서 야생동물은 평생 치석과 치주질환이 없다는 것을 발견하고 연구해서 칫솔이 필요 없는 신개념 치약을 만들었답니다. 이 치약(길몽웰빙치약)을 사용하면 잇몸이 야생동물처럼 강해져서 평생 치석과 치주질환이 발생하지 않으며 잇몸통증과 시린이가 사라지고 코골이와 치매도 예방된다고 하네요. 치아가 나빠지면 맛있는 음식을 즐길 수가 없습니다. 그런데 치아와 잇몸은 한 번 무너지면 회복이 어려우므로 미리미리 관리해야 합니다. 행복은 건강에서 시작되고 건강은 치아에서 시작됩니다.\n",
            "Predicted sentiment :  Positive\n",
            "ㅋㅋㅋㅋ 저두 미접종자 ㅋㅋㅋ저두 열이 자꾸나여 ㅜㅜㅜ 집에만 있는데 춥고 극세사안에서 몇일동안 ㅜㅜㅋㅋㅋ\n",
            "Predicted sentiment :  Positive\n",
            "안경 벗어라!!!\n",
            "Predicted sentiment :  Positive\n",
            "백신 안맞은게 자랑인가?내가 백신  맞은  이유는 내기족  내이웃 때문이였는데  참 괜찮아보여 봐왔었는데...완전   대박   개  쓰레기...\n",
            "Predicted sentiment :  Negative\n",
            "자가격리 겁니운운하네 영상까지올리고  영상올린날도 혼자 좁나처묵었다면서요\n",
            "Predicted sentiment :  Positive\n",
            "싫어요 4개 실회냐고\n",
            "Predicted sentiment :  Negative\n",
            "백신은 왜 안맞으셨어요?\n",
            "Predicted sentiment :  Negative\n",
            "여보~\n",
            "Predicted sentiment :  Negative\n",
            "더잘생겨보여요 ㅅㅅ\n",
            "Predicted sentiment :  Negative\n",
            "저랑증상이같네요\n",
            "Predicted sentiment :  Negative\n",
            "얼굴이 반쪽이 네요....\n",
            "Predicted sentiment :  Negative\n",
            "아니 백신도 안맞고 그동안 그렇게 많은 음식점 돌아다녔던거임? 사람들 모자이크 안하고 인성논란 터졌을때도 그런가보다 했는데 착한척 남 배려하는척 하더니 결국엔 쯧쯧\n",
            "Predicted sentiment :  Negative\n",
            "너땜에얼마나만은사람듵이걸여쓸까생각은안하냐??\n",
            "Predicted sentiment :  Negative\n",
            "백신은 맞아라 게이야.\n",
            "Predicted sentiment :  Negative\n",
            "오\n",
            "Predicted sentiment :  Positive\n",
            "너땜에얼마나만은사람들이걸렸다구는생각안하냐?건강?\n",
            "Predicted sentiment :  Positive\n"
          ]
        }
      ],
      "source": [
        "new_sentence = [                               ]\n",
        "\n",
        "encoded = tokenizer.texts_to_sequences(new_sentence)#정수인코딩\n",
        "\n",
        "padded = pad_sequences(encoded, padding='pre', maxlen=max_len) #패딩\n",
        "\n",
        "prediction = model.predict(padded)\n",
        "pred_labels = []\n",
        "for i in prediction:\n",
        "    if i >= 0.5:\n",
        "        pred_labels.append(1)\n",
        "    else:\n",
        "        pred_labels.append(0)\n",
        "        \n",
        "for i in range(len(new_sentence)):\n",
        "    print(new_sentence[i])\n",
        "    if pred_labels[i] == 1:\n",
        "        s = 'Positive'\n",
        "    else:\n",
        "        s = 'Negative'\n",
        "    print(\"Predicted sentiment : \",s)\n"
      ]
    },
    {
      "cell_type": "code",
      "execution_count": null,
      "metadata": {
        "colab": {
          "base_uri": "https://localhost:8080/",
          "height": 297
        },
        "id": "xw1ptcEvxyHK",
        "outputId": "192c39c0-a8cd-4f91-b2c7-46b4541f9ee7"
      },
      "outputs": [
        {
          "data": {
            "image/png": "[encoded data removed]",
            "text/plain": [
              "<Figure size 432x288 with 1 Axes>"
            ]
          },
          "metadata": {},
          "output_type": "display_data"
        }
      ],
      "source": [
        "total = len(positive) + len(negative)\n",
        "\n",
        "def percentage(positive,  negative):\n",
        "    return 100*float(positive)/float(total) \n",
        "\n",
        "\n",
        "count=0\n",
        "positive=0\n",
        "negative=0\n",
        "\n",
        "\n",
        "if(new_sentence=='Positive'):\n",
        "        positive += 1\n",
        "else:\n",
        "        negative += 1\n",
        "\n",
        "positive=percentage(positive,100)\n",
        "negative=percentage(negative,100)\n",
        "\n",
        "labels=['[positive]', '[negative]']\n",
        "sizes=[positive,negative]\n",
        "colors=['yellowgreen',\"gold\"]\n",
        "chart=plt.pie(sizes,labels=labels, startangle=90, autopct='%.2f%%',shadow=True,colors=colors)\n",
        "plt.title(\"piechart\")\n",
        "plt.axis(\"equal\")\n",
        "plt.tight_layout()\n",
        "plt.show()"
      ]
    },
    {
      "cell_type": "code",
      "execution_count": null,
      "metadata": {
        "colab": {
          "base_uri": "https://localhost:8080/"
        },
        "id": "uuAimJSH9qEA",
        "outputId": "e35bb39e-ff61-4daf-fa2f-95f000d69a2d"
      },
      "outputs": [
        {
          "name": "stdout",
          "output_type": "stream",
          "text": [
            "[감성분석 결과]\n",
            "80.74% 확률로 부정 댓글입니다.\n",
            "\n"
          ]
        }
      ],
      "source": [
        "def sentiment_predict(new_sentence):\n",
        "  new_sentence = re.sub(r'[^ㄱ-ㅎㅏ-ㅣ가-힣 ]','', new_sentence)\n",
        "\n",
        "  new_sentence = okt.morphs(new_sentence, stem=True) # 토큰화\n",
        "  \n",
        "  new_sentence = [word for word in new_sentence if not word in stopwords] # 불용어 제거\n",
        "  \n",
        "  encoded = tokenizer.texts_to_sequences([new_sentence]) # 정수 인코딩\n",
        "  \n",
        "  pad_new = pad_sequences(encoded, maxlen = max_len) # 패딩\n",
        "  \n",
        "  score = float(loaded_model.predict(pad_new)) # 예측\n",
        "  \n",
        "  if(score > 0.5):\n",
        "    print(\"{:.2f}% 확률로 긍정 댓글입니다.\\n\".format(score * 100))\n",
        "  else:\n",
        "    print(\"{:.2f}% 확률로 부정 댓글입니다.\\n\".format((1 - score) * 100))\n",
        "\n",
        "print('[감성분석 결과]')\n",
        "sentiment_predict(\"쓰레기\")"
      ]
    }
  ],
  "metadata": {
    "accelerator": "GPU",
    "colab": {
      "collapsed_sections": [],
      "provenance": [],
      "authorship_tag": "ABX9TyM8k5jSCJoQXEhjAIIPQCCA",
      "include_colab_link": true
    },
    "gpuClass": "standard",
    "kernelspec": {
      "display_name": "Python 3",
      "name": "python3"
    },
    "language_info": {
      "name": "python"
    }
  },
  "nbformat": 4,
  "nbformat_minor": 0
}